{
 "cells": [
  {
   "cell_type": "code",
   "execution_count": null,
   "metadata": {},
   "outputs": [],
   "source": [
    "import math\n",
    "import numpy as np"
   ]
  },
  {
   "cell_type": "code",
   "execution_count": 7,
   "metadata": {},
   "outputs": [],
   "source": [
    "ADAPTER = {\n",
    "    \"Amobee\":{\n",
    "        \"adset_id\":\"package_id\",\n",
    "        \"campaign_id\":\"ioid\",\n",
    "        \"adset_progress\":\"package_progress\",\n",
    "        \"campaign_progress\":\"io_progress\"\n",
    "    },\n",
    "    \"Facebook\":{\n",
    "        \"adset_id\":\"adset_id\",\n",
    "        \"campaign_id\":\"campaign_id\",\n",
    "        \"adset_progress\":\"adset_progress\",\n",
    "        \"campaign_progress\":\"campaign_progress\"\n",
    "    }\n",
    "}"
   ]
  },
  {
   "cell_type": "code",
   "execution_count": 3,
   "metadata": {},
   "outputs": [],
   "source": [
    "BID = 'bid'\n",
    "INIT_BID = 'init_bid'\n",
    "LAST_BID = 'last_bid'"
   ]
  },
  {
   "cell_type": "code",
   "execution_count": 4,
   "metadata": {},
   "outputs": [],
   "source": [
    "CENTER = 1\n",
    "WIDTH = 10\n",
    "BID_RANGE = 0.8\n",
    "def normalized_sigmoid_fkt(center, width, progress):\n",
    "    s= 1/(1+np.exp(width*(progress-center)))\n",
    "    return s"
   ]
  },
  {
   "cell_type": "code",
   "execution_count": 6,
   "metadata": {},
   "outputs": [],
   "source": [
    "def bid_adjust(media, **status):\n",
    "    init_bid = status.get(INIT_BID)\n",
    "    last_bid = status.get(LAST_BID)\n",
    "    ADSET_PROGRESS = ADAPTER[media].get(\"adset_progress\")\n",
    "    CAMPAIGN_PROGRESS = ADAPTER[media].get(\"campaign_progress\")\n",
    "    adset_progress = status.get(ADSET_PROGRESS)\n",
    "    campaign_progress = status.get(CAMPAIGN_PROGRESS)\n",
    "    if adset_progress > 1 and campaign_progress > 1:\n",
    "        bid = math.ceil(init_bid)\n",
    "    elif adset_progress > 1 and campaign_progress < 1:\n",
    "        bid = last_bid\n",
    "    else:\n",
    "        bid = BID_RANGE*init_bid*( normalized_sigmoid_fkt(CENTER, WIDTH, adset_progress) - 0.5 )\n",
    "    \n",
    "    return bid"
   ]
  },
  {
   "cell_type": "code",
   "execution_count": null,
   "metadata": {},
   "outputs": [],
   "source": [
    "import facebook_adapter"
   ]
  },
  {
   "cell_type": "code",
   "execution_count": null,
   "metadata": {},
   "outputs": [],
   "source": [
    "status = facebook_adapter.main()"
   ]
  },
  {
   "cell_type": "code",
   "execution_count": null,
   "metadata": {},
   "outputs": [],
   "source": [
    "status"
   ]
  },
  {
   "cell_type": "code",
   "execution_count": null,
   "metadata": {},
   "outputs": [],
   "source": [
    "a+1"
   ]
  },
  {
   "cell_type": "code",
   "execution_count": null,
   "metadata": {},
   "outputs": [],
   "source": []
  }
 ],
 "metadata": {
  "kernelspec": {
   "display_name": "Python 3",
   "language": "python",
   "name": "python3"
  },
  "language_info": {
   "codemirror_mode": {
    "name": "ipython",
    "version": 3
   },
   "file_extension": ".py",
   "mimetype": "text/x-python",
   "name": "python",
   "nbconvert_exporter": "python",
   "pygments_lexer": "ipython3",
   "version": "3.5.2"
  }
 },
 "nbformat": 4,
 "nbformat_minor": 2
}
