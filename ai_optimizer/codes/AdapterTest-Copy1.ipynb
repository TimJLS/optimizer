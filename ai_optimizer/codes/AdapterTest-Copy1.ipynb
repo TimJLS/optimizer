{
 "cells": [
  {
   "cell_type": "code",
   "execution_count": 1,
   "metadata": {},
   "outputs": [],
   "source": [
    "import datetime\n",
    "import pandas as pd\n",
    "import mysql_adactivity_save\n",
    "import bid_operator"
   ]
  },
  {
   "cell_type": "code",
   "execution_count": null,
   "metadata": {},
   "outputs": [],
   "source": [
    "import tqdm"
   ]
  },
  {
   "cell_type": "code",
   "execution_count": 2,
   "metadata": {},
   "outputs": [],
   "source": [
    "DATADASE = \"dev_facebook_test\"\n",
    "START_TIME = 'start_time'\n",
    "STOP_TIME = 'stop_time'\n",
    "AD_ID = 'ad_id'\n",
    "ADSET_ID = 'adset_id'\n",
    "CAMPAIGN_ID = 'campaign_id'\n",
    "CHARGE = 'charge'\n",
    "BID_AMOUNT = 'bid_amount'\n",
    "REQUEST_TIME = 'request_time'\n",
    "TARGET_LEFT = 'target_left'"
   ]
  },
  {
   "cell_type": "code",
   "execution_count": 3,
   "metadata": {},
   "outputs": [],
   "source": [
    "INIT_BID = 'init_bid'\n",
    "LAST_BID = 'last_bid'\n",
    "ADSET_PROGRESS = 'adset_progress'\n",
    "CAMPAIGN_PROGRESS = 'campaign_progress'"
   ]
  },
  {
   "cell_type": "code",
   "execution_count": 17,
   "metadata": {},
   "outputs": [],
   "source": [
    "class FacebookCampaignAdapter(object):\n",
    "    def __init__(self, campaign_id):\n",
    "        self.mydb = mysql_adactivity_save.connectDB( DATADASE )\n",
    "        self.limit = 9000\n",
    "        self.hour_per_day = 20\n",
    "        self.campaign_id = campaign_id\n",
    "        self.request_time = datetime.datetime.now()\n",
    "        self.time_progress = ( self.request_time.hour + 1 ) / self.hour_per_day\n",
    "        self.init_bid_dict = dict()\n",
    "        self.last_bid_dict = dict()\n",
    "        \n",
    "    def get_df(self):\n",
    "        self.df_camp = pd.read_sql( \"SELECT * FROM campaign_target WHERE campaign_id=%s\" %( self.campaign_id ), con=self.mydb )\n",
    "#         self.df_ad = pd.read_sql( \"SELECT * FROM ad_insights where campaign_id = %s ORDER BY request_time DESC LIMIT %s\" %( self.campaign_id, self.limit ), con=self.mydb )\n",
    "        self.df_ad = pd.read_sql( \"SELECT * FROM adset_insights where campaign_id = %s\" %( self.campaign_id ), con=self.mydb )\n",
    "        return\n",
    "    \n",
    "    def get_bid(self):\n",
    "#             print(len(adset_list), self.campaign_id)\n",
    "        sql = \"SELECT adset_id, bid_amount, request_time FROM adset_insights WHERE campaign_id=%s ;\" % ( self.campaign_id )\n",
    "        df_adset = pd.read_sql( sql, con=self.mydb )\n",
    "        adset_list = df_adset['adset_id'].unique()\n",
    "        for adset in adset_list:\n",
    "            init_bid = df_adset[BID_AMOUNT][df_adset.adset_id==adset].head(1).iloc[0].astype(dtype=object)\n",
    "            last_bid = df_adset[BID_AMOUNT][df_adset.adset_id==adset].tail(1).iloc[0].astype(dtype=object)\n",
    "            self.init_bid_dict.update({ adset: init_bid })\n",
    "            self.last_bid_dict.update({ adset: last_bid })\n",
    "        return\n",
    "    \n",
    "    def get_campaign_days_left(self):\n",
    "        self.campaign_days_left = ( self.df_camp[ STOP_TIME ].iloc[0] - self.request_time ).days\n",
    "        return self.campaign_days_left\n",
    "    \n",
    "    def get_campaign_days(self):\n",
    "        self.campaign_days = ( self.df_camp[ STOP_TIME ].iloc[0] - self.df_camp[ START_TIME ].iloc[0] ).days\n",
    "        return self.campaign_days\n",
    "    \n",
    "    def get_campaign_performance(self):\n",
    "        ad_id_list = self.df_ad[ ADSET_ID ].unique()\n",
    "        dfs = pd.DataFrame(columns=[ ADSET_ID, TARGET ])\n",
    "        for ad_id in ad_id_list:\n",
    "            df_ad = self.df_ad[self.df_ad.adset_id==ad_id]\n",
    "            df = df_ad[[ TARGET, REQUEST_TIME ]][df_ad.request_time.dt.date==self.request_time]\n",
    "            dfs = pd.concat([dfs, df], axis=0, sort=False)\n",
    "        dfs = dfs.sort_values(by=[ TARGET ], ascending=False).reset_index(drop=True)\n",
    "        self.campaign_performance = dfs[ TARGET ].sum()\n",
    "        return self.campaign_performance\n",
    "    \n",
    "    def get_campaign_target(self):\n",
    "        self.campaign_target = self.df_camp[ TARGET_LEFT ].iloc[0].astype(dtype=object)\n",
    "        return self.campaign_target\n",
    "    \n",
    "    def get_campaign_day_target(self):\n",
    "        self.campaign_day_target = self.campaign_target / self.campaign_days_left\n",
    "        return self.campaign_day_target\n",
    "\n",
    "    def get_campaign_progress(self):\n",
    "        self.campaign_progress = self.campaign_performance / self.campaign_day_target\n",
    "        return self.campaign_progress\n",
    "    \n",
    "    def get_adset_list(self):\n",
    "        return self.df_ad[ ADSET_ID ].unique().tolist()\n",
    "    \n",
    "    def retrieve_campaign_attribute(self):\n",
    "        self.get_df()\n",
    "        self.get_bid()\n",
    "        self.get_campaign_days_left()\n",
    "        self.get_campaign_days()\n",
    "        self.get_campaign_performance()\n",
    "        self.get_campaign_target()\n",
    "        self.get_campaign_day_target()\n",
    "        self.get_campaign_progress()\n",
    "        return"
   ]
  },
  {
   "cell_type": "code",
   "execution_count": 20,
   "metadata": {},
   "outputs": [],
   "source": [
    "\n",
    "fb = FacebookCampaignAdapter(23843269222010540)\n",
    "fb.get_df()"
   ]
  },
  {
   "cell_type": "code",
   "execution_count": 23,
   "metadata": {},
   "outputs": [
    {
     "data": {
      "text/plain": [
       "'CONVERSIONS'"
      ]
     },
     "execution_count": 23,
     "metadata": {},
     "output_type": "execute_result"
    }
   ],
   "source": [
    "fb.df_camp['charge_type'].iloc[0]"
   ]
  },
  {
   "cell_type": "code",
   "execution_count": 5,
   "metadata": {},
   "outputs": [],
   "source": [
    "class FacebookAdSetAdapter(FacebookCampaignAdapter):\n",
    "    def __init__(self, adset_id, fb):\n",
    "        self.mydb = mysql_adactivity_save.connectDB( DATADASE )\n",
    "        self.adset_id = adset_id\n",
    "        self.fb = fb\n",
    "\n",
    "    def init_campaign(self, fb):\n",
    "        self.time_progress = fb.time_progress\n",
    "        self.limit = fb.limit\n",
    "        self.hour_per_day = fb.hour_per_day\n",
    "        self.request_time = fb.request_time\n",
    "        self.df_ad = fb.df_ad\n",
    "        self.init_bid_dict = fb.init_bid_dict\n",
    "        self.last_bid_dict = fb.last_bid_dict\n",
    "        self.campaign_days_left = fb.campaign_days_left\n",
    "        self.campaign_days = fb.campaign_days\n",
    "        self.campaign_performance = fb.campaign_performance\n",
    "        self.campaign_target = fb.campaign_target\n",
    "        self.campaign_day_target = fb.campaign_day_target\n",
    "        self.campaign_progress = fb.campaign_progress\n",
    "        return\n",
    "    \n",
    "    def get_campaign_id(self):\n",
    "        self.campaign_id = self.df_ad[ CAMPAIGN_ID ].iloc[0].astype(dtype=object)\n",
    "        return self.campaign_id\n",
    "    \n",
    "    def get_adset_day_target(self):\n",
    "        adset_num = len( self.df_ad[ ADSET_ID ].unique() )\n",
    "        self.adset_day_target = self.fb.campaign_day_target / adset_num\n",
    "        return self.adset_day_target\n",
    "    \n",
    "    def get_adset_performance(self):\n",
    "        self.adset_performance = self.df_ad[ CHARGE ][self.df_ad.adset_id==self.adset_id].iloc[0]\n",
    "        return self.adset_performance\n",
    "    \n",
    "    def get_bid(self):\n",
    "        self.init_bid = self.init_bid_dict[self.adset_id]\n",
    "        self.last_bid = self.last_bid_dict[self.adset_id]\n",
    "        return\n",
    "    \n",
    "    def get_adset_time_target(self):\n",
    "        self.adset_time_target = self.adset_day_target * self.time_progress\n",
    "        return self.adset_time_target\n",
    "    \n",
    "    def get_adset_progress(self):\n",
    "        self.adset_progress = self.adset_performance / self.adset_time_target\n",
    "        return self.adset_progress\n",
    "    \n",
    "    def retrieve_adset_attribute(self):\n",
    "        self.init_campaign(self.fb)\n",
    "        self.get_campaign_id()\n",
    "        self.get_adset_day_target()\n",
    "        self.get_adset_performance()\n",
    "        self.get_bid()\n",
    "        self.get_adset_time_target()\n",
    "        self.get_adset_progress()\n",
    "        return {\n",
    "            ADSET_ID:self.adset_id,\n",
    "            INIT_BID:self.init_bid,\n",
    "            LAST_BID:self.last_bid,\n",
    "            ADSET_PROGRESS:self.adset_progress,\n",
    "            CAMPAIGN_PROGRESS:self.campaign_progress\n",
    "        }"
   ]
  },
  {
   "cell_type": "code",
   "execution_count": null,
   "metadata": {},
   "outputs": [],
   "source": [
    "%%timeit\n",
    "fb = FacebookCampaignAdapter(23843355587140564)\n",
    "fb.retrieve_campaign_attribute()\n"
   ]
  },
  {
   "cell_type": "code",
   "execution_count": null,
   "metadata": {},
   "outputs": [],
   "source": [
    "%%timeit\n",
    "s = FacebookAdSetAdapter(23843355587230564, fb)\n",
    "s.retrieve_adset_attribute()"
   ]
  },
  {
   "cell_type": "code",
   "execution_count": 18,
   "metadata": {},
   "outputs": [
    {
     "name": "stdout",
     "output_type": "stream",
     "text": [
      "3.98 s ± 25.1 ms per loop (mean ± std. dev. of 7 runs, 1 loop each)\n"
     ]
    }
   ],
   "source": [
    "%%timeit\n",
    "camp_list = [23843355587140564]\n",
    "for camp in camp_list:\n",
    "    result={ 'media': 'Facebook', 'campaign_id': camp, 'contents':[] }\n",
    "    fb = FacebookCampaignAdapter(camp)\n",
    "    fb.retrieve_campaign_attribute()\n",
    "    adset_list = fb.get_adset_list()\n",
    "    for adset in adset_list:\n",
    "        s = FacebookAdSetAdapter(adset, fb)\n",
    "        status = s.retrieve_adset_attribute()\n",
    "        bid = bid_operator.adjust(**status)\n",
    "        result['contents'].append(bid)\n",
    "        del s\n",
    "    del fb\n",
    "#     print(result)"
   ]
  },
  {
   "cell_type": "code",
   "execution_count": 11,
   "metadata": {},
   "outputs": [
    {
     "data": {
      "text/plain": [
       "[{'adset_id': 23843408758540564, 'bid': 15.399967877624881},\n",
       " {'adset_id': 23843408758160564, 'bid': 15.399998439963298},\n",
       " {'adset_id': 23843391009620564, 'bid': 15.399999999985631},\n",
       " {'adset_id': 23843391008860564, 'bid': 15.4},\n",
       " {'adset_id': 23843391005840564, 'bid': 15.399999954236964},\n",
       " {'adset_id': 23843391005130564, 'bid': 15.39985423971386},\n",
       " {'adset_id': 23843355587240564, 'bid': 15.399758687277119},\n",
       " {'adset_id': 23843355587250564, 'bid': 15.399600498755419},\n",
       " {'adset_id': 23843355587260564, 'bid': 15.399988280280729},\n",
       " {'adset_id': 23843355587280564, 'bid': 15.399999999999988},\n",
       " {'adset_id': 23843355587270564, 'bid': 15.399967877624881},\n",
       " {'adset_id': 23843355587210564, 'bid': 15.39985423971386},\n",
       " {'adset_id': 23843355587220564, 'bid': 15.399988280280729},\n",
       " {'adset_id': 23843355587230564, 'bid': 15.399999430828144}]"
      ]
     },
     "execution_count": 11,
     "metadata": {},
     "output_type": "execute_result"
    }
   ],
   "source": [
    "result['contents']"
   ]
  }
 ],
 "metadata": {
  "kernelspec": {
   "display_name": "Python 3",
   "language": "python",
   "name": "python3"
  },
  "language_info": {
   "codemirror_mode": {
    "name": "ipython",
    "version": 3
   },
   "file_extension": ".py",
   "mimetype": "text/x-python",
   "name": "python",
   "nbconvert_exporter": "python",
   "pygments_lexer": "ipython3",
   "version": "3.6.7"
  }
 },
 "nbformat": 4,
 "nbformat_minor": 2
}
