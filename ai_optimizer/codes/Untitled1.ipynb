{
 "cells": [
  {
   "cell_type": "code",
   "execution_count": 1,
   "metadata": {},
   "outputs": [],
   "source": [
    "import json\n",
    "import requests"
   ]
  },
  {
   "cell_type": "code",
   "execution_count": 2,
   "metadata": {},
   "outputs": [
    {
     "data": {
      "text/plain": [
       "<facebook_business.api.FacebookAdsApi at 0x7f58b4913748>"
      ]
     },
     "execution_count": 2,
     "metadata": {},
     "output_type": "execute_result"
    }
   ],
   "source": [
    "from facebook_business.api import FacebookAdsApi\n",
    "my_app_id = '958842090856883'\n",
    "my_app_secret = 'a952f55afca38572cea2994d440d674b'\n",
    "my_access_token = 'EAANoD9I4obMBAPcoZA5V7OZBQaPa3Tk7NMAT0ZBZCepdD8zZBcwMZBMHAM1zPeQiRY4Yw07rscee4LMRn9lMsJGuNZAYBA4nCYdZA6tsyL0KGTfQKIAFls3T5jul9Am6t95nbvcGXFmcFDYEyZAX2FpAuVesVGyiHuLFRKxlXfh5t6AZDZD'\n",
    "\n",
    "FacebookAdsApi.init(my_app_id, my_app_secret, my_access_token)"
   ]
  },
  {
   "cell_type": "code",
   "execution_count": 3,
   "metadata": {},
   "outputs": [],
   "source": [
    "adset_id_which_want_copy = 23843230045090559"
   ]
  },
  {
   "cell_type": "code",
   "execution_count": 4,
   "metadata": {},
   "outputs": [],
   "source": [
    "def retrieve_copied_adset_id(session_id):\n",
    "    url = \"https://graph.facebook.com/v3.2/{id}\".format( id=session_id )\n",
    "    headers = { \"Authorization\":\"OAuth {}\".format( my_access_token ) }\n",
    "    payload = { \"fields\":\"result\" }\n",
    "    r = requests.get(url, headers=headers, params=payload)\n",
    "    while not bool( json.loads( json.loads( r.text )['result'] ) ):\n",
    "        r = requests.get (url, headers=headers, params=payload )\n",
    "    copied_adset_id = json.loads( json.loads( r.text )['result'] )['copied_adset_id']\n",
    "    return copied_adset_id"
   ]
  },
  {
   "cell_type": "code",
   "execution_count": 5,
   "metadata": {},
   "outputs": [],
   "source": [
    "def async_copy_adset(adset_id_which_want_copy):\n",
    "    url = \"https://graph.facebook.com/v3.1/{id}/copies\".format(id=adset_id_which_want_copy)\n",
    "    payload = {\n",
    "        \"asyncbatch\":[\n",
    "            {\n",
    "                \"method\":\"POST\",\n",
    "                \"relative_url\":\"{id}/copies\".format(id=adset_id_which_want_copy),\n",
    "                \"name\":\"copy_adset_2\",\n",
    "                \"body\":\"deep_copy=true&status_option=ACTIVE\"\n",
    "            }\n",
    "        ],\n",
    "        \"access_token\":my_access_token\n",
    "    }\n",
    "    r = requests.post(url, json=payload)\n",
    "    session_id = json.loads(r.text)['async_sessions'][0]['id']\n",
    "    copied_adset_id = retrieve_copied_adset_id(session_id)\n",
    "    return copied_adset_id"
   ]
  },
  {
   "cell_type": "code",
   "execution_count": 6,
   "metadata": {},
   "outputs": [],
   "source": [
    "copied_adset_id = async_copy_adset(adset_id_which_want_copy)"
   ]
  },
  {
   "cell_type": "code",
   "execution_count": 7,
   "metadata": {},
   "outputs": [
    {
     "data": {
      "text/plain": [
       "'23843235034340559'"
      ]
     },
     "execution_count": 7,
     "metadata": {},
     "output_type": "execute_result"
    }
   ],
   "source": [
    "copied_adset_id"
   ]
  },
  {
   "cell_type": "code",
   "execution_count": null,
   "metadata": {},
   "outputs": [],
   "source": [
    "url = \"https://graph.facebook.com/v3.1/{id}/copies\".format(id=adset_id)\n",
    "payload = {\n",
    "    \"asyncbatch\":[\n",
    "        {\n",
    "            \"method\":\"POST\",\n",
    "            \"relative_url\":\"{id}/copies\".format(id=adset_id),\n",
    "            \"name\":\"copy_adset_2\",\n",
    "            \"body\":\"deep_copy=true&status_option=ACTIVE\"\n",
    "        }\n",
    "    ],\n",
    "    \"access_token\":my_access_token\n",
    "}\n",
    "r = requests.post(url, json=payload)"
   ]
  },
  {
   "cell_type": "code",
   "execution_count": null,
   "metadata": {},
   "outputs": [],
   "source": [
    "r.status_code"
   ]
  },
  {
   "cell_type": "code",
   "execution_count": null,
   "metadata": {},
   "outputs": [],
   "source": [
    "session_id = json.loads(r.text)['async_sessions'][0]['id']"
   ]
  },
  {
   "cell_type": "code",
   "execution_count": null,
   "metadata": {},
   "outputs": [],
   "source": [
    "url = \"https://graph.facebook.com/v3.2/610702139366415\"\n",
    "headers = {\"Authorization\":\"OAuth {}\".format(my_access_token)}\n",
    "payload = {\"fields\":\"result\"}\n",
    "r = requests.get(url, headers=headers, params=payload)"
   ]
  },
  {
   "cell_type": "code",
   "execution_count": null,
   "metadata": {},
   "outputs": [],
   "source": [
    "r.url"
   ]
  },
  {
   "cell_type": "code",
   "execution_count": null,
   "metadata": {},
   "outputs": [],
   "source": [
    "json.loads(r.text)['result']"
   ]
  },
  {
   "cell_type": "code",
   "execution_count": null,
   "metadata": {},
   "outputs": [],
   "source": [
    "json.loads(json.loads(r.text)['result'])['copied_adset_id']"
   ]
  },
  {
   "cell_type": "code",
   "execution_count": null,
   "metadata": {},
   "outputs": [],
   "source": []
  }
 ],
 "metadata": {
  "kernelspec": {
   "display_name": "Python 3",
   "language": "python",
   "name": "python3"
  },
  "language_info": {
   "codemirror_mode": {
    "name": "ipython",
    "version": 3
   },
   "file_extension": ".py",
   "mimetype": "text/x-python",
   "name": "python",
   "nbconvert_exporter": "python",
   "pygments_lexer": "ipython3",
   "version": "3.5.2"
  }
 },
 "nbformat": 4,
 "nbformat_minor": 2
}
