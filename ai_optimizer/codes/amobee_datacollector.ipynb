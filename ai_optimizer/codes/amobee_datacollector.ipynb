{
 "cells": [
  {
   "cell_type": "code",
   "execution_count": 1,
   "metadata": {},
   "outputs": [],
   "source": [
    "import requests\n",
    "import json\n",
    "import datetime\n",
    "import pandas as pd"
   ]
  },
  {
   "cell_type": "code",
   "execution_count": 2,
   "metadata": {},
   "outputs": [],
   "source": [
    "ioid = 1605762997\n",
    "ioid = 1605818538\n",
    "ioid = 1605762998"
   ]
  },
  {
   "cell_type": "code",
   "execution_count": 3,
   "metadata": {},
   "outputs": [],
   "source": [
    "packageID = 1605770217\n",
    "packageID = 1605770053\n",
    "packageID = 1605770237"
   ]
  },
  {
   "cell_type": "code",
   "execution_count": 4,
   "metadata": {},
   "outputs": [],
   "source": [
    "advertiserid = 1431829168"
   ]
  },
  {
   "cell_type": "code",
   "execution_count": 51,
   "metadata": {},
   "outputs": [],
   "source": [
    "def get_access_token():\n",
    "    url = \"https://services.amobee.com/accounts/v1/api/token\"\n",
    "    headers = {\"Content-Type\":\"application/json\"}\n",
    "    payload = {\n",
    "    \"client_id\":\"ad2819a6-5f55-1038-834c-5bbb75af789b@658.api\",\n",
    "    \"client_secret\":\"Lmrp3yqrzToo3NM/\",\n",
    "    \"grant_type\":\"client_credentials\"\n",
    "    }\n",
    "    data = json.dumps(payload)\n",
    "    r = requests.post(url, headers=headers, data=data)\n",
    "    global access_token\n",
    "    access_token = json.loads(r.text)['access_token']\n",
    "    return access_token"
   ]
  },
  {
   "cell_type": "code",
   "execution_count": 69,
   "metadata": {},
   "outputs": [
    {
     "data": {
      "text/plain": [
       "'eyJhbGciOiJSUzI1NiIsImtpZCI6IjRhMWIwODk4ZjRhM2JmNDM3NGNiMjkyMjE0OGIwODliODQzYWFkNjQifQ.eyJpc3MiOiJodHRwczovL29pZGMudW5pdHkuYW1vYmVlLmNvbSIsInN1YiI6IkNpUmhaREk0TVRsaE5pMDFaalUxTFRFd016Z3RPRE0wWXkwMVltSmlOelZoWmpjNE9XSVNCR3hrWVhBIiwiYXVkIjoiZEx5elVXX0t5bThCblFSSmx3Tzk2WVQ0ZEk3R2JNSnBQZUptZ2d6cHZzZz1AYXBwLnVuaXR5LmFtb2JlZS5jb20iLCJleHAiOjE1NTA5NDAwMjMsImlhdCI6MTU1MDg5NjgyMywiYXRfaGFzaCI6InRtbnhrY1ZKS05RNUxlS2FYVXozaVEiLCJlbWFpbCI6ImFkMjgxOWE2LTVmNTUtMTAzOC04MzRjLTViYmI3NWFmNzg5YkA2NTguYXBpIiwiZW1haWxfdmVyaWZpZWQiOnRydWUsImF1dGhvcml0aWVzIjpbIkFQUF9VTklUWSIsIkFQUF9UVVJOX1BMQVRGT1JNIl0sImVudHJ5VVVJRCI6ImFkMjgxOWE2LTVmNTUtMTAzOC04MzRjLTViYmI3NWFmNzg5YiIsIm5hbWUiOiJhZDI4MTlhNi01ZjU1LTEwMzgtODM0Yy01YmJiNzVhZjc4OWIgNjU4LmFwaSJ9.jpuThSTbQqnfzDXo8uTsCOguFo4kHeGoccuT-8VryM91qtvhkw5deGDa1iRHBYqRDhVyB4Hvwva3S_u8EbsjdDEDgnjcUEeqNhqn7hYY3hSbj_AZn318tQn561HocHmBmJH8u_xZZTXhUDJ2IEW8boikDB19jL9wrggFIII85Q2LvetcnURFET9AfXEKyO4WD9jw194K-AGiduqVP0qVsoRExc0cSiDry6KSvyCdkDo_prFN1rn0Qf9f1fXkMLsLVoVrYA7_sOiGZ7uvYeS-z-ut-5jSt7A61gKpfes09tI84AJoVedjkiqNxtG-8o3aDNUQghTCi5orRCuXifQwGg'"
      ]
     },
     "execution_count": 69,
     "metadata": {},
     "output_type": "execute_result"
    }
   ],
   "source": [
    "get_access_token()"
   ]
  },
  {
   "cell_type": "code",
   "execution_count": null,
   "metadata": {},
   "outputs": [],
   "source": [
    "access_token"
   ]
  },
  {
   "cell_type": "code",
   "execution_count": 56,
   "metadata": {},
   "outputs": [],
   "source": [
    "class DatePreset:\n",
    "    today = 'today'\n",
    "    lifetime = 'lifetime'\n",
    "\n",
    "class AmobeeField:\n",
    "    clientStatusId = 'clientStatusId'\n",
    "    creativeRotationType = 'creativeRotationType'\n",
    "    goalValue = 'goalValue'\n",
    "    pastBudgetSchedules = 'pastBudgetSchedules'\n",
    "    spendingCap = 'spendingCap'\n",
    "    startDate = 'startDate'\n",
    "    endDate = 'endDate'\n",
    "    data = 'data'\n",
    "    items = 'items'\n",
    "    packageId = 'packageId'\n",
    "    advertiser_invoice = 'advertiser_invoice'\n",
    "    clicks = 'clicks'\n",
    "    advertiser_ecpm = 'advertiser_ecpm'\n",
    "    dcpmBid = 'dcpmBid'\n",
    "    cpmBid = 'cpmBid'\n",
    "    bidding = 'bidding'\n",
    "    budgeting = 'budgeting'\n",
    "    budgetSchedule = 'budgetSchedule'\n",
    "    cpc = 'cpc'\n",
    "    maxAvgBid = 'maxAvgBid'\n",
    "    \n",
    "class AdgeekField:\n",
    "    package_id = 'package_id'\n",
    "    spend_cap = 'spend_cap'\n",
    "    start_time = 'start_time'\n",
    "    stop_time = 'stop_time'\n",
    "    target_type = 'target_type'\n",
    "    goal_cpc = 'goal_cpc'\n",
    "    period = 'period'\n",
    "    ioid = 'ioid'\n",
    "    cost_per_impresions = 'cost_per_impresions'\n",
    "    cost_per_target = 'cost_per_target'\n",
    "    daily_budget = 'daily_budget'\n",
    "    spend = 'spend'\n",
    "    target = 'target'\n",
    "    bid_amount = 'bid_amount'\n",
    "    request_time = 'request_time'\n",
    "    daily_charge = 'daily_charge'\n",
    "    target_left = 'target_left'\n",
    "    destination = 'destination'"
   ]
  },
  {
   "cell_type": "code",
   "execution_count": 70,
   "metadata": {},
   "outputs": [],
   "source": [
    "class InsertionOrders(object):\n",
    "    def __init__(self, ioid):\n",
    "        self.ioid = ioid\n",
    "        self.start_date = None\n",
    "        self.end_date = None\n",
    "        self.spend_cap = None\n",
    "        self.package_list = list()\n",
    "        self.io_insights = dict()\n",
    "        self.io_features = dict()\n",
    "        \n",
    "    def get_insertion_order_features(self):\n",
    "        url = \"https://services.amobee.com/metadata/v2/api/insertionorders/{}\".format(ioid)\n",
    "        headers = {\"Authorization\":\"Bearer {}\".format(access_token)}\n",
    "        r = requests.get(url, headers=headers)\n",
    "        metadata = json.loads(r.text)\n",
    "        status = metadata[ AmobeeField.clientStatusId ]\n",
    "        target_type = metadata[ AmobeeField.creativeRotationType ]\n",
    "        goal_cpc = metadata[ AmobeeField.goalValue ]\n",
    "        schedule = metadata[ AmobeeField.pastBudgetSchedules ]\n",
    "        for sch in schedule:\n",
    "            self.spend_cap = sch[ AmobeeField.spendingCap ]\n",
    "            self.start_date = datetime.datetime.strptime( sch[ AmobeeField.startDate ],'%Y-%m-%d' )\n",
    "            self.end_date = datetime.datetime.strptime( sch[ AmobeeField.endDate ],'%Y-%m-%d' )\n",
    "        self.io_features.update( {AdgeekField.spend_cap: self.spend_cap} )\n",
    "        self.io_features.update( {AdgeekField.start_time: self.start_date} )\n",
    "        self.io_features.update( {AdgeekField.stop_time: self.end_date} )\n",
    "        self.io_features.update( {AdgeekField.target_type: target_type} )\n",
    "        self.io_features.update( {AdgeekField.goal_cpc: goal_cpc} )\n",
    "        self.period = (self.io_features[AdgeekField.stop_time] - self.io_features[AdgeekField.start_time]).days + 1\n",
    "        self.io_features.update( {AdgeekField.period: self.period } )\n",
    "        \n",
    "        return self.io_features\n",
    "    \n",
    "    def get_insertion_order_insights(self, date_preset=None):\n",
    "        if date_preset is None or date_preset==DatePreset.lifetime:\n",
    "            start_time = self.start_date.strftime( '%Y-%m-%d' )\n",
    "            stop_time = ( datetime.datetime.now() - datetime.timedelta(1) ).strftime( '%Y-%m-%d' )\n",
    "        elif date_preset==DatePreset.today:\n",
    "            start_time = ( datetime.datetime.now() - datetime.timedelta(1) ).strftime( '%Y-%m-%d' )\n",
    "            stop_time = ( datetime.datetime.now() - datetime.timedelta(1) ).strftime( '%Y-%m-%d' )\n",
    "        url = \"https://services.amobee.com/reporting/v1/api/insertionorders/{}?reportType=summary&startDate={}&endDate={}\".format(ioid, start_time, stop_time)\n",
    "        headers = {\"Authorization\":\"Bearer {}\".format(access_token)}\n",
    "        r = requests.get(url, headers=headers)\n",
    "        insights = json.loads(r.text)[ AmobeeField.data ]\n",
    "        for d in insights:\n",
    "            self.io_insights.update( { d['description'] : float(d['value']) } )\n",
    "#         self.io_insights.update( {v: float(k) for k, v in tmp.items()} )\n",
    "        return self.io_insights\n",
    "    \n",
    "    def get_package_list(self):\n",
    "        url = \"https://services.amobee.com/metadata/v2/api/packages/ioid/{}\".format(self.ioid)\n",
    "        headers = {\"Authorization\":\"Bearer {}\".format(access_token)}\n",
    "        r = requests.get(url, headers=headers)\n",
    "        for package in json.loads(r.text)[ AmobeeField.items ]:\n",
    "            self.package_list.append( package[ AmobeeField.packageId ] )\n",
    "        return self.package_list\n",
    "    \n",
    "    def initialize(self, date_preset=DatePreset.today):\n",
    "        self.get_insertion_order_features()\n",
    "        self.get_insertion_order_insights( date_preset=date_preset )\n",
    "        self.io_insights.update( {AdgeekField.ioid:self.ioid} )\n",
    "        self.io_insights[AdgeekField.spend] = self.io_insights.pop( AmobeeField.advertiser_invoice)\n",
    "        self.io_insights[AdgeekField.target] = self.io_insights.pop( AmobeeField.clicks )\n",
    "        self.io_insights[AdgeekField.cost_per_impresions] = self.io_insights.pop( AmobeeField.advertiser_ecpm )\n",
    "        self.insertion_order = { **self.io_insights, **self.io_features }\n",
    "        self.insertion_order.update( {AdgeekField.cost_per_target: self.io_insights[AdgeekField.spend] / self.io_insights[AdgeekField.target] } )\n",
    "        self.insertion_order.update( {AdgeekField.daily_budget:self.io_features[AdgeekField.spend_cap] / self.io_features[AdgeekField.period] } )\n",
    "        return self.insertion_order"
   ]
  },
  {
   "cell_type": "code",
   "execution_count": 67,
   "metadata": {},
   "outputs": [],
   "source": [
    "class Package(object):\n",
    "    def __init__(self, package_id):\n",
    "        self.package_id = int(package_id)\n",
    "        self.package_features = dict()\n",
    "        self.package_insights = dict()\n",
    "        \n",
    "    def get_package_features(self):\n",
    "        url = \"https://services.amobee.com/metadata/v2/api/packages/{}\".format(self.package_id)\n",
    "        headers = {\"Authorization\":\"Bearer {}\".format(access_token)}\n",
    "        r = requests.get(url, headers=headers)\n",
    "        metadata = json.loads(r.text)\n",
    "        bidding = metadata[ AmobeeField.bidding ]\n",
    "        try:\n",
    "            self.bid = bidding[ AmobeeField.dcpmBid ][ AmobeeField.maxAvgBid ]\n",
    "        except:\n",
    "            self.bid = bidding[ AmobeeField.cpmBid ]\n",
    "        budgeting = metadata[ AmobeeField.budgeting ]\n",
    "        schedule = budgeting[ AmobeeField.budgetSchedule ]\n",
    "        for sch in schedule:\n",
    "            self.daily_budget = sch[ AmobeeField.spendingCap ]\n",
    "        self.package_features.update( {AdgeekField.daily_budget: self.daily_budget} )\n",
    "        self.package_features.update( {AdgeekField.bid_amount: self.bid} )\n",
    "        self.package_features.update( {AdgeekField.package_id: self.package_id} )\n",
    "        return self.package_features\n",
    "    \n",
    "    def get_package_insights(self, date_preset=None):\n",
    "        start_time=0\n",
    "        if date_preset is None or date_preset==DatePreset.today:\n",
    "            start_time = ( datetime.datetime.now() - datetime.timedelta(1) ).strftime( '%Y-%m-%d' )\n",
    "        stop_time = ( datetime.datetime.now() - datetime.timedelta(1) ).strftime( '%Y-%m-%d' )\n",
    "        url = \"https://services.amobee.com/reporting/v1/api/packages/{}?reportType=summary&startDate={}&endDate={}\".format(self.package_id, start_time, stop_time)\n",
    "        headers = {\"Authorization\":\"Bearer {}\".format(access_token)}\n",
    "        r = requests.get(url, headers=headers)\n",
    "        print(r.text)\n",
    "        insights = json.loads(r.text)[ AmobeeField.data ]\n",
    "        for d in json.loads(r.text)[ AmobeeField.data ]:\n",
    "            self.package_insights.update( { d['description'] : float(d['value']) } )\n",
    "        return self.package_insights\n",
    "    \n",
    "    def initialize(self):\n",
    "        self.get_package_features()\n",
    "        self.get_package_insights()\n",
    "        self.package_insights.update( {AdgeekField.package_id:self.package_id} )\n",
    "        self.package_insights[ AdgeekField.spend ] = self.package_insights.pop( AmobeeField.advertiser_invoice)\n",
    "        self.package_insights[ AdgeekField.target ] = self.package_insights.pop( AmobeeField.clicks )\n",
    "        self.package_insights[ AdgeekField.cost_per_impresions ] = self.package_insights.pop( AmobeeField.advertiser_ecpm )\n",
    "        try:\n",
    "            self.package_insights.update( {AdgeekField.cost_per_target: self.package_insights[AdgeekField.spend] / self.package_insights[AdgeekField.target] } )\n",
    "        except ZeroDivisionError:\n",
    "            self.package_insights.update( {AdgeekField.cost_per_target: 0} )\n",
    "        self.package = { **self.package_insights, **self.package_features }\n",
    "        return self.package\n",
    "    "
   ]
  },
  {
   "cell_type": "code",
   "execution_count": 68,
   "metadata": {},
   "outputs": [
    {
     "name": "stdout",
     "output_type": "stream",
     "text": [
      "{\"type\":\"invalid_request_error\",\"message\":\"Incorrect date format provided. The format should be: YYYY-MM-DD.\"}\n"
     ]
    },
    {
     "ename": "KeyError",
     "evalue": "'data'",
     "output_type": "error",
     "traceback": [
      "\u001b[0;31m---------------------------------------------------------------------------\u001b[0m",
      "\u001b[0;31mKeyError\u001b[0m                                  Traceback (most recent call last)",
      "\u001b[0;32m<ipython-input-68-0770fdbf5de5>\u001b[0m in \u001b[0;36m<module>\u001b[0;34m()\u001b[0m\n\u001b[1;32m      1\u001b[0m \u001b[0mpkg\u001b[0m \u001b[0;34m=\u001b[0m \u001b[0mPackage\u001b[0m\u001b[0;34m(\u001b[0m\u001b[0mpackageID\u001b[0m\u001b[0;34m)\u001b[0m\u001b[0;34m\u001b[0m\u001b[0m\n\u001b[0;32m----> 2\u001b[0;31m \u001b[0mpkg\u001b[0m\u001b[0;34m.\u001b[0m\u001b[0mget_package_insights\u001b[0m\u001b[0;34m(\u001b[0m\u001b[0mdate_preset\u001b[0m\u001b[0;34m=\u001b[0m\u001b[0mDatePreset\u001b[0m\u001b[0;34m.\u001b[0m\u001b[0mlifetime\u001b[0m\u001b[0;34m)\u001b[0m\u001b[0;34m\u001b[0m\u001b[0m\n\u001b[0m\u001b[1;32m      3\u001b[0m \u001b[0mpkg\u001b[0m\u001b[0;34m.\u001b[0m\u001b[0mget_package_features\u001b[0m\u001b[0;34m(\u001b[0m\u001b[0;34m)\u001b[0m\u001b[0;34m\u001b[0m\u001b[0m\n\u001b[1;32m      4\u001b[0m \u001b[0mpkg\u001b[0m\u001b[0;34m.\u001b[0m\u001b[0minitialize\u001b[0m\u001b[0;34m(\u001b[0m\u001b[0;34m)\u001b[0m\u001b[0;34m\u001b[0m\u001b[0m\n",
      "\u001b[0;32m<ipython-input-67-0219ac19f1ec>\u001b[0m in \u001b[0;36mget_package_insights\u001b[0;34m(self, date_preset)\u001b[0m\n\u001b[1;32m     33\u001b[0m         \u001b[0mr\u001b[0m \u001b[0;34m=\u001b[0m \u001b[0mrequests\u001b[0m\u001b[0;34m.\u001b[0m\u001b[0mget\u001b[0m\u001b[0;34m(\u001b[0m\u001b[0murl\u001b[0m\u001b[0;34m,\u001b[0m \u001b[0mheaders\u001b[0m\u001b[0;34m=\u001b[0m\u001b[0mheaders\u001b[0m\u001b[0;34m)\u001b[0m\u001b[0;34m\u001b[0m\u001b[0m\n\u001b[1;32m     34\u001b[0m         \u001b[0mprint\u001b[0m\u001b[0;34m(\u001b[0m\u001b[0mr\u001b[0m\u001b[0;34m.\u001b[0m\u001b[0mtext\u001b[0m\u001b[0;34m)\u001b[0m\u001b[0;34m\u001b[0m\u001b[0m\n\u001b[0;32m---> 35\u001b[0;31m         \u001b[0minsights\u001b[0m \u001b[0;34m=\u001b[0m \u001b[0mjson\u001b[0m\u001b[0;34m.\u001b[0m\u001b[0mloads\u001b[0m\u001b[0;34m(\u001b[0m\u001b[0mr\u001b[0m\u001b[0;34m.\u001b[0m\u001b[0mtext\u001b[0m\u001b[0;34m)\u001b[0m\u001b[0;34m[\u001b[0m \u001b[0mAmobeeField\u001b[0m\u001b[0;34m.\u001b[0m\u001b[0mdata\u001b[0m \u001b[0;34m]\u001b[0m\u001b[0;34m\u001b[0m\u001b[0m\n\u001b[0m\u001b[1;32m     36\u001b[0m         \u001b[0;32mfor\u001b[0m \u001b[0md\u001b[0m \u001b[0;32min\u001b[0m \u001b[0mjson\u001b[0m\u001b[0;34m.\u001b[0m\u001b[0mloads\u001b[0m\u001b[0;34m(\u001b[0m\u001b[0mr\u001b[0m\u001b[0;34m.\u001b[0m\u001b[0mtext\u001b[0m\u001b[0;34m)\u001b[0m\u001b[0;34m[\u001b[0m \u001b[0mAmobeeField\u001b[0m\u001b[0;34m.\u001b[0m\u001b[0mdata\u001b[0m \u001b[0;34m]\u001b[0m\u001b[0;34m:\u001b[0m\u001b[0;34m\u001b[0m\u001b[0m\n\u001b[1;32m     37\u001b[0m             \u001b[0mself\u001b[0m\u001b[0;34m.\u001b[0m\u001b[0mpackage_insights\u001b[0m\u001b[0;34m.\u001b[0m\u001b[0mupdate\u001b[0m\u001b[0;34m(\u001b[0m \u001b[0;34m{\u001b[0m \u001b[0md\u001b[0m\u001b[0;34m[\u001b[0m\u001b[0;34m'description'\u001b[0m\u001b[0;34m]\u001b[0m \u001b[0;34m:\u001b[0m \u001b[0mfloat\u001b[0m\u001b[0;34m(\u001b[0m\u001b[0md\u001b[0m\u001b[0;34m[\u001b[0m\u001b[0;34m'value'\u001b[0m\u001b[0;34m]\u001b[0m\u001b[0;34m)\u001b[0m \u001b[0;34m}\u001b[0m \u001b[0;34m)\u001b[0m\u001b[0;34m\u001b[0m\u001b[0m\n",
      "\u001b[0;31mKeyError\u001b[0m: 'data'"
     ]
    }
   ],
   "source": [
    "pkg = Package(packageID)\n",
    "pkg.get_package_insights(date_preset=DatePreset.lifetime)\n",
    "pkg.get_package_features()\n",
    "pkg.initialize()"
   ]
  },
  {
   "cell_type": "code",
   "execution_count": null,
   "metadata": {},
   "outputs": [],
   "source": [
    "pkg.package_features, pkg.package_insights, pkg.package"
   ]
  },
  {
   "cell_type": "code",
   "execution_count": 71,
   "metadata": {},
   "outputs": [],
   "source": [
    "io = InsertionOrders(ioid)\n",
    "insertion_order_features = io.get_insertion_order_features()\n",
    "insertion_order_insights = io.get_insertion_order_insights(date_preset=DatePreset.lifetime)\n",
    "insertion_order = io.initialize()"
   ]
  },
  {
   "cell_type": "code",
   "execution_count": 72,
   "metadata": {},
   "outputs": [
    {
     "data": {
      "text/plain": [
       "({'goal_cpc': 1.0,\n",
       "  'period': 17,\n",
       "  'spend_cap': 8345.0,\n",
       "  'start_time': datetime.datetime(2019, 1, 31, 0, 0),\n",
       "  'stop_time': datetime.datetime(2019, 2, 17, 0, 0),\n",
       "  'target_type': 'clicks'},\n",
       " {'actions': 0.0,\n",
       "  'cost_per_impresions': 394.5816120715075,\n",
       "  'impressions': 20630.0,\n",
       "  'ioid': 1605818538,\n",
       "  'spend': 8140.2186570352,\n",
       "  'target': 42.0},\n",
       " {'actions': 0.0,\n",
       "  'cost_per_impresions': 394.5816120715075,\n",
       "  'cost_per_target': 193.8147299294095,\n",
       "  'daily_budget': 490.88235294117646,\n",
       "  'goal_cpc': 1.0,\n",
       "  'impressions': 20630.0,\n",
       "  'ioid': 1605818538,\n",
       "  'period': 17,\n",
       "  'spend': 8140.2186570352,\n",
       "  'spend_cap': 8345.0,\n",
       "  'start_time': datetime.datetime(2019, 1, 31, 0, 0),\n",
       "  'stop_time': datetime.datetime(2019, 2, 17, 0, 0),\n",
       "  'target': 42.0,\n",
       "  'target_type': 'clicks'},\n",
       " 17)"
      ]
     },
     "execution_count": 72,
     "metadata": {},
     "output_type": "execute_result"
    }
   ],
   "source": [
    "io.io_features, io.io_insights, io.insertion_order, io.period"
   ]
  },
  {
   "cell_type": "code",
   "execution_count": 10,
   "metadata": {},
   "outputs": [],
   "source": [
    "import amobee_db"
   ]
  },
  {
   "cell_type": "code",
   "execution_count": 17,
   "metadata": {},
   "outputs": [],
   "source": [
    "\n",
    "def data_collect( ioid, total_clicks ):\n",
    "    get_access_token()\n",
    "    io = InsertionOrders( ioid=ioid )\n",
    "    io.initialize()\n",
    "    charge = io.insertion_order[ AdgeekField.target ]\n",
    "    target_left = { AdgeekField.target_left: int(total_clicks) - int(charge) }\n",
    "    daily_charge = { AdgeekField.daily_charge: int(total_clicks) / int(io.period) }\n",
    "    request_dict = { AdgeekField.request_time: datetime.datetime.now() }\n",
    "    target_dict = { AdgeekField.destination: total_clicks }\n",
    "    io_dict = {\n",
    "        **io.insertion_order,\n",
    "        **target_left,\n",
    "        **target_dict,\n",
    "        **daily_charge,\n",
    "    }\n",
    "    package_list = io.get_package_list()\n",
    "    for package in package_list:\n",
    "        pkg = Package(package_id=package)\n",
    "        pkg.initialize()\n",
    "        pkg.package.update( { AdgeekField.request_time: datetime.datetime.now() } )\n",
    "        pkg.package.update( { AdgeekField.ioid: io.ioid } )\n",
    "        df_pkg = pd.DataFrame(pkg.package, index=[0])\n",
    "#         amobee_db.insertion( table=\"package_insights\", df=df_pkg )\n",
    "        \n",
    "    df_io = pd.DataFrame(io_dict, index=[0])\n",
    "#     print(df_io.info())\n",
    "#     df_io[df_io.columns] = df_io[df_io.columns].apply(pd.to_numeric, errors='ignore')\n",
    "#     amobee_db.insertion( table=\"io_target\", df=df_io )\n",
    "#     print(df_io.info())\n",
    "    amobee_db.update_io_target(df_io)\n",
    "    return df_io"
   ]
  },
  {
   "cell_type": "code",
   "execution_count": null,
   "metadata": {},
   "outputs": [],
   "source": []
  },
  {
   "cell_type": "code",
   "execution_count": 18,
   "metadata": {},
   "outputs": [
    {
     "name": "stdout",
     "output_type": "stream",
     "text": [
      "CPU times: user 76 ms, sys: 4 ms, total: 80 ms\n",
      "Wall time: 8.87 s\n"
     ]
    }
   ],
   "source": [
    "%%time\n",
    "df_io = data_collect(ioid, 100000)"
   ]
  },
  {
   "cell_type": "code",
   "execution_count": 16,
   "metadata": {},
   "outputs": [
    {
     "data": {
      "text/plain": [
       "1605818538"
      ]
     },
     "execution_count": 16,
     "metadata": {},
     "output_type": "execute_result"
    }
   ],
   "source": [
    "ioid"
   ]
  },
  {
   "cell_type": "code",
   "execution_count": null,
   "metadata": {},
   "outputs": [],
   "source": [
    "df_io"
   ]
  },
  {
   "cell_type": "code",
   "execution_count": null,
   "metadata": {},
   "outputs": [],
   "source": [
    "import amobee_db"
   ]
  },
  {
   "cell_type": "code",
   "execution_count": 14,
   "metadata": {},
   "outputs": [],
   "source": [
    "def get_io_target():\n",
    "    request_time = datetime.datetime.now()\n",
    "    mydb = amobee_db.connectDB(\"Amobee\")\n",
    "    mycursor = mydb.cursor()\n",
    "    df = pd.read_sql( \"SELECT * FROM io_target\" , con=mydb )\n",
    "    ioid_list = df['ioid'].unique()\n",
    "    df_io = pd.DataFrame(columns=df.columns)\n",
    "    for ioid in ioid_list:\n",
    "        start_time = df['start_time'][df.ioid==ioid].iloc[0]\n",
    "        stop_time = df['stop_time'][df.ioid==ioid].iloc[0]\n",
    "        if stop_time >= request_time and start_time <= request_time:\n",
    "            df_io = pd.concat([df_io, df[df.ioid==ioid]])\n",
    "    return df_io"
   ]
  },
  {
   "cell_type": "code",
   "execution_count": 19,
   "metadata": {},
   "outputs": [
    {
     "data": {
      "text/plain": [
       "1605818538"
      ]
     },
     "execution_count": 19,
     "metadata": {},
     "output_type": "execute_result"
    }
   ],
   "source": [
    "ioid"
   ]
  },
  {
   "cell_type": "code",
   "execution_count": 26,
   "metadata": {},
   "outputs": [],
   "source": [
    "ioid = 1605762998\n",
    "ioid = 1605818538"
   ]
  },
  {
   "cell_type": "code",
   "execution_count": 44,
   "metadata": {},
   "outputs": [
    {
     "name": "stdout",
     "output_type": "stream",
     "text": [
      "CPU times: user 0 ns, sys: 0 ns, total: 0 ns\n",
      "Wall time: 1.49 ms\n"
     ]
    }
   ],
   "source": [
    "%%time\n",
    "mydb = amobee_db.connectDB('Amobee')\n",
    "mycursor = mydb.cursor()\n",
    "mycursor.execute( \"SELECT default_price FROM default_price WHERE ioid=%s ORDER BY request_time DESC LIMIT 1\" % (ioid) )\n",
    "default = mycursor.fetchone()\n",
    "# default = str(default[0][0], encoding='utf-8')"
   ]
  },
  {
   "cell_type": "code",
   "execution_count": 50,
   "metadata": {},
   "outputs": [
    {
     "data": {
      "text/plain": [
       "'{\"ioid\": 1605818538, \"media\": \"Amobee\", \"contents\": [{\"adset_id\": \"1605818545\", \"pred_cpc\": \"450.0\", \"pred_budget\": \"300.0\"}, {\"adset_id\": \"1605818547\", \"pred_cpc\": \"450.0\", \"pred_budget\": \"100.0\"}]}'"
      ]
     },
     "execution_count": 50,
     "metadata": {},
     "output_type": "execute_result"
    }
   ],
   "source": [
    "default[0]"
   ]
  },
  {
   "cell_type": "code",
   "execution_count": 22,
   "metadata": {},
   "outputs": [
    {
     "data": {
      "text/plain": [
       "{'actions': 0.0,\n",
       " 'bid_amount': 450.0,\n",
       " 'cost_per_impresions': 422.18249919831226,\n",
       " 'cost_per_target': 0,\n",
       " 'daily_budget': 100.0,\n",
       " 'impressions': 237.0,\n",
       " 'package_id': 1605818547,\n",
       " 'spend': 100.05725231,\n",
       " 'target': 0.0}"
      ]
     },
     "execution_count": 22,
     "metadata": {},
     "output_type": "execute_result"
    }
   ],
   "source": [
    "pkg_info"
   ]
  },
  {
   "cell_type": "code",
   "execution_count": null,
   "metadata": {},
   "outputs": [],
   "source": []
  }
 ],
 "metadata": {
  "kernelspec": {
   "display_name": "Python 3",
   "language": "python",
   "name": "python3"
  },
  "language_info": {
   "codemirror_mode": {
    "name": "ipython",
    "version": 3
   },
   "file_extension": ".py",
   "mimetype": "text/x-python",
   "name": "python",
   "nbconvert_exporter": "python",
   "pygments_lexer": "ipython3",
   "version": "3.5.2"
  }
 },
 "nbformat": 4,
 "nbformat_minor": 2
}
