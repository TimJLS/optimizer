{
 "cells": [
  {
   "cell_type": "code",
   "execution_count": 1,
   "metadata": {},
   "outputs": [],
   "source": [
    "import requests\n",
    "import json\n",
    "import datetime\n",
    "import pandas as pd"
   ]
  },
  {
   "cell_type": "code",
   "execution_count": 2,
   "metadata": {},
   "outputs": [],
   "source": [
    "ioid = 1605762997\n",
    "ioid = 1605818538\n",
    "ioid = 1605762998"
   ]
  },
  {
   "cell_type": "code",
   "execution_count": 3,
   "metadata": {},
   "outputs": [],
   "source": [
    "packageID = 1605770217\n",
    "packageID = 1605770053\n",
    "packageID = 1605770237"
   ]
  },
  {
   "cell_type": "code",
   "execution_count": 4,
   "metadata": {},
   "outputs": [],
   "source": [
    "advertiserid = 1431829168"
   ]
  },
  {
   "cell_type": "code",
   "execution_count": 5,
   "metadata": {},
   "outputs": [],
   "source": [
    "def get_access_token():\n",
    "    url = \"https://services.amobee.com/accounts/v1/api/token\"\n",
    "    headers = {\"Content-Type\":\"application/json\"}\n",
    "    payload = {\n",
    "    \"client_id\":\"ad2819a6-5f55-1038-834c-5bbb75af789b@658.api\",\n",
    "    \"client_secret\":\"Lmrp3yqrzToo3NM/\",\n",
    "    \"grant_type\":\"client_credentials\"\n",
    "    }\n",
    "    data = json.dumps(payload)\n",
    "    r = requests.post(url, headers=headers, data=data)\n",
    "    global access_token\n",
    "    access_token = json.loads(r.text)['access_token']\n",
    "    return access_token"
   ]
  },
  {
   "cell_type": "code",
   "execution_count": 6,
   "metadata": {},
   "outputs": [
    {
     "data": {
      "text/plain": [
       "'eyJhbGciOiJSUzI1NiIsImtpZCI6ImM3Y2EwZTIxMjUzZjc1NTU0ZWU1NjI3NjgyNGE2ZTlmMjU3NTE4YWEifQ.eyJpc3MiOiJodHRwczovL29pZGMudW5pdHkuYW1vYmVlLmNvbSIsInN1YiI6IkNpUmhaREk0TVRsaE5pMDFaalUxTFRFd016Z3RPRE0wWXkwMVltSmlOelZoWmpjNE9XSVNCR3hrWVhBIiwiYXVkIjoiZEx5elVXX0t5bThCblFSSmx3Tzk2WVQ0ZEk3R2JNSnBQZUptZ2d6cHZzZz1AYXBwLnVuaXR5LmFtb2JlZS5jb20iLCJleHAiOjE1NTAxNzY1MTksImlhdCI6MTU1MDEzMzMxOSwiYXRfaGFzaCI6IkxBV25ra0hZUjFfczc2RW1RQ3VkNUEiLCJlbWFpbCI6ImFkMjgxOWE2LTVmNTUtMTAzOC04MzRjLTViYmI3NWFmNzg5YkA2NTguYXBpIiwiZW1haWxfdmVyaWZpZWQiOnRydWUsImF1dGhvcml0aWVzIjpbIkFQUF9VTklUWSIsIkFQUF9UVVJOX1BMQVRGT1JNIl0sImVudHJ5VVVJRCI6ImFkMjgxOWE2LTVmNTUtMTAzOC04MzRjLTViYmI3NWFmNzg5YiIsIm5hbWUiOiJhZDI4MTlhNi01ZjU1LTEwMzgtODM0Yy01YmJiNzVhZjc4OWIgNjU4LmFwaSJ9.GE_5FT4reFSwaWBodCQsLX5fZxFFkHukPICCxMQgbqt81tVit4LmwWC3VPUOrrLmCBDsdF9PanelUCD0Gc40b9o_Ur8uboIuuNd97ii2AQsiht_5PXtQJvRaXxCZvFy21bs6W8pet_069I_UTcwd_t7tA-bUgrKZPqeD-rFEKiJUoTCJzSAuNTe0Qs67mIrubCN-gP29HF5EWLpy-BV7V1eXM2X4AMS8xtWv7jQttJqib6meN_hClQfXwEpP3zww_-GxZ4cBo9oqLkt3rPAmj8-69xHFhU7bHFOkY7AUZS94FfZtU6JEkf7nt_IqMAWgh3v37nFELq9ZkbIHQyDgyQ'"
      ]
     },
     "execution_count": 6,
     "metadata": {},
     "output_type": "execute_result"
    }
   ],
   "source": [
    "get_access_token()"
   ]
  },
  {
   "cell_type": "code",
   "execution_count": null,
   "metadata": {},
   "outputs": [],
   "source": [
    "access_token"
   ]
  },
  {
   "cell_type": "code",
   "execution_count": 7,
   "metadata": {},
   "outputs": [],
   "source": [
    "class DatePreset:\n",
    "    today = 'today'\n",
    "    lifetime = 'lifetime'\n",
    "\n",
    "class AmobeeField:\n",
    "    clientStatusId = 'clientStatusId'\n",
    "    creativeRotationType = 'creativeRotationType'\n",
    "    goalValue = 'goalValue'\n",
    "    pastBudgetSchedules = 'pastBudgetSchedules'\n",
    "    spendingCap = 'spendingCap'\n",
    "    startDate = 'startDate'\n",
    "    endDate = 'endDate'\n",
    "    data = 'data'\n",
    "    items = 'items'\n",
    "    packageId = 'packageId'\n",
    "    advertiser_invoice = 'advertiser_invoice'\n",
    "    clicks = 'clicks'\n",
    "    advertiser_ecpm = 'advertiser_ecpm'\n",
    "    dcpmBid = 'dcpmBid'\n",
    "    cpmBid = 'cpmBid'\n",
    "    bidding = 'bidding'\n",
    "    budgeting = 'budgeting'\n",
    "    budgetSchedule = 'budgetSchedule'\n",
    "    cpc = 'cpc'\n",
    "    maxAvgBid = 'maxAvgBid'\n",
    "    \n",
    "class AdgeekField:\n",
    "    package_id = 'package_id'\n",
    "    spend_cap = 'spend_cap'\n",
    "    start_time = 'start_time'\n",
    "    stop_time = 'stop_time'\n",
    "    target_type = 'target_type'\n",
    "    goal_cpc = 'goal_cpc'\n",
    "    period = 'period'\n",
    "    ioid = 'ioid'\n",
    "    cost_per_impresions = 'cost_per_impresions'\n",
    "    cost_per_target = 'cost_per_target'\n",
    "    daily_budget = 'daily_budget'\n",
    "    spend = 'spend'\n",
    "    target = 'target'\n",
    "    bid_amount = 'bid_amount'\n",
    "    request_time = 'request_time'\n",
    "    daily_charge = 'daily_charge'\n",
    "    target_left = 'target_left'\n",
    "    destination = 'destination'"
   ]
  },
  {
   "cell_type": "code",
   "execution_count": 8,
   "metadata": {},
   "outputs": [],
   "source": [
    "class InsertionOrders(object):\n",
    "    def __init__(self, ioid):\n",
    "        self.ioid = ioid\n",
    "        self.start_date = None\n",
    "        self.end_date = None\n",
    "        self.spend_cap = None\n",
    "        self.package_list = list()\n",
    "        self.io_insights = dict()\n",
    "        self.io_features = dict()\n",
    "        \n",
    "    def get_insertion_order_features(self):\n",
    "        url = \"https://services.amobee.com/metadata/v2/api/insertionorders/{}\".format(ioid)\n",
    "        headers = {\"Authorization\":\"Bearer {}\".format(access_token)}\n",
    "        r = requests.get(url, headers=headers)\n",
    "        metadata = json.loads(r.text)\n",
    "        status = metadata[ AmobeeField.clientStatusId ]\n",
    "        target_type = metadata[ AmobeeField.creativeRotationType ]\n",
    "        goal_cpc = metadata[ AmobeeField.goalValue ]\n",
    "        schedule = metadata[ AmobeeField.pastBudgetSchedules ]\n",
    "        for sch in schedule:\n",
    "            self.spend_cap = sch[ AmobeeField.spendingCap ]\n",
    "            self.start_date = datetime.datetime.strptime( sch[ AmobeeField.startDate ],'%Y-%m-%d' )\n",
    "            self.end_date = datetime.datetime.strptime( sch[ AmobeeField.endDate ],'%Y-%m-%d' )\n",
    "        self.io_features.update( {AdgeekField.spend_cap: self.spend_cap} )\n",
    "        self.io_features.update( {AdgeekField.start_time: self.start_date} )\n",
    "        self.io_features.update( {AdgeekField.stop_time: self.end_date} )\n",
    "        self.io_features.update( {AdgeekField.target_type: target_type} )\n",
    "        self.io_features.update( {AdgeekField.goal_cpc: goal_cpc} )\n",
    "        self.period = (self.io_features[AdgeekField.stop_time] - self.io_features[AdgeekField.start_time]).days\n",
    "        self.io_features.update( {AdgeekField.period: self.period } )\n",
    "        \n",
    "        return self.io_features\n",
    "    \n",
    "    def get_insertion_order_insights(self, date_preset=None):\n",
    "        if date_preset is None or date_preset==DatePreset.lifetime:\n",
    "            start_time = self.start_date.strftime( '%Y-%m-%d' )\n",
    "            stop_time = ( datetime.datetime.now() - datetime.timedelta(1) ).strftime( '%Y-%m-%d' )\n",
    "        elif date_preset==DatePreset.today:\n",
    "            start_time = ( datetime.datetime.now() - datetime.timedelta(1) ).strftime( '%Y-%m-%d' )\n",
    "            stop_time = ( datetime.datetime.now() - datetime.timedelta(1) ).strftime( '%Y-%m-%d' )\n",
    "        url = \"https://services.amobee.com/reporting/v1/api/insertionorders/{}?reportType=summary&startDate={}&endDate={}\".format(ioid, start_time, stop_time)\n",
    "        headers = {\"Authorization\":\"Bearer {}\".format(access_token)}\n",
    "        r = requests.get(url, headers=headers)\n",
    "        insights = json.loads(r.text)[ AmobeeField.data ]\n",
    "        for d in insights:\n",
    "            self.io_insights.update( { d['description'] : float(d['value']) } )\n",
    "#         self.io_insights.update( {v: float(k) for k, v in tmp.items()} )\n",
    "        return self.io_insights\n",
    "    \n",
    "    def get_package_list(self):\n",
    "        url = \"https://services.amobee.com/metadata/v2/api/packages/ioid/{}\".format(self.ioid)\n",
    "        headers = {\"Authorization\":\"Bearer {}\".format(access_token)}\n",
    "        r = requests.get(url, headers=headers)\n",
    "        for package in json.loads(r.text)[ AmobeeField.items ]:\n",
    "            self.package_list.append( package[ AmobeeField.packageId ] )\n",
    "        return self.package_list\n",
    "    \n",
    "    def initialize(self):\n",
    "        self.get_insertion_order_features()\n",
    "        self.get_insertion_order_insights( date_preset=DatePreset.lifetime )\n",
    "        self.io_insights.update( {AdgeekField.ioid:self.ioid} )\n",
    "        self.io_insights[AdgeekField.spend] = self.io_insights.pop( AmobeeField.advertiser_invoice)\n",
    "        self.io_insights[AdgeekField.target] = self.io_insights.pop( AmobeeField.clicks )\n",
    "        self.io_insights[AdgeekField.cost_per_impresions] = self.io_insights.pop( AmobeeField.advertiser_ecpm )\n",
    "        self.insertion_order = { **self.io_insights, **self.io_features }\n",
    "        self.insertion_order.update( {AdgeekField.cost_per_target: self.io_insights[AdgeekField.spend] / self.io_insights[AdgeekField.target] } )\n",
    "        self.insertion_order.update( {AdgeekField.daily_budget:self.io_features[AdgeekField.spend_cap] / self.io_features[AdgeekField.period] } )\n",
    "        return self.insertion_order"
   ]
  },
  {
   "cell_type": "code",
   "execution_count": 9,
   "metadata": {},
   "outputs": [],
   "source": [
    "class Package(object):\n",
    "    def __init__(self, package_id):\n",
    "        self.package_id = int(package_id)\n",
    "        self.package_features = dict()\n",
    "        self.package_insights = dict()\n",
    "        \n",
    "    def get_package_features(self):\n",
    "        url = \"https://services.amobee.com/metadata/v2/api/packages/{}\".format(self.package_id)\n",
    "        headers = {\"Authorization\":\"Bearer {}\".format(access_token)}\n",
    "        r = requests.get(url, headers=headers)\n",
    "        metadata = json.loads(r.text)\n",
    "        bidding = metadata[ AmobeeField.bidding ]\n",
    "        try:\n",
    "            self.bid = bidding[ AmobeeField.dcpmBid ][ AmobeeField.maxAvgBid ]\n",
    "        except:\n",
    "            self.bid = bidding[ AmobeeField.cpmBid ]\n",
    "        budgeting = metadata[ AmobeeField.budgeting ]\n",
    "        schedule = budgeting[ AmobeeField.budgetSchedule ]\n",
    "        for sch in schedule:\n",
    "            self.daily_budget = sch[ AmobeeField.spendingCap ]\n",
    "        self.package_features.update( {AdgeekField.daily_budget: self.daily_budget} )\n",
    "        self.package_features.update( {AdgeekField.bid_amount: self.bid} )\n",
    "        self.package_features.update( {AdgeekField.package_id: self.package_id} )\n",
    "        return self.package_features\n",
    "    \n",
    "    def get_package_insights(self, date_preset=None):\n",
    "        if date_preset is None or date_preset==DatePreset.today:\n",
    "            start_time = ( datetime.datetime.now() - datetime.timedelta(1) ).strftime( '%Y-%m-%d' )\n",
    "        stop_time = ( datetime.datetime.now() - datetime.timedelta(1) ).strftime( '%Y-%m-%d' )\n",
    "        url = \"https://services.amobee.com/reporting/v1/api/packages/{}?reportType=summary&startDate={}&endDate={}\".format(self.package_id, start_time, stop_time)\n",
    "        headers = {\"Authorization\":\"Bearer {}\".format(access_token)}\n",
    "        r = requests.get(url, headers=headers)\n",
    "        insights = json.loads(r.text)[ AmobeeField.data ]\n",
    "        for d in json.loads(r.text)[ AmobeeField.data ]:\n",
    "            self.package_insights.update( { d['description'] : float(d['value']) } )\n",
    "        return self.package_insights\n",
    "    \n",
    "    def initialize(self):\n",
    "        self.get_package_features()\n",
    "        self.get_package_insights()\n",
    "        self.package_insights.update( {AdgeekField.package_id:self.package_id} )\n",
    "        self.package_insights[ AdgeekField.spend ] = self.package_insights.pop( AmobeeField.advertiser_invoice)\n",
    "        self.package_insights[ AdgeekField.target ] = self.package_insights.pop( AmobeeField.clicks )\n",
    "        self.package_insights[ AdgeekField.cost_per_impresions ] = self.package_insights.pop( AmobeeField.advertiser_ecpm )\n",
    "        try:\n",
    "            self.package_insights.update( {AdgeekField.cost_per_target: self.package_insights[AdgeekField.spend] / self.package_insights[AdgeekField.target] } )\n",
    "        except ZeroDivisionError:\n",
    "            self.package_insights.update( {AdgeekField.cost_per_target: 0} )\n",
    "        self.package = { **self.package_insights, **self.package_features }\n",
    "        return self.package\n",
    "    "
   ]
  },
  {
   "cell_type": "code",
   "execution_count": null,
   "metadata": {},
   "outputs": [],
   "source": [
    "pkg = Package(packageID)\n",
    "pkg.get_package_insights()\n",
    "pkg.get_package_features()\n",
    "pkg.initialize()"
   ]
  },
  {
   "cell_type": "code",
   "execution_count": null,
   "metadata": {},
   "outputs": [],
   "source": [
    "pkg.package_features, pkg.package_insights, pkg.package"
   ]
  },
  {
   "cell_type": "code",
   "execution_count": null,
   "metadata": {},
   "outputs": [],
   "source": [
    "io = InsertionOrders(ioid)\n",
    "insertion_order_features = io.get_insertion_order_features()\n",
    "insertion_order_insights = io.get_insertion_order_insights(date_preset='today')\n",
    "insertion_order = io.initialize()"
   ]
  },
  {
   "cell_type": "code",
   "execution_count": null,
   "metadata": {},
   "outputs": [],
   "source": [
    "io.io_features, io.io_insights, io.insertion_order, io.period"
   ]
  },
  {
   "cell_type": "code",
   "execution_count": 10,
   "metadata": {},
   "outputs": [],
   "source": [
    "import amobee_db"
   ]
  },
  {
   "cell_type": "code",
   "execution_count": 17,
   "metadata": {},
   "outputs": [],
   "source": [
    "\n",
    "def data_collect( ioid, total_clicks ):\n",
    "    get_access_token()\n",
    "    io = InsertionOrders( ioid=ioid )\n",
    "    io.initialize()\n",
    "    charge = io.insertion_order[ AdgeekField.target ]\n",
    "    target_left = { AdgeekField.target_left: int(total_clicks) - int(charge) }\n",
    "    daily_charge = { AdgeekField.daily_charge: int(total_clicks) / int(io.period) }\n",
    "    request_dict = { AdgeekField.request_time: datetime.datetime.now() }\n",
    "    target_dict = { AdgeekField.destination: total_clicks }\n",
    "    io_dict = {\n",
    "        **io.insertion_order,\n",
    "        **target_left,\n",
    "        **target_dict,\n",
    "        **daily_charge,\n",
    "    }\n",
    "    package_list = io.get_package_list()\n",
    "    for package in package_list:\n",
    "        pkg = Package(package_id=package)\n",
    "        pkg.initialize()\n",
    "        pkg.package.update( { AdgeekField.request_time: datetime.datetime.now() } )\n",
    "        pkg.package.update( { AdgeekField.ioid: io.ioid } )\n",
    "        df_pkg = pd.DataFrame(pkg.package, index=[0])\n",
    "#         amobee_db.insertion( table=\"package_insights\", df=df_pkg )\n",
    "        \n",
    "    df_io = pd.DataFrame(io_dict, index=[0])\n",
    "#     print(df_io.info())\n",
    "#     df_io[df_io.columns] = df_io[df_io.columns].apply(pd.to_numeric, errors='ignore')\n",
    "#     amobee_db.insertion( table=\"io_target\", df=df_io )\n",
    "#     print(df_io.info())\n",
    "    amobee_db.update_io_target(df_io)\n",
    "    return df_io"
   ]
  },
  {
   "cell_type": "code",
   "execution_count": 18,
   "metadata": {},
   "outputs": [
    {
     "name": "stdout",
     "output_type": "stream",
     "text": [
      "CPU times: user 76 ms, sys: 4 ms, total: 80 ms\n",
      "Wall time: 8.87 s\n"
     ]
    }
   ],
   "source": [
    "%%time\n",
    "df_io = data_collect(ioid, 100000)"
   ]
  },
  {
   "cell_type": "code",
   "execution_count": 16,
   "metadata": {},
   "outputs": [
    {
     "data": {
      "text/plain": [
       "1605818538"
      ]
     },
     "execution_count": 16,
     "metadata": {},
     "output_type": "execute_result"
    }
   ],
   "source": [
    "ioid"
   ]
  },
  {
   "cell_type": "code",
   "execution_count": null,
   "metadata": {},
   "outputs": [],
   "source": [
    "df_io"
   ]
  },
  {
   "cell_type": "code",
   "execution_count": null,
   "metadata": {},
   "outputs": [],
   "source": [
    "import amobee_db"
   ]
  },
  {
   "cell_type": "code",
   "execution_count": 14,
   "metadata": {},
   "outputs": [],
   "source": [
    "def get_io_target():\n",
    "    request_time = datetime.datetime.now()\n",
    "    mydb = amobee_db.connectDB(\"Amobee\")\n",
    "    mycursor = mydb.cursor()\n",
    "    df = pd.read_sql( \"SELECT * FROM io_target\" , con=mydb )\n",
    "    ioid_list = df['ioid'].unique()\n",
    "    df_io = pd.DataFrame(columns=df.columns)\n",
    "    for ioid in ioid_list:\n",
    "        start_time = df['start_time'][df.ioid==ioid].iloc[0]\n",
    "        stop_time = df['stop_time'][df.ioid==ioid].iloc[0]\n",
    "        if stop_time >= request_time and start_time <= request_time:\n",
    "            df_io = pd.concat([df_io, df[df.ioid==ioid]])\n",
    "    return df_io"
   ]
  },
  {
   "cell_type": "code",
   "execution_count": 19,
   "metadata": {},
   "outputs": [
    {
     "data": {
      "text/plain": [
       "1605818538"
      ]
     },
     "execution_count": 19,
     "metadata": {},
     "output_type": "execute_result"
    }
   ],
   "source": [
    "ioid"
   ]
  },
  {
   "cell_type": "code",
   "execution_count": 26,
   "metadata": {},
   "outputs": [],
   "source": [
    "ioid = 1605762998\n",
    "ioid = 1605818538"
   ]
  },
  {
   "cell_type": "code",
   "execution_count": 44,
   "metadata": {},
   "outputs": [
    {
     "name": "stdout",
     "output_type": "stream",
     "text": [
      "CPU times: user 0 ns, sys: 0 ns, total: 0 ns\n",
      "Wall time: 1.49 ms\n"
     ]
    }
   ],
   "source": [
    "%%time\n",
    "mydb = amobee_db.connectDB('Amobee')\n",
    "mycursor = mydb.cursor()\n",
    "mycursor.execute( \"SELECT default_price FROM default_price WHERE ioid=%s ORDER BY request_time DESC LIMIT 1\" % (ioid) )\n",
    "default = mycursor.fetchone()\n",
    "# default = str(default[0][0], encoding='utf-8')"
   ]
  },
  {
   "cell_type": "code",
   "execution_count": 50,
   "metadata": {},
   "outputs": [
    {
     "data": {
      "text/plain": [
       "'{\"ioid\": 1605818538, \"media\": \"Amobee\", \"contents\": [{\"adset_id\": \"1605818545\", \"pred_cpc\": \"450.0\", \"pred_budget\": \"300.0\"}, {\"adset_id\": \"1605818547\", \"pred_cpc\": \"450.0\", \"pred_budget\": \"100.0\"}]}'"
      ]
     },
     "execution_count": 50,
     "metadata": {},
     "output_type": "execute_result"
    }
   ],
   "source": [
    "default[0]"
   ]
  },
  {
   "cell_type": "code",
   "execution_count": 22,
   "metadata": {},
   "outputs": [
    {
     "data": {
      "text/plain": [
       "{'actions': 0.0,\n",
       " 'bid_amount': 450.0,\n",
       " 'cost_per_impresions': 422.18249919831226,\n",
       " 'cost_per_target': 0,\n",
       " 'daily_budget': 100.0,\n",
       " 'impressions': 237.0,\n",
       " 'package_id': 1605818547,\n",
       " 'spend': 100.05725231,\n",
       " 'target': 0.0}"
      ]
     },
     "execution_count": 22,
     "metadata": {},
     "output_type": "execute_result"
    }
   ],
   "source": [
    "pkg_info"
   ]
  },
  {
   "cell_type": "code",
   "execution_count": null,
   "metadata": {},
   "outputs": [],
   "source": []
  }
 ],
 "metadata": {
  "kernelspec": {
   "display_name": "Python 3",
   "language": "python",
   "name": "python3"
  },
  "language_info": {
   "codemirror_mode": {
    "name": "ipython",
    "version": 3
   },
   "file_extension": ".py",
   "mimetype": "text/x-python",
   "name": "python",
   "nbconvert_exporter": "python",
   "pygments_lexer": "ipython3",
   "version": "3.5.2"
  }
 },
 "nbformat": 4,
 "nbformat_minor": 2
}
