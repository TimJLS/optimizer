{
 "cells": [
  {
   "cell_type": "code",
   "execution_count": 1,
   "metadata": {},
   "outputs": [],
   "source": [
    "import requests\n",
    "import json\n",
    "import datetime\n",
    "import pandas as pd\n",
    "import amobee_db"
   ]
  },
  {
   "cell_type": "code",
   "execution_count": 2,
   "metadata": {},
   "outputs": [],
   "source": [
    "\n",
    "DATADASE = \"Amobee\"\n",
    "START_TIME = 'start_time'\n",
    "STOP_TIME = 'stop_time'\n",
    "\n",
    "CHARGE = 'charge'\n",
    "TARGET = 'target'\n",
    "BID_AMOUNT = 'bid_amount'\n",
    "REQUEST_TIME = 'request_time'\n",
    "TARGET_LEFT = 'target_left'\n",
    "\n",
    "INIT_BID = 'init_bid'\n",
    "LAST_BID = 'last_bid'\n",
    "PACKAGE_PROGRESS = 'package_progress'\n",
    "IO_PROGRESS = 'io_progress'\n",
    "\n",
    "PACKAGE_ID = 'package_id'\n",
    "IOID = 'ioid'"
   ]
  },
  {
   "cell_type": "code",
   "execution_count": 3,
   "metadata": {},
   "outputs": [],
   "source": [
    "class AmobeeInsertionOrderAdapter(object):\n",
    "    def __init__(self, ioid):\n",
    "        self.mydb = amobee_db.connectDB( DATADASE )\n",
    "        self.limit = 9000\n",
    "        self.hour_per_day = 24\n",
    "        self.ioid = ioid\n",
    "        self.request_time = datetime.datetime.now()\n",
    "        self.time_progress = ( self.request_time.hour + 1 ) / self.hour_per_day\n",
    "        self.init_bid_dict = dict()\n",
    "        self.last_bid_dict = dict()\n",
    "        \n",
    "    def get_df(self):\n",
    "        self.df_io = pd.read_sql( \"SELECT * FROM io_target WHERE ioid=%s\" %( self.ioid ), con=self.mydb )\n",
    "        self.df_pkg = pd.read_sql( \"SELECT * FROM package_insights where ioid = %s\" %( self.ioid ), con=self.mydb )\n",
    "        return\n",
    "    \n",
    "    def get_bid(self):\n",
    "        sql = \"SELECT package_id, bid_amount, request_time FROM package_insights WHERE ioid=%s ;\" % ( self.ioid )\n",
    "        df_pkg = pd.read_sql( sql, con=self.mydb )\n",
    "        package_list = df_pkg['package_id'].unique()\n",
    "        for package in package_list:\n",
    "            init_bid = df_pkg[BID_AMOUNT][df_pkg.package_id==package].head(1).iloc[0].astype(dtype=object)\n",
    "            last_bid = df_pkg[BID_AMOUNT][df_pkg.package_id==package].tail(1).iloc[0].astype(dtype=object)\n",
    "            self.init_bid_dict.update({ package: init_bid })\n",
    "            self.last_bid_dict.update({ package: last_bid })\n",
    "        return\n",
    "    \n",
    "    def get_period_left(self):\n",
    "        self.period_left = ( self.df_io[ STOP_TIME ].iloc[0] - self.request_time ).days\n",
    "        return self.period_left\n",
    "    \n",
    "    def get_period(self):\n",
    "        self.period = ( self.df_io[ STOP_TIME ].iloc[0] - self.df_io[ START_TIME ].iloc[0] ).days\n",
    "        return self.period\n",
    "    \n",
    "    def get_io_performance(self):\n",
    "        package_list = self.df_pkg[ 'package_id' ].unique()\n",
    "        dfs = pd.DataFrame(columns=[ 'package_id', TARGET ])\n",
    "        for package in package_list:\n",
    "            df_pkg = self.df_pkg[self.df_pkg.package_id==package]\n",
    "            df = df_pkg[[ TARGET, REQUEST_TIME ]][df_pkg.request_time.dt.date==self.request_time]\n",
    "            dfs = pd.concat([dfs, df], axis=0, sort=False)\n",
    "        dfs = dfs.sort_values(by=[ TARGET ], ascending=False).reset_index(drop=True)\n",
    "        self.io_performance = dfs[ TARGET ].sum()\n",
    "        return self.io_performance\n",
    "    \n",
    "    def get_io_target(self):\n",
    "        self.io_target = self.df_io[ TARGET_LEFT ].iloc[0].astype(dtype=object)\n",
    "        return self.io_target\n",
    "    \n",
    "    def get_io_day_target(self):\n",
    "        self.io_day_target = self.io_target / self.period_left\n",
    "        return self.io_day_target\n",
    "\n",
    "    def get_io_progress(self):\n",
    "        self.io_progress = self.io_performance / self.io_day_target\n",
    "        return self.io_progress\n",
    "    \n",
    "    def get_package_list(self):\n",
    "        return self.df_pkg[ 'package_id' ].unique().tolist()\n",
    "    \n",
    "    def retrieve_io_attribute(self):\n",
    "        self.get_df()\n",
    "        self.get_bid()\n",
    "        self.get_period_left()\n",
    "        self.get_period()\n",
    "        self.get_io_performance()\n",
    "        self.get_io_target()\n",
    "        self.get_io_day_target()\n",
    "        self.get_io_progress()\n",
    "        return"
   ]
  },
  {
   "cell_type": "code",
   "execution_count": 4,
   "metadata": {},
   "outputs": [],
   "source": [
    "amobee = AmobeeInsertionOrderAdapter(1605818538)"
   ]
  },
  {
   "cell_type": "code",
   "execution_count": 5,
   "metadata": {},
   "outputs": [],
   "source": [
    "amobee.retrieve_io_attribute()"
   ]
  },
  {
   "cell_type": "code",
   "execution_count": null,
   "metadata": {},
   "outputs": [],
   "source": [
    "vars(amobee).items()"
   ]
  },
  {
   "cell_type": "code",
   "execution_count": 6,
   "metadata": {},
   "outputs": [],
   "source": [
    "\n",
    "class AmobeePackageAdapter(AmobeeInsertionOrderAdapter):\n",
    "    def __init__(self, package_id, amobee):\n",
    "        self.mydb = amobee_db.connectDB( DATADASE )\n",
    "        self.package_id = package_id\n",
    "        self.amobee = amobee\n",
    "\n",
    "    def init_io(self, amobee):\n",
    "        self.time_progress = amobee.time_progress\n",
    "        self.limit = amobee.limit\n",
    "        self.hour_per_day = amobee.hour_per_day\n",
    "        self.request_time = amobee.request_time\n",
    "        self.df_pkg = amobee.df_pkg\n",
    "        self.init_bid_dict = amobee.init_bid_dict\n",
    "        self.last_bid_dict = amobee.last_bid_dict\n",
    "        self.period_left = amobee.period_left\n",
    "        self.period = amobee.period\n",
    "        self.io_performance = amobee.io_performance\n",
    "        self.io_target = amobee.io_target\n",
    "        self.io_day_target = amobee.io_day_target\n",
    "        self.io_progress = amobee.io_progress\n",
    "        return\n",
    "    \n",
    "    def get_ioid(self):\n",
    "        self.ioid = self.df_pkg[ 'ioid' ].iloc[0].astype(dtype=object)\n",
    "        return self.ioid\n",
    "    \n",
    "    def get_package_day_target(self):\n",
    "        pkg_num = len( self.df_pkg[ 'package_id' ].unique() )\n",
    "        self.package_day_target = self.io_day_target / pkg_num\n",
    "        return self.package_day_target\n",
    "    \n",
    "    def get_package_performance(self):\n",
    "        self.package_performance = self.df_pkg[ TARGET ][self.df_pkg.package_id==self.package_id].iloc[0]\n",
    "        return self.package_performance\n",
    "    \n",
    "    def get_bid(self):\n",
    "        self.init_bid = self.init_bid_dict[self.package_id]\n",
    "        self.last_bid = self.last_bid_dict[self.package_id]\n",
    "        return\n",
    "    \n",
    "    def get_package_time_target(self):\n",
    "        self.package_time_target = self.package_day_target * self.time_progress\n",
    "        return self.package_time_target\n",
    "    \n",
    "    def get_package_progress(self):\n",
    "        self.package_progress = self.package_performance / self.package_time_target\n",
    "        return self.package_progress\n",
    "    \n",
    "    def retrieve_package_attribute(self):\n",
    "        self.init_io(self.amobee)\n",
    "        self.get_ioid()\n",
    "        self.get_package_day_target()\n",
    "        self.get_package_performance()\n",
    "        self.get_bid()\n",
    "        self.get_package_time_target()\n",
    "        self.get_package_progress()\n",
    "        return {\n",
    "            PACKAGE_ID:self.package_id,\n",
    "            INIT_BID:self.init_bid,\n",
    "            LAST_BID:self.last_bid,\n",
    "            PACKAGE_PROGRESS:self.package_progress,\n",
    "            IO_PROGRESS:self.io_progress\n",
    "        }\n"
   ]
  },
  {
   "cell_type": "code",
   "execution_count": 7,
   "metadata": {},
   "outputs": [],
   "source": [
    "pkg = AmobeePackageAdapter(1605818545, amobee)"
   ]
  },
  {
   "cell_type": "code",
   "execution_count": 8,
   "metadata": {},
   "outputs": [
    {
     "data": {
      "text/plain": [
       "{'init_bid': 450,\n",
       " 'io_progress': 0.0,\n",
       " 'last_bid': 450,\n",
       " 'package_id': 1605818545,\n",
       " 'package_progress': 0.0}"
      ]
     },
     "execution_count": 8,
     "metadata": {},
     "output_type": "execute_result"
    }
   ],
   "source": [
    "pkg.retrieve_package_attribute()"
   ]
  },
  {
   "cell_type": "code",
   "execution_count": 9,
   "metadata": {},
   "outputs": [],
   "source": [
    "import bid_operator\n",
    "def main():\n",
    "    start_time = datetime.datetime.now()\n",
    "    \n",
    "    df_io = amobee_db.get_io_target()\n",
    "    ioid_list = df_io['ioid'].unique()\n",
    "    \n",
    "    for ioid in ioid_list:\n",
    "        result={ 'media': 'Amobee', 'ioid': ioid, 'contents':[] }\n",
    "        try:\n",
    "            amobee = AmobeeInsertionOrderAdapter( ioid=ioid )\n",
    "            amobee.retrieve_io_attribute()\n",
    "            package_list = amobee.get_package_list()\n",
    "            for package in package_list:\n",
    "                pkg = AmobeePackageAdapter( package, amobee )\n",
    "                status = pkg.retrieve_package_attribute()\n",
    "                media = result['media']\n",
    "    #             bid = bid_operator.adjust(media, **status)\n",
    "                bid = bid_adjust(media, **status)\n",
    "                result['contents'].append(bid)\n",
    "                del pkg\n",
    "            mydict_json = json.dumps(result)\n",
    "            amobee_db.insert_result( ioid, mydict_json, datetime.datetime.now() )\n",
    "            del amobee\n",
    "        except:\n",
    "            print('pass')\n",
    "            pass"
   ]
  },
  {
   "cell_type": "code",
   "execution_count": 14,
   "metadata": {
    "scrolled": false
   },
   "outputs": [],
   "source": [
    "main()"
   ]
  },
  {
   "cell_type": "code",
   "execution_count": 13,
   "metadata": {},
   "outputs": [],
   "source": [
    "import numpy as np\n",
    "CENTER = 1\n",
    "WIDTH = 10\n",
    "BID_RANGE = 0.8\n",
    "def normalized_sigmoid_fkt(center, width, progress):\n",
    "    s= 1/( 1 + np.exp( width * ( progress-center ) ) )\n",
    "    return s"
   ]
  },
  {
   "cell_type": "code",
   "execution_count": 11,
   "metadata": {},
   "outputs": [],
   "source": [
    "ADAPTER = {\n",
    "    \"Amobee\":{\n",
    "        \"adset_id\":\"package_id\",\n",
    "        \"campaign_id\":\"ioid\",\n",
    "        \"adset_progress\":\"package_progress\",\n",
    "        \"campaign_progress\":\"io_progress\"\n",
    "    },\n",
    "    \"Facebook\":{\n",
    "        \"adset_id\":\"adset_id\",\n",
    "        \"campaign_id\":\"campaign_id\",\n",
    "        \"adset_progress\":\"adset_progress\",\n",
    "        \"campaign_progress\":\"campaign_progress\"\n",
    "    }\n",
    "}"
   ]
  },
  {
   "cell_type": "code",
   "execution_count": 12,
   "metadata": {},
   "outputs": [],
   "source": [
    "BID='bid'\n",
    "def bid_adjust(media, **status):\n",
    "    ADSET_PROGRESS = ADAPTER[media].get(\"adset_progress\")\n",
    "    CAMPAIGN_PROGRESS = ADAPTER[media].get(\"campaign_progress\")\n",
    "    ADSET_ID = ADAPTER[media].get(\"adset_id\")\n",
    "    \n",
    "    init_bid = status.get(INIT_BID)\n",
    "    last_bid = status.get(LAST_BID)\n",
    "    \n",
    "    adset_progress = status.get(ADSET_PROGRESS)\n",
    "    campaign_progress = status.get(CAMPAIGN_PROGRESS)\n",
    "    \n",
    "    if adset_progress > 1 and campaign_progress > 1:\n",
    "        bid = math.ceil(init_bid)\n",
    "    elif adset_progress > 1 and campaign_progress < 1:\n",
    "        bid = last_bid\n",
    "    else:\n",
    "        bid = BID_RANGE*init_bid*( normalized_sigmoid_fkt(CENTER, WIDTH, adset_progress) - 0.5 )\n",
    "#     print(ADAPTER[media].get(\"adset_id\"), status.get(ADSET_ID) )\n",
    "    \n",
    "    \n",
    "    return { ADAPTER[media].get(\"adset_id\"):status.get(ADSET_ID), BID:bid }"
   ]
  },
  {
   "cell_type": "code",
   "execution_count": null,
   "metadata": {},
   "outputs": [],
   "source": []
  }
 ],
 "metadata": {
  "kernelspec": {
   "display_name": "Python 3",
   "language": "python",
   "name": "python3"
  },
  "language_info": {
   "codemirror_mode": {
    "name": "ipython",
    "version": 3
   },
   "file_extension": ".py",
   "mimetype": "text/x-python",
   "name": "python",
   "nbconvert_exporter": "python",
   "pygments_lexer": "ipython3",
   "version": "3.5.2"
  }
 },
 "nbformat": 4,
 "nbformat_minor": 2
}
