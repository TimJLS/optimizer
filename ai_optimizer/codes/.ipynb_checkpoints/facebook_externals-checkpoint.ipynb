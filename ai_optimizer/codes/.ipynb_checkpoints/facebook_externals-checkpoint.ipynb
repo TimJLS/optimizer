{
 "cells": [
  {
   "cell_type": "code",
   "execution_count": 1,
   "metadata": {},
   "outputs": [],
   "source": [
    "from pathlib import Path\n",
    "from facebook_business.api import FacebookAdsApi\n",
    "from facebook_business.adobjects.adaccount import AdAccount\n",
    "from facebook_business.adobjects.adset import AdSet\n",
    "from facebook_business.adobjects.ad import Ad\n",
    "from facebook_business.adobjects.campaign import Campaign\n",
    "from facebook_business.adobjects.adcreative import AdCreative\n",
    "from facebook_business.adobjects.targeting import Targeting\n",
    "from facebook_business.api import FacebookRequest\n",
    "import copy\n",
    "from facebook_adapter import FacebookCampaignAdapter\n",
    "# import facebook\n",
    "import os\n",
    "\n",
    "my_app_id = '958842090856883'\n",
    "my_app_secret = 'a952f55afca38572cea2994d440d674b'\n",
    "my_access_token = 'EAANoD9I4obMBAPcoZA5V7OZBQaPa3Tk7NMAT0ZBZCepdD8zZBcwMZBMHAM1zPeQiRY4Yw07rscee4LMRn9lMsJGuNZAYBA4nCYdZA6tsyL0KGTfQKIAFls3T5jul9Am6t95nbvcGXFmcFDYEyZAX2FpAuVesVGyiHuLFRKxlXfh5t6AZDZD'\n"
   ]
  },
  {
   "cell_type": "code",
   "execution_count": 2,
   "metadata": {},
   "outputs": [],
   "source": [
    "import datetime\n",
    "yesterday = datetime.datetime.now().date() - datetime.timedelta(1)"
   ]
  },
  {
   "cell_type": "code",
   "execution_count": 3,
   "metadata": {},
   "outputs": [
    {
     "data": {
      "text/plain": [
       "<facebook_business.api.FacebookAdsApi at 0x7f4f07037668>"
      ]
     },
     "execution_count": 3,
     "metadata": {},
     "output_type": "execute_result"
    }
   ],
   "source": [
    "from facebook_datacollector import Campaigns\n",
    "import mysql_adactivity_save\n",
    "import pandas as pd\n",
    "campaign_objective = {\n",
    "    'LINK_CLICKS': 'link_click',\n",
    "    'POST_ENGAGEMENT': 'post_engagement', \n",
    "    'VIDEO_VIEWS': 'video_view', \n",
    "    'CONVERSIONS':'offsite_conversion',\n",
    "}\n",
    "DATABASE = 'dev_facebook_test'\n",
    "DATE = datetime.datetime.now().date()# - datetime.timedelta(2)\n",
    "ACTION_BOUNDARY = 0.8\n",
    "FacebookAdsApi.init(my_app_id, my_app_secret, my_access_token)"
   ]
  },
  {
   "cell_type": "code",
   "execution_count": 4,
   "metadata": {},
   "outputs": [],
   "source": [
    "def copy_adset(adset_id):\n",
    "    request = FacebookRequest(\n",
    "            node_id=adset_id,\n",
    "            method='POST',\n",
    "            endpoint='/copies',\n",
    "            api_type='EDGE',\n",
    "    )\n",
    "    params = {\n",
    "            'deep_copy': True,\n",
    "    }\n",
    "    request.add_params(params)    \n",
    "    response = request.execute()\n",
    "    response_json = response.json()\n",
    "#     print(response_json)\n",
    "    new_adset_id = response_json.get('copied_adset_id')\n",
    "#     print(new_adset_id)\n",
    "    return new_adset_id\n",
    "\n",
    "\n",
    "def modify_exists_adset(adset_id, adset_params):\n",
    "    adset = AdSet(adset_id)\n",
    "    \n",
    "    for key in adset_params:\n",
    "#         print(key, adset_params[key])\n",
    "        adset[key] = adset_params[key]\n",
    "    #print('[modify_exists_adset] adset:' , str(adset))\n",
    "    update_response = adset.update()\n",
    "    #print('update_response:' , update_response)\n",
    "    remote_update_response = adset.remote_update()\n",
    "    #print('remote_update_response:' , remote_update_response)\n",
    "def check_init_bid(init_bid):\n",
    "    if init_bid == None:\n",
    "        return\n",
    "    if init_bid > 100:\n",
    "        init_bid = math.ceil( init_bid*1.1 )\n",
    "    else:\n",
    "        init_bid = init_bid + 1\n",
    "    return init_bid\n",
    "    \n",
    "def config_adset_params_by_age(new_adset_id, age_max, age_min, init_bid=None):\n",
    "    \n",
    "    fields_adSet = [  AdSet.Field.campaign_id,  AdSet.Field.name, AdSet.Field.bid_amount, AdSet.Field.bid_strategy, AdSet.Field.daily_budget, AdSet.Field.budget_remaining, AdSet.Field.optimization_goal, AdSet.Field.bid_info, AdSet.Field.pacing_type\n",
    "                    , AdSet.Field.attribution_spec, AdSet.Field.targeting]\n",
    "    ad_set = AdSet(new_adset_id)\n",
    "    ad_set_data = ad_set.remote_read(fields = fields_adSet)\n",
    "    \n",
    "    target = ad_set_data[AdSet.Field.targeting]\n",
    "    original_name = ad_set_data[AdSet.Field.name]\n",
    "                     \n",
    "    target['age_max'] =  age_max\n",
    "    target['age_min'] =  age_min\n",
    "    \n",
    "    if init_bid is None:\n",
    "        adset_params = {\n",
    "            AdSet.Field.name: original_name + ' ' + str(age_min) + '-' + str(age_max) ,\n",
    "            AdSet.Field.targeting: target,\n",
    "            'status': AdSet.Status.active,\n",
    "        }\n",
    "        ad_groups = ad_set.get_ads(fields=[\n",
    "            AdSet.Field.name,\n",
    "            AdSet.Field.campaign_id,\n",
    "            AdSet.Field.configured_status,\n",
    "        ])\n",
    "    else:\n",
    "        adset_params = {\n",
    "            AdSet.Field.name: original_name + ' ' + str(age_min) + '-' + str(age_max) + ' ' + str('init') + ' ' + str(init_bid) ,\n",
    "            AdSet.Field.targeting: target,\n",
    "            AdSet.Field.bid_amount: init_bid,\n",
    "            'status': AdSet.Status.active,\n",
    "        }\n",
    "        ad_groups = ad_set.get_ads(fields=[\n",
    "            AdSet.Field.name,\n",
    "            AdSet.Field.campaign_id,\n",
    "            AdSet.Field.bid_amount,\n",
    "            AdSet.Field.configured_status,\n",
    "        ])\n",
    "    for ad in ad_groups:\n",
    "        ad_id = ad['id']\n",
    "#         print('ad_id' , ad_id)\n",
    "        ad_object = Ad(ad_id)\n",
    "        ad_object['status'] = Ad.Status.active\n",
    "        ad_object.remote_update()\n",
    "    return adset_params\n",
    "\n",
    "def async_copy_adset(adset_id_which_want_copy):\n",
    "    url = \"https://graph.facebook.com/v3.1/{id}/copies\".format(id=adset_id_which_want_copy)\n",
    "    payload = {\n",
    "        \"asyncbatch\":[\n",
    "            {\n",
    "                \"method\":\"POST\",\n",
    "                \"relative_url\":\"{id}/copies\".format(id=adset_id_which_want_copy),\n",
    "                \"name\":\"copy_adset_2\",\n",
    "                \"body\":\"deep_copy=true&status_option=ACTIVE\"\n",
    "            }\n",
    "        ],\n",
    "        \"access_token\":my_access_token\n",
    "    }\n",
    "    r = requests.post(url, json=payload)\n",
    "    session_id = json.loads(r.text)['async_sessions'][0]['id']\n",
    "    copied_adset_id = retrieve_copied_adset_id(session_id)\n",
    "    return copied_adset_id\n",
    "\n",
    "def retrieve_copied_adset_id(session_id):\n",
    "    url = \"https://graph.facebook.com/v3.2/{id}\".format( id=session_id )\n",
    "    headers = { \"Authorization\":\"OAuth {}\".format( my_access_token ) }\n",
    "    payload = { \"fields\":\"result\" }\n",
    "    r = requests.get(url, headers=headers, params=payload)\n",
    "    while not bool( json.loads( json.loads( r.text )['result'] ) ):\n",
    "        r = requests.get (url, headers=headers, params=payload )\n",
    "\n",
    "    copied_adset_id = json.loads( json.loads( r.text )['result'] )['copied_adset_id']\n",
    "    return copied_adset_id\n",
    "\n",
    "def duplicate_asset_by_more_target(adset_id_which_want_copy, init_bid=None, bid_adjust=False, split_age=False):\n",
    "    # duplicate more age target , use original age interval\n",
    "    ad_set = AdSet(adset_id_which_want_copy)\n",
    "    ad_set_data = ad_set.remote_read(fields = [AdSet.Field.targeting])\n",
    "    target = ad_set_data[AdSet.Field.targeting]\n",
    "    age_max = target['age_max']\n",
    "    age_min = target['age_min']\n",
    "    if split_age == True:\n",
    "        interval_count = 2\n",
    "    else:\n",
    "        interval_count = 1\n",
    "    print('split_age==', split_age, ' interval_count==', interval_count)\n",
    "    age_interval = int((age_max - age_min)/interval_count)\n",
    "\n",
    "    current_adset_min = age_min\n",
    "    current_adset_max = current_adset_min + age_interval\n",
    "    \n",
    "    init_bid = check_init_bid(init_bid)\n",
    "    \n",
    "    for i in range(interval_count):\n",
    "        new_adset_id = async_copy_adset(adset_id_which_want_copy) #async copy\n",
    "#         new_adset_id = copy_adset(adset_id_which_want_copy) #sync copy (not available)\n",
    "        if bid_adjust is True and init_bid is not None:\n",
    "            adset_params = config_adset_params_by_age(new_adset_id, current_adset_max, current_adset_min, init_bid)\n",
    "        else:\n",
    "            adset_params = config_adset_params_by_age(new_adset_id, current_adset_max, current_adset_min)\n",
    "\n",
    "        modify_exists_adset(new_adset_id, adset_params)\n",
    "\n",
    "        current_adset_min += age_interval\n",
    "        current_adset_max += age_interval\n",
    "\n",
    "def check_adset_name(adset_id_which_want_copy):\n",
    "    ad_set = AdSet(adset_id_which_want_copy)\n",
    "    ad_set_data = ad_set.remote_read(fields = [AdSet.Field.name])\n",
    "    name = ad_set_data[AdSet.Field.name]\n",
    "    name_list = name.split( )\n",
    "    for name in name_list:\n",
    "        if name == 'Copy':\n",
    "            return False\n",
    "    return True\n",
    "    \n",
    "def duplicate_high_rank_adset(fb, campaign=None, charge_type=None, name_copy=False, split_age=False, bid_adjust=False):\n",
    "    '''\n",
    "    name_copy  : copy name with \"Copy\" or not\n",
    "    split_age  : split age or not\n",
    "    bid_adjust : adjust bid or not\n",
    "    '''\n",
    "    adset_list = get_sorted_adset(campaign)\n",
    "    adset_for_copy, adset_for_off = split_adset_list(adset_list)\n",
    "    print(adset_for copy)\n",
    "    print(adset_for_off)\n",
    "    if name_copy == False:\n",
    "        for i, adset_id in enumerate(adset_list):\n",
    "            if check_adset_name(adset_id) is False:\n",
    "                adset_list.remove(adset_id)\n",
    "\n",
    "    if charge_type == 'CONVERSIONS':\n",
    "        for adset_id in adset_for_off:\n",
    "            update_status(adset_id, status=AdSet.Status.paused)\n",
    "        for adset_id in adset_for_copy:\n",
    "            try:\n",
    "                init_bid = fb.init_bid_dict[ int(adset_id) ]\n",
    "            except:init_bid=10\n",
    "            duplicate_asset_by_more_target( int(adset_id), init_bid, bid_adjust=True, split_age=False )\n",
    "    else:\n",
    "        for adset_id in adset_list:\n",
    "            try:\n",
    "                init_bid = fb.init_bid_dict[ int(adset_id) ]\n",
    "            except:init_bid=10\n",
    "            duplicate_asset_by_more_target( int(adset_id), init_bid, bid_adjust=True, split_age=True )\n",
    "    return\n",
    "\n",
    "def adjust_init_bid_of_adset(campaign, fb):\n",
    "    adset_list = get_sorted_adset(campaign)\n",
    "\n",
    "    for adset_id in adset_list:\n",
    "        \n",
    "        if check_adset_name(adset_id) is True:\n",
    "#             init_bid = fb.init_bid_dict[ int(adset_id) ]\n",
    "#             mysql_adactivity_save.update_init_bid( int(adset_id), init_bid )\n",
    "            try:\n",
    "                init_bid = fb.init_bid_dict[ int(adset_id) ]\n",
    "                init_bid = check_init_bid(init_bid)\n",
    "#                 print(campaign, '-'*30, + init_bid)\n",
    "                mysql_adactivity_save.update_init_bid( int(adset_id), init_bid )\n",
    "            except:\n",
    "                print('pass')\n",
    "                pass\n",
    "    return"
   ]
  },
  {
   "cell_type": "code",
   "execution_count": 5,
   "metadata": {},
   "outputs": [],
   "source": [
    "def get_sorted_adset(campaign):\n",
    "    mydb=mysql_adactivity_save.connectDB(DATABASE)\n",
    "    try:\n",
    "        df = pd.read_sql(\"select * from adset_score where campaign_id=%s\" %(campaign), con=mydb)\n",
    "        df = df[df.request_time.dt.date==DATE].sort_values(by=['score'], ascending=False)\n",
    "        adset_list = df['adset_id']\n",
    "        assert adset_list, 'Empty List'\n",
    "    except:\n",
    "        df_camp = mysql_adactivity_save.get_campaign_target(campaign)\n",
    "        charge_type = df_camp['charge_type'].iloc[0]\n",
    "        adset_list = Campaigns(campaign, charge_type).get_adsets()\n",
    "    return adset_list"
   ]
  },
  {
   "cell_type": "code",
   "execution_count": 6,
   "metadata": {},
   "outputs": [
    {
     "data": {
      "text/plain": [
       "['23843269222040540',\n",
       " '23843270937040540',\n",
       " '23843280939580540',\n",
       " '23843280940680540',\n",
       " '23843280941430540',\n",
       " '23843280942430540']"
      ]
     },
     "execution_count": 6,
     "metadata": {},
     "output_type": "execute_result"
    }
   ],
   "source": [
    "get_sorted_adset(23843269222010540)"
   ]
  },
  {
   "cell_type": "code",
   "execution_count": 7,
   "metadata": {},
   "outputs": [],
   "source": [
    "def main(campaign):\n",
    "    df = mysql_adactivity_save.get_campaign_target(campaign)\n",
    "    charge_type = df['charge_type'].iloc[0]\n",
    "\n",
    "    daily_charge = df['daily_charge'].iloc[0]\n",
    "    day_dict = Campaigns( campaign, charge_type ).to_campaign(date_preset=DatePreset.today)\n",
    "    lifetime_dict = Campaigns( campaign, charge_type ).to_campaign(date_preset=DatePreset.lifetime)\n",
    "    try:target = int( day_dict['target'] )\n",
    "    except:target = 10000\n",
    "    fb = FacebookCampaignAdapter(campaign)\n",
    "    fb.get_df()\n",
    "    fb.get_bid()\n",
    "    fb.get_campaign_days_left()\n",
    "    campaign_days_left = fb.campaign_days_left\n",
    "    achieving_rate = target / daily_charge\n",
    "    print('[campaign_id]', campaign, '[achieving rate]', achieving_rate, target, daily_charge)\n",
    "    \n",
    "    adset_list = get_sorted_adset(campaign)\n",
    "    adset_for_copy, adset_for_off = split_adset_list(adset_list)\n",
    "    \n",
    "    if charge_type == 'CONVERSIONS':\n",
    "        name_copy=True\n",
    "        split_age=False\n",
    "    else:\n",
    "        name_copy=False\n",
    "        split_age=True\n",
    "        \n",
    "    if achieving_rate > ACTION_BOUNDARY and achieving_rate < 1:\n",
    "        bid_adjust=False\n",
    "            \n",
    "    elif achieving_rate < ACTION_BOUNDARY:\n",
    "        bid_adjust=True\n",
    "#         adjust_init_bid_of_adset(campaign, fb)\n",
    "    try:\n",
    "        duplicate_high_rank_adset(fb, campaign=campaign, charge_type=charge_type, name_copy=split_age, split_age=split_age, bid_adjust=bid_adjust)\n",
    "    except:\n",
    "        pass\n",
    "    return\n"
   ]
  },
  {
   "cell_type": "code",
   "execution_count": 8,
   "metadata": {},
   "outputs": [
    {
     "data": {
      "text/plain": [
       "<facebook_business.api.FacebookAdsApi at 0x7f4f06ff6588>"
      ]
     },
     "execution_count": 8,
     "metadata": {},
     "output_type": "execute_result"
    }
   ],
   "source": [
    "FacebookAdsApi.init(my_app_id, my_app_secret, my_access_token)"
   ]
  },
  {
   "cell_type": "code",
   "execution_count": 9,
   "metadata": {},
   "outputs": [],
   "source": [
    "def update_status(adset_id, status=AdSet.Status.active):\n",
    "    adset = AdSet(adset_id)\n",
    "    adset[AdSet.Field.status] = status\n",
    "    adset.remote_update()\n",
    "#     try:\n",
    "#         adset.remote_update()\n",
    "#     except:pass\n",
    "    return"
   ]
  },
  {
   "cell_type": "code",
   "execution_count": 10,
   "metadata": {},
   "outputs": [],
   "source": [
    "import json\n",
    "import requests"
   ]
  },
  {
   "cell_type": "code",
   "execution_count": 11,
   "metadata": {},
   "outputs": [],
   "source": [
    "def check_status(adset_id):\n",
    "    ad_set = AdSet(adset_id)\n",
    "    ad_set_data = ad_set.remote_read(fields = [AdSet.Field.status])\n",
    "    if ad_set_data.get(AdSet.Field.status) == 'ACTIVE':\n",
    "        return 'ACTIVE'"
   ]
  },
  {
   "cell_type": "code",
   "execution_count": 12,
   "metadata": {},
   "outputs": [],
   "source": [
    "def split_adset_list(adset_list):\n",
    "    import math\n",
    "    adset_list.sort(reverse=True)\n",
    "    half = math.ceil( len(adset_list) / 2 )\n",
    "    return adset_list[:half], adset_list[half:]"
   ]
  },
  {
   "cell_type": "code",
   "execution_count": 13,
   "metadata": {},
   "outputs": [
    {
     "data": {
      "text/plain": [
       "-6"
      ]
     },
     "execution_count": 13,
     "metadata": {},
     "output_type": "execute_result"
    }
   ],
   "source": [
    "fb = FacebookCampaignAdapter(23843269222010540)\n",
    "fb.get_df()\n",
    "fb.get_bid()\n",
    "fb.get_campaign_days_left()"
   ]
  },
  {
   "cell_type": "code",
   "execution_count": 14,
   "metadata": {},
   "outputs": [
    {
     "name": "stdout",
     "output_type": "stream",
     "text": [
      "{}\n",
      "{'cost_per_target': 0, 'target': '25', 'impressions': '65616', 'reach': '57576', 'spend': '16998'}\n",
      "[campaign_id] 23843269222010540 [achieving rate] -1142.857142857143 10000 -8.75\n",
      "CONVERSIONS True True False\n"
     ]
    }
   ],
   "source": [
    "campaign = 23843269222010540\n",
    "df = mysql_adactivity_save.get_campaign_target(campaign)\n",
    "charge_type = df['charge_type'].iloc[0]\n",
    "daily_charge = df['daily_charge'].iloc[0]\n",
    "day_dict = Campaigns( campaign, charge_type ).to_campaign('today')\n",
    "lifetime_dict = Campaigns( campaign, charge_type ).to_campaign('lifetime')\n",
    "try:target = int( day_dict['target'] )\n",
    "except:target = 10000\n",
    "fb = FacebookCampaignAdapter(campaign)\n",
    "fb.get_df()\n",
    "fb.get_bid()\n",
    "fb.get_campaign_days_left()\n",
    "campaign_days_left = fb.campaign_days_left\n",
    "achieving_rate = target / daily_charge\n",
    "print('[campaign_id]', campaign, '[achieving rate]', achieving_rate, target, daily_charge)\n",
    "\n",
    "adset_list = get_sorted_adset(campaign)\n",
    "adset_for_copy, adset_for_off = split_adset_list(adset_list)\n",
    "\n",
    "if charge_type == 'CONVERSIONS':\n",
    "    name_copy=True\n",
    "    split_age=False\n",
    "else:\n",
    "    name_copy=False\n",
    "    split_age=True\n",
    "\n",
    "if achieving_rate > ACTION_BOUNDARY and achieving_rate < 1:\n",
    "    bid_adjust=False\n",
    "\n",
    "elif achieving_rate < ACTION_BOUNDARY:\n",
    "    bid_adjust=True\n",
    "# try:\n",
    "print(charge_type, bid_adjust, name_copy, split_age)\n",
    "# except:\n",
    "#     print('pass')\n",
    "#     pass"
   ]
  },
  {
   "cell_type": "code",
   "execution_count": null,
   "metadata": {},
   "outputs": [
    {
     "name": "stdout",
     "output_type": "stream",
     "text": [
      "split_age== False  interval_count== 1\n",
      "split_age== False  interval_count== 1\n",
      "split_age== False  interval_count== 1\n"
     ]
    }
   ],
   "source": [
    "%%time\n",
    "duplicate_high_rank_adset(fb, campaign=campaign, charge_type=charge_type, name_copy=split_age, split_age=split_age, bid_adjust=bid_adjust)"
   ]
  },
  {
   "cell_type": "code",
   "execution_count": null,
   "metadata": {},
   "outputs": [],
   "source": []
  }
 ],
 "metadata": {
  "kernelspec": {
   "display_name": "Python 3",
   "language": "python",
   "name": "python3"
  },
  "language_info": {
   "codemirror_mode": {
    "name": "ipython",
    "version": 3
   },
   "file_extension": ".py",
   "mimetype": "text/x-python",
   "name": "python",
   "nbconvert_exporter": "python",
   "pygments_lexer": "ipython3",
   "version": "3.6.7"
  }
 },
 "nbformat": 4,
 "nbformat_minor": 2
}
