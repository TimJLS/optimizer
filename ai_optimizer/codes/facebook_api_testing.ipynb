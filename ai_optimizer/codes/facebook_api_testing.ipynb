{
 "cells": [
  {
   "cell_type": "code",
   "execution_count": 1,
   "metadata": {},
   "outputs": [],
   "source": [
    "from pathlib import Path\n",
    "from facebook_business.api import FacebookAdsApi\n",
    "from facebook_business.adobjects.adaccount import AdAccount\n",
    "from facebook_business.adobjects.adset import AdSet\n",
    "from facebook_business.adobjects.ad import Ad\n",
    "from facebook_business.adobjects.campaign import Campaign\n",
    "from facebook_business.adobjects.adcreative import AdCreative\n",
    "from facebook_business.adobjects.adactivity import AdActivity\n",
    "from facebook_business.adobjects.insightsresult import InsightsResult\n",
    "from facebook_business.adobjects.adsinsights import AdsInsights\n",
    "my_app_id = '958842090856883'\n",
    "my_app_secret = 'a952f55afca38572cea2994d440d674b'\n",
    "my_access_token = 'EAANoD9I4obMBAPcoZA5V7OZBQaPa3Tk7NMAT0ZBZCepdD8zZBcwMZBMHAM1zPeQiRY4Yw07rscee4LMRn9lMsJGuNZAYBA4nCYdZA6tsyL0KGTfQKIAFls3T5jul9Am6t95nbvcGXFmcFDYEyZAX2FpAuVesVGyiHuLFRKxlXfh5t6AZDZD'\n",
    "\n",
    "FacebookAdsApi.init(my_app_id, my_app_secret, my_access_token)\n",
    "\n",
    "import json\n",
    "import datetime\n",
    "import pandas as pd"
   ]
  },
  {
   "cell_type": "code",
   "execution_count": 2,
   "metadata": {},
   "outputs": [
    {
     "ename": "SyntaxError",
     "evalue": "invalid syntax (<ipython-input-2-fa5d899a9abe>, line 7)",
     "output_type": "error",
     "traceback": [
      "\u001b[0;36m  File \u001b[0;32m\"<ipython-input-2-fa5d899a9abe>\"\u001b[0;36m, line \u001b[0;32m7\u001b[0m\n\u001b[0;31m    'BRAND_AWARENESS': 'brand_awareness'\u001b[0m\n\u001b[0m                     ^\u001b[0m\n\u001b[0;31mSyntaxError\u001b[0m\u001b[0;31m:\u001b[0m invalid syntax\n"
     ]
    }
   ],
   "source": [
    "campaign_objective = {\n",
    "    'LINK_CLICKS': 'link_click',\n",
    "    'POST_ENGAGEMENT': 'post_engagement', \n",
    "    'VIDEO_VIEWS': 'video_view', \n",
    "    'CONVERSIONS':'offsite_conversion',\n",
    "    'APP_INSTALLS': 'app_installs'\n",
    "    'BRAND_AWARENESS': 'brand_awareness'\n",
    "    'EVENT_RESPONSES': 'event_responses'\n",
    "    'LEAD_GENERATION': 'lead_generation'\n",
    "    'LOCAL_AWARENESS': 'local_awareness'\n",
    "    'MESSAGES': 'messages'\n",
    "    'OFFER_CLAIMS': 'offer_claims'\n",
    "    'PAGE_LIKES': 'page_likes'\n",
    "    'PRODUCT_CATALOG_SALES': 'product_catalog_sales'\n",
    "    'REACH': 'reach'\n",
    "    'CLICKS': 'clicks',\n",
    "}\n",
    "charge_index = {\n",
    "    'LINK_CLICKS': 'link_click',\n",
    "    'POST_ENGAGEMENT': 'post_engagement',\n",
    "    'VIDEO_VIEWS': 'video_view',\n",
    "    'CONVERSIONS': 'offsite_conversion',\n",
    "    'APP_INSTALLS': 'app_installs'\n",
    "    'BRAND_AWARENESS': 'brand_awareness'\n",
    "    'EVENT_RESPONSES': 'event_responses'\n",
    "    'LEAD_GENERATION': 'lead_generation'\n",
    "    'LOCAL_AWARENESS': 'local_awareness'\n",
    "    'MESSAGES': 'messages'\n",
    "    'OFFER_CLAIMS': 'offer_claims'\n",
    "    'PAGE_LIKES': 'page_likes'\n",
    "    'PRODUCT_CATALOG_SALES': 'product_catalog_sales'\n",
    "    'REACH': 'reach'\n",
    "    'CLICKS': 'clicks',\n",
    "}"
   ]
  },
  {
   "cell_type": "code",
   "execution_count": null,
   "metadata": {},
   "outputs": [],
   "source": [
    "campaign_field = {\n",
    "    'spend_cap': Campaign.Field.spend_cap,\n",
    "    'objective': Campaign.Field.objective,\n",
    "    'start_time': Campaign.Field.start_time,\n",
    "    'stop_time': Campaign.Field.stop_time,\n",
    "}\n",
    "adset_field = {\n",
    "    'optimization_goal': AdSet.Field.optimization_goal,\n",
    "    'bid_amount': AdSet.Field.bid_amount,\n",
    "    'daily_budget': AdSet.Field.daily_budget,\n",
    "    'targeting': AdSet.Field.targeting,\n",
    "}"
   ]
  },
  {
   "cell_type": "code",
   "execution_count": null,
   "metadata": {},
   "outputs": [],
   "source": [
    "campaign_insights = {\n",
    "    'campaign_id': AdsInsights.Field.campaign_id,\n",
    "}\n",
    "adset_insights = {\n",
    "    'adset_id': AdsInsights.Field.adset_id,\n",
    "}\n",
    "general_insights = {\n",
    "    'impressions': AdsInsights.Field.impressions,\n",
    "    'reach': AdsInsights.Field.reach,\n",
    "    'actions': AdsInsights.Field.actions,\n",
    "    'cost_per_actions': AdsInsights.Field.cost_per_action_type,\n",
    "    'clicks': AdsInsights.Field.clicks,\n",
    "    'cpc': AdsInsights.Field.cpc,\n",
    "    'spend': AdsInsights.Field.spend,\n",
    "}"
   ]
  },
  {
   "cell_type": "code",
   "execution_count": null,
   "metadata": {},
   "outputs": [],
   "source": [
    "### CAMPAIGN ###\n",
    "COL_CAMPAIGN_ID='campaign_id'\n",
    "COL_SPEND_CAP='spend_cap'\n",
    "COL_OBJECTIVE='objective'\n",
    "COL_START_TIME='start_time'\n",
    "COL_STOP_TIME='stop_time'\n",
    "### ADSET ###\n",
    "COL_ADSET_ID='adset_id'\n",
    "COL_OPTIMAL_GOAL='optimization_goal'\n",
    "COL_BID_AMOUNT='bid_amount'\n",
    "COL_DAILY_BUDGET='daily_budget'\n",
    "COL_AGE_MAX='age_max'\n",
    "COL_AGE_MIN='age_min'\n",
    "COL_SPEND='spend'\n",
    "COL_FLEXIBLE_SPEC='flexible_spec'\n",
    "COL_GEO_LOCATIONS='geo_locations'\n",
    "### AD ###\n",
    "COL_AD_ID='ad_id'\n",
    "COL_IMPRESSIONS='impressions'\n",
    "COL_REACH='reach'\n",
    "\n",
    "COL_REQUEST_TIME='request_time'\n",
    "\n",
    "ACTIONS='actions'\n",
    "COST_PER_ACTIONS='cost_per_actions'\n",
    "\n",
    "COL_TARGET_TYPE='target_type'\n",
    "COL_CHARGE_TYPE='charge_type'"
   ]
  },
  {
   "cell_type": "code",
   "execution_count": null,
   "metadata": {},
   "outputs": [],
   "source": [
    "FEATURE_CAMPAIGN = [\n",
    "    \"id\", COL_SPEND_CAP, COL_OBJECTIVE, COL_START_TIME, COL_STOP_TIME\n",
    "]\n",
    "FEATURE_ADSET = [\n",
    "    COL_ADSET_ID, COL_OPTIMAL_GOAL, COL_BID_AMOUNT,COL_DAILY_BUDGET,\n",
    "    COL_AGE_MAX,COL_AGE_MIN,COL_FLEXIBLE_SPEC,COL_GEO_LOCATIONS,\n",
    "    COL_REQUEST_TIME, COL_SPEND\n",
    "]"
   ]
  },
  {
   "cell_type": "code",
   "execution_count": null,
   "metadata": {},
   "outputs": [],
   "source": [
    "campaign_feature_dict = {\n",
    "    COL_CAMPAIGN_ID:Campaign.Field.id,\n",
    "    COL_SPEND_CAP:Campaign.Field.spend_cap, \n",
    "    COL_OBJECTIVE:Campaign.Field.objective,\n",
    "    COL_START_TIME:Campaign.Field.start_time,\n",
    "    COL_STOP_TIME:Campaign.Field.stop_time,\n",
    "}\n",
    "adset_feature_dict = {\n",
    "    COL_ADSET_ID:AdSet.Field.id,\n",
    "    COL_OPTIMAL_GOAL:AdSet.Field.optimization_goal,\n",
    "    COL_BID_AMOUNT:AdSet.Field.bid_amount, \n",
    "    COL_DAILY_BUDGET:AdSet.Field.daily_budget,\n",
    "#     COL_AGE_MAX:AdSet.Field.age_max,\n",
    "#     COL_AGE_MIN:AdSet.Field.age_min,\n",
    "    COL_SPEND:AdsInsights.Field.spend,\n",
    "}\n",
    "#     COL_FLEXIBLE_SPEC:AdSet.Field.flexible_spec, \n",
    "#     COL_GEO_LOCATIONS:AdSet.Field.geo_locations,\n",
    "\n",
    "#     COL_AD_ID:AdsInsights.Field.id,\n",
    "#     COL_IMPRESSIONS:AdsInsights.Field.impressions,\n",
    "#     COL_REACH:AdsInsights.Field.reach\n",
    "\n",
    "action_dict = {\n",
    "    ACTIONS:AdsInsights.Field.actions,\n",
    "    COST_PER_ACTIONS:AdsInsights.Field.cost_per_action_type,\n",
    "}"
   ]
  },
  {
   "cell_type": "code",
   "execution_count": 11,
   "metadata": {},
   "outputs": [],
   "source": [
    "class Campaigns(object):\n",
    "    def __init__( self, campaign_id ):\n",
    "        self.campaign_id = campaign_id\n",
    "    def get_campaign_feature( self ):\n",
    "        campaign_feature_dict=dict(  )\n",
    "        ad_campaign = Campaign( self.campaign_id )\n",
    "#         adcamps = ad_campaign.remote_read( fields=FEATURE_CAMPAIGN )\n",
    "        adcamps = ad_campaign.remote_read(  )\n",
    "        return adcamps\n",
    "        for campaign_feature in FEATURE_CAMPAIGN:\n",
    "            campaign_feature_dict[ campaign_feature ]=adcamps.get( campaign_feature )\n",
    "#         print(campaign_feature_dict)\n",
    "        campaign_feature_dict[COL_CAMPAIGN_ID] = campaign_feature_dict.pop('id')\n",
    "        campaign_feature_dict[COL_TARGET_TYPE] = campaign_feature_dict.pop('objective')\n",
    "#         df = pd.DataFrame(campaign_feature_dict, index=[0])\n",
    "        campaign_feature_dict[COL_START_TIME] = datetime.datetime.strptime( campaign_feature_dict[COL_START_TIME],'%Y-%m-%dT%H:%M:%S+%f' )#.strftime( '%Y-%m-%d %H:%M:%S' )\n",
    "        campaign_feature_dict[COL_STOP_TIME] = datetime.datetime.strptime( campaign_feature_dict[COL_STOP_TIME],'%Y-%m-%dT%H:%M:%S+%f' )#.strftime( '%Y-%m-%d %H:%M:%S' )\n",
    "        campaign_feature_dict['campaign_days'] = ( campaign_feature_dict[COL_STOP_TIME] - campaign_feature_dict[COL_START_TIME] ).days\n",
    "        campaign_feature_dict[COL_START_TIME] = campaign_feature_dict[COL_START_TIME].strftime( '%Y-%m-%d %H:%M:%S' )\n",
    "        campaign_feature_dict[COL_STOP_TIME] = campaign_feature_dict[COL_STOP_TIME].strftime( '%Y-%m-%d %H:%M:%S' )\n",
    "#         if campaign_feature_dict[COL_SPEND_CAP] == None:\n",
    "#             campaign_feature_dict[COL_SPEND_CAP]=100000\n",
    "        campaign_feature_dict['budget_per_day'] = int(campaign_feature_dict[COL_SPEND_CAP])/campaign_feature_dict['campaign_days']\n",
    "        return campaign_feature_dict\n",
    "\n",
    "#     def get_campaign_insights( self ):\n",
    "#         campaign = Campaign( self.campaign_id )\n",
    "#         params = {\n",
    "#             'date_preset': 'today',\n",
    "#         }\n",
    "#         insights_cpc = []\n",
    "#         df = mysql_adactivity_save.get_campaign_target( self.campaign_id )\n",
    "#         if df['charge_type'].iloc[0] == 'CLICKS':\n",
    "#             insights_cpc.append( target_cpc[ df[COL_CHARGE_TYPE].iloc[0] ] )\n",
    "#             insights_cpc.append( target_charge[ df[COL_CHARGE_TYPE].iloc[0] ] )\n",
    "#         else:\n",
    "#             insights_cpc.append( AdsInsights.Field.cost_per_action_type )\n",
    "#         insights = campaign.get_insights(params=params, fields=insights_camp+insights_cpc)\n",
    "        \n",
    "#         return insights"
   ]
  },
  {
   "cell_type": "code",
   "execution_count": 12,
   "metadata": {},
   "outputs": [
    {
     "data": {
      "text/plain": [
       "<Campaign> {\n",
       "    \"id\": \"23843355587140564\"\n",
       "}"
      ]
     },
     "execution_count": 12,
     "metadata": {},
     "output_type": "execute_result"
    }
   ],
   "source": [
    "Campaigns(23843355587140564).get_campaign_feature()"
   ]
  },
  {
   "cell_type": "code",
   "execution_count": null,
   "metadata": {},
   "outputs": [],
   "source": [
    "field_clicks = ['cpc', 'clicks']"
   ]
  },
  {
   "cell_type": "code",
   "execution_count": null,
   "metadata": {},
   "outputs": [],
   "source": [
    "fields_ad = [ AdsInsights.Field.ad_id, AdsInsights.Field.impressions, AdsInsights.Field.reach ]\n",
    "insights_ad = [ AdsInsights.Field.actions, AdsInsights.Field.cost_per_action_type ]"
   ]
  },
  {
   "cell_type": "code",
   "execution_count": null,
   "metadata": {},
   "outputs": [],
   "source": [
    "insights_camp=[ AdsInsights.Field.spend, AdsInsights.Field.actions, AdsInsights.Field.impressions]\n",
    "fields_camp=[ Campaign.Field.id, Campaign.Field.spend_cap, Campaign.Field.start_time, Campaign.Field.stop_time,\n",
    "              Campaign.Field.objective ]\n",
    "COL_SPEND_CAP, COL_OBJECTIVE, COL_START_TIME, COL_STOP_TIME = 'spend_cap', 'objective', 'start_time', 'stop_time'\n",
    "\n",
    "COL_CAMPAIGN = [ 'campaign_id','spend_cap', 'objective', 'start_time', 'stop_time' ]"
   ]
  },
  {
   "cell_type": "code",
   "execution_count": null,
   "metadata": {},
   "outputs": [],
   "source": [
    "HOUR_TIME = 'hourly_stats_aggregated_by_audience_time_zone'\n",
    "AGE = 'age'\n",
    "GENDER = 'gender'\n",
    "# breakdowns = [AGE, GENDER]\n",
    "breakdowns = [HOUR_TIME]\n",
    "fields_adSet = [ AdSet.Field.id, AdSet.Field.bid_amount, AdSet.Field.daily_budget, AdSet.Field.budget_remaining,\n",
    "                 AdSet.Field.optimization_goal, AdSet.Field.targeting, AdSet.Field.effective_status ]\n",
    "insights_adSet = [ AdsInsights.Field.spend ]\n",
    "COL_CAMPAIGN_ID, COL_ADSET_ID = 'campaign_id', 'adset_id'\n",
    "COL_TARGET_TYPE = 'target_type'\n",
    "COL_TARGET_CPC = 'target_cpc'\n",
    "COL_CHARGE_CPC = 'charge_cpc'\n",
    "COL_TARGET = 'target'\n",
    "COL_CHARGE = 'charge'\n",
    "COL_OPTIMAL_GOAL, COL_BID_AMOUNT, COL_DAILY_BUDGET, COL_AGE_MAX, COL_AGE_MIN, COL_SPEND = 'optimization_goal', 'bid_amount', 'daily_budget', 'age_max', 'age_min', 'spend'\n",
    "COL_FLEXIBLE_SPEC, COL_GEO_LOCATIONS = 'flexible_spec', 'geo_locations'\n"
   ]
  },
  {
   "cell_type": "code",
   "execution_count": null,
   "metadata": {},
   "outputs": [],
   "source": [
    "target_cpc = {'CLICKS':AdsInsights.Field.cpc}\n",
    "target_charge={'CLICKS':AdsInsights.Field.clicks}"
   ]
  },
  {
   "cell_type": "code",
   "execution_count": 47,
   "metadata": {},
   "outputs": [],
   "source": [
    "class Accounts(object):\n",
    "    def __init__( self, account_id ):\n",
    "        self.account_id = account_id\n",
    "    def get_account_insights( self ):\n",
    "        accounts = AdAccount( self.account_id )\n",
    "        params = {\n",
    "            'date_preset': 'today',\n",
    "        }\n",
    "        account = accounts.get_insights(params=params,\n",
    "                                        fields=[AdsInsights.Field.account_id,\n",
    "                                               AdsInsights.Field.cpc,\n",
    "                                               AdsInsights.Field.clicks,\n",
    "                                               AdsInsights.Field.spend,\n",
    "                                               AdsInsights.Field.impressions,]\n",
    "                                       )\n",
    "        return account"
   ]
  },
  {
   "cell_type": "code",
   "execution_count": 49,
   "metadata": {},
   "outputs": [
    {
     "ename": "AttributeError",
     "evalue": "'Campaigns' object has no attribute 'get_account_id'",
     "output_type": "error",
     "traceback": [
      "\u001b[0;31m---------------------------------------------------------------------------\u001b[0m",
      "\u001b[0;31mAttributeError\u001b[0m                            Traceback (most recent call last)",
      "\u001b[0;32m<timed exec>\u001b[0m in \u001b[0;36m<module>\u001b[0;34m()\u001b[0m\n",
      "\u001b[0;31mAttributeError\u001b[0m: 'Campaigns' object has no attribute 'get_account_id'"
     ]
    }
   ],
   "source": [
    "%%time\n",
    "acc = Campaigns(23843355587140564).get_account_id()\n",
    "# print(Accounts( \"act_\"+ acc ).get_account_insights())"
   ]
  },
  {
   "cell_type": "code",
   "execution_count": 33,
   "metadata": {},
   "outputs": [],
   "source": [
    "class Campaigns(object):\n",
    "    def __init__( self, campaign_id ):\n",
    "        self.campaign_id = campaign_id\n",
    "    def get_campaign_feature( self ):\n",
    "        campaign_feature_dict=dict(  )\n",
    "        ad_campaign = Campaign( self.campaign_id )\n",
    "        adcamps = ad_campaign.remote_read( fields=fields_camp )\n",
    "        for campaign_feature in FEATURE_CAMPAIGN:\n",
    "            campaign_feature_dict[ campaign_feature ]=adcamps.get( campaign_feature )\n",
    "        campaign_feature_dict[COL_CAMPAIGN_ID] = campaign_feature_dict.pop('id')\n",
    "        campaign_feature_dict[COL_TARGET_TYPE] = campaign_feature_dict.pop('objective')\n",
    "#         df = pd.DataFrame(campaign_feature_dict, index=[0])\n",
    "        campaign_feature_dict['start_time'] = datetime.datetime.strptime( campaign_feature_dict['start_time'],'%Y-%m-%dT%H:%M:%S+%f' )#.strftime( '%Y-%m-%d %H:%M:%S' )\n",
    "        campaign_feature_dict['stop_time'] = datetime.datetime.strptime( campaign_feature_dict['stop_time'],'%Y-%m-%dT%H:%M:%S+%f' )#.strftime( '%Y-%m-%d %H:%M:%S' )\n",
    "        campaign_feature_dict['campaign_days'] = ( campaign_feature_dict['stop_time'] - campaign_feature_dict['start_time'] ).days\n",
    "        campaign_feature_dict['start_time'] = campaign_feature_dict['start_time'].strftime( '%Y-%m-%d %H:%M:%S' )\n",
    "        campaign_feature_dict['stop_time'] = campaign_feature_dict['stop_time'].strftime( '%Y-%m-%d %H:%M:%S' )\n",
    "        \n",
    "        campaign_feature_dict['budget_per_day'] = int(campaign_feature_dict['spend_cap'])/campaign_feature_dict['campaign_days']\n",
    "        #         mysql_adactivity_save.intoDB(\"campaign_target\", df)\n",
    "        return campaign_feature_dict\n",
    "    def get_campaign_insights( self ):\n",
    "        campaign = Campaign( self.campaign_id )\n",
    "        params = {\n",
    "            'date_preset': 'today',\n",
    "        }\n",
    "        insights_cpc = []\n",
    "        df = mysql_adactivity_save.get_campaign_target( self.campaign_id )\n",
    "#         print(df)\n",
    "        if df['charge_type'].iloc[0] == 'CLICKS':\n",
    "            insights_cpc.append( target_cpc[ df['charge_type'].iloc[0] ] )\n",
    "            insights_cpc.append( target_charge[ df['charge_type'].iloc[0] ] )\n",
    "        else:\n",
    "            insights_cpc.append( AdsInsights.Field.cost_per_action_type )\n",
    "        insights = campaign.get_insights(params=params, fields=insights_camp+insights_cpc)\n",
    "        \n",
    "        return insights\n",
    "    def get_lifetime_insights(self):\n",
    "        campaign = Campaign( self.campaign_id )\n",
    "        params = {\n",
    "            'date_preset': 'lifetime',\n",
    "        }\n",
    "        insights_cpc = []\n",
    "        df = mysql_adactivity_save.get_campaign_target( self.campaign_id )\n",
    "        if df['charge_type'].iloc[0] == 'CLICKS':\n",
    "            insights_cpc.append( target_cpc[ df['charge_type'].iloc[0] ] )\n",
    "            insights_cpc.append( target_charge[ df['charge_type'].iloc[0] ] )\n",
    "        else:\n",
    "            insights_cpc.append( AdsInsights.Field.cost_per_action_type )\n",
    "        insights = campaign.get_insights(params=params, fields=insights_camp+insights_cpc)\n",
    "        \n",
    "        return insights\n",
    "    def get_adids( self ):\n",
    "        ad_id_list=list()\n",
    "        ad_campaign = Campaign( self.campaign_id )\n",
    "        ads = ad_campaign.get_ads( fields = [ AdSet.Field.id ])\n",
    "\n",
    "        for ad in ads:\n",
    "            ad_id_list.append( ad.get(\"id\") )\n",
    "        return ad_id_list\n",
    "    def get_account_id( self ):\n",
    "        campaign = Campaign( self.campaign_id )\n",
    "        account = campaign.get_insights( fields=[AdsInsights.Field.account_id])\n",
    "        acc_id = account[0].get(\"account_id\")\n",
    "        return acc_id"
   ]
  },
  {
   "cell_type": "code",
   "execution_count": 58,
   "metadata": {},
   "outputs": [
    {
     "name": "stdout",
     "output_type": "stream",
     "text": [
      "{'stop_time': '2018-12-31 23:59:00', 'budget_per_day': 1666.6666666666667, 'campaign_id': '23843355587140564', 'start_time': '2018-12-01 00:00:00', 'campaign_days': 30, 'spend_cap': '50000', 'target_type': 'LINK_CLICKS'}\n",
      "{'target': 3829}\n",
      "CPU times: user 12 ms, sys: 8 ms, total: 20 ms\n",
      "Wall time: 640 ms\n"
     ]
    }
   ],
   "source": [
    "%%time\n",
    "Campaigns(23843355587140564).get_lifetime_insights()\n",
    "print(Campaigns(23843355587140564).get_campaign_feature())\n",
    "def check_lifetime_target( campaign_id ):\n",
    "    insights = Campaigns( campaign_id ).get_lifetime_insights()\n",
    "    df = mysql_adactivity_save.get_campaign_target( campaign_id )\n",
    "    charge_type = df['charge_type'].iloc[0]\n",
    "\n",
    "    charge = int( insights[0].get(\"clicks\") )\n",
    "    campaign_target = df['target'].iloc[0] - charge\n",
    "    campaign_lifetime=dict()\n",
    "    campaign_lifetime['target']=campaign_target\n",
    "    return campaign_lifetime\n",
    "print(update_campaign_target(23843355587140564))"
   ]
  },
  {
   "cell_type": "code",
   "execution_count": 3,
   "metadata": {},
   "outputs": [],
   "source": [
    "\n",
    "class AdSets(object):\n",
    "    def __init__( self, adset_id ):\n",
    "        self.adset_id = adset_id\n",
    "        \n",
    "    def get_ads( self ):\n",
    "        ad_list=list()\n",
    "        adset = AdSet( self.adset_id )\n",
    "        ads = adset.get_ads( fields = [ Ad.Field.id ])\n",
    "        for ad in ads:\n",
    "            ad_list.append( ad.get(\"id\") )\n",
    "        return ad_list\n",
    "    \n",
    "    def get_adset_insights( self ):\n",
    "        ad_set = AdSet( self.adset_id )\n",
    "        params = {\n",
    "            \"fields\" : \",\".join(insights_adSet),\n",
    "#             \"breakdowns\" : \",\".join(breakdowns),\n",
    "#             \"time_increment\" : 1,\n",
    "            'limit' : 10000,\n",
    "            'data_preset':'today',\n",
    "        }\n",
    "        adsets = ad_set.get_insights(params=params)\n",
    "        for adset in adsets:\n",
    "            spend = adset.get(COL_SPEND)\n",
    "#         print(adsets)\n",
    "        adsets = ad_set.remote_read( fields = fields_adSet, params = params )\n",
    "#         for \n",
    "        optimal_goal = adsets.get( COL_OPTIMAL_GOAL )\n",
    "        bid_amount, daily_budget = adsets.get( COL_BID_AMOUNT ), adsets.get( COL_DAILY_BUDGET )\n",
    "        age_max = adsets.get( AdSet.Field.targeting ).get( COL_AGE_MAX )\n",
    "        age_min = adsets.get( AdSet.Field.targeting ).get( COL_AGE_MIN )\n",
    "        flexible_spec = str( adsets.get( AdSet.Field.targeting ).get( COL_FLEXIBLE_SPEC ) )\n",
    "        geo_locations = str( adsets.get( AdSet.Field.targeting ).get( COL_GEO_LOCATIONS ) )\n",
    "        adset_insights_keys=FEATURE_ADSET\n",
    "        adset_insights_values=[ self.adset_id, optimal_goal, bid_amount, daily_budget,\n",
    "                               age_max, age_min, flexible_spec, geo_locations, datetime.datetime.now(), spend ]\n",
    "        adset_insight_dict = dict(zip(adset_insights_keys, adset_insights_values))\n",
    "        df = pd.DataFrame(adset_insight_dict, index=[0])\n",
    "#         mysql_adactivity_save.intoDB(\"adset_insights\", df)\n",
    "        return df\n"
   ]
  },
  {
   "cell_type": "code",
   "execution_count": 4,
   "metadata": {
    "scrolled": false
   },
   "outputs": [
    {
     "name": "stdout",
     "output_type": "stream",
     "text": [
      "CPU times: user 15 ms, sys: 0 ns, total: 15 ms\n",
      "Wall time: 507 ms\n"
     ]
    },
    {
     "data": {
      "text/plain": [
       "['23843237387020316']"
      ]
     },
     "execution_count": 4,
     "metadata": {},
     "output_type": "execute_result"
    }
   ],
   "source": [
    "%%time\n",
    "AdSets(23843237387200316).get_ads()"
   ]
  },
  {
   "cell_type": "code",
   "execution_count": 15,
   "metadata": {
    "scrolled": true
   },
   "outputs": [
    {
     "name": "stderr",
     "output_type": "stream",
     "text": [
      "Using TensorFlow backend.\n"
     ]
    }
   ],
   "source": [
    "import mysql_adactivity_save"
   ]
  },
  {
   "cell_type": "code",
   "execution_count": 213,
   "metadata": {},
   "outputs": [],
   "source": [
    "class Ads( AdSets, Campaigns ):\n",
    "    def __init__( self, ad_id ):\n",
    "        self.ad_id = ad_id\n",
    "    def get_camp_id( self ):\n",
    "        ad = Ad( self.ad_id )\n",
    "        campaign = ad.remote_read( fields=[ Ad.Field.campaign_id ] )\n",
    "        return int( campaign.get( COL_CAMPAIGN_ID ) )\n",
    "    def get_adset_id(self):\n",
    "        ad = Ad( self.ad_id )\n",
    "        adset = ad.remote_read( fields=[ Ad.Field.adset_id ] )\n",
    "        return int( adset.get( COL_ADSET_ID ) )    \n",
    "    def get_ad_insights( self ):\n",
    "        insight_dict = dict()\n",
    "        insight = list()\n",
    "        ad = Ad( self.ad_id )\n",
    "        params = {\n",
    "            \"fields\" : \",\".join( fields_ad + field_clicks + insights_ad ),\n",
    "            \"date_preset\" : 'today', \n",
    "        }\n",
    "        ad_insights = ad.get_insights( params=params )\n",
    "        ads = Ads( self.ad_id )\n",
    "        df = mysql_adactivity_save.get_campaign_target( ads.get_camp_id() )\n",
    "        target_type = Campaigns( ads.get_camp_id() ).get_campaign_feature()[COL_TARGET_TYPE]\n",
    "        charge_type = target_type\n",
    "#         charge_type = df['charge_type'][df.campaign_id==ads.get_camp_id()].iloc[0]\n",
    "\n",
    "        for field in fields_ad:\n",
    "            insight_dict[field]=ad_insights[0].get(field)\n",
    "        charge_type = 'CLICKS'\n",
    "        for field in insights_ad:\n",
    "            insight_dict[COL_TARGET] = '0'\n",
    "            insight_dict[COL_CHARGE] = '0'\n",
    "            insight_dict[COL_TARGET_CPC] = '0'\n",
    "            insight_dict[COL_CHARGE_CPC] = '0'\n",
    "            for act in ad_insights[0].get('actions'):\n",
    "                if act['action_type']==campaign_objective[target_type]:\n",
    "                    insight_dict[COL_TARGET] = act['value']\n",
    "                    insight_dict[COL_CHARGE] = act['value']\n",
    "            for act in ad_insights[0].get('cost_per_action_type'):\n",
    "                if act['action_type']==campaign_objective[target_type]:\n",
    "                    insight_dict[COL_TARGET_CPC] = act['value']\n",
    "                    insight_dict[COL_CHARGE_CPC] = act['value']\n",
    "\n",
    "        if charge_type == 'CLICKS':\n",
    "            insight_dict[COL_CHARGE] = '0'\n",
    "            insight_dict[COL_CHARGE_CPC] = '0'         \n",
    "            insight_dict[COL_CHARGE] = ad_insights[0].get('clicks')\n",
    "            insight_dict[COL_CHARGE_CPC] = ad_insights[0].get('cpc')\n",
    "               \n",
    "        return insight_dict\n",
    "    def get_campaign_feature( self ):\n",
    "        ad = Ads( self.ad_id )\n",
    "        campaign = Campaigns( ad.get_camp_id() )\n",
    "        return campaign.get_campaign_feature()\n",
    "    def get_adset_insights( self ):\n",
    "        ad = Ads( self.ad_id )\n",
    "        adset = AdSets( ad.get_adset_id() )\n",
    "        return adset.get_adset_insights()"
   ]
  },
  {
   "cell_type": "code",
   "execution_count": 217,
   "metadata": {},
   "outputs": [
    {
     "name": "stderr",
     "output_type": "stream",
     "text": [
      "/usr/local/lib/python3.5/dist-packages/facebook_business/utils/api_utils.py:30: UserWarning: value of fields might not be compatible.  Expect list<string>;  got <class 'str'>\n",
      "  warnings.warn(message)\n"
     ]
    },
    {
     "name": "stdout",
     "output_type": "stream",
     "text": [
      "{'target_cpc': '5', 'charge': '41', 'charge_cpc': '3.04878', 'ad_id': '23843155473100463', 'target': '25', 'impressions': '574', 'reach': '537'}\n",
      "CPU times: user 12 ms, sys: 0 ns, total: 12 ms\n",
      "Wall time: 562 ms\n"
     ]
    }
   ],
   "source": [
    "%%time\n",
    "print(Ads(23843155473100463).get_ad_insights())"
   ]
  },
  {
   "cell_type": "code",
   "execution_count": null,
   "metadata": {
    "scrolled": false
   },
   "outputs": [],
   "source": [
    "data_collect(23843355587140564, 10000, 'CLICKS')"
   ]
  },
  {
   "cell_type": "code",
   "execution_count": null,
   "metadata": {},
   "outputs": [],
   "source": [
    "def data_collect( campaign_id, total_clicks, charge_type ):\n",
    "    request_time = datetime.datetime.now()\n",
    "    request_dict = {'request_time': request_time}\n",
    "    charge_dict = {'charge_type': charge_type}\n",
    "    campaign_dict =  {**Campaigns( campaign_id ).get_campaign_feature(), **charge_dict}\n",
    "    df_camp = pd.DataFrame(campaign_dict, index=[0])\n",
    "#     mysql_adactivity_save.update_campaign_target(df_camp)#update to campaign_target\n",
    "    for ad in Campaigns( campaign_id ).get_adids():\n",
    "        if Ads(ad).get_ad_insights()!=None:\n",
    "            ad_dict = {**Ads(ad).get_ad_insights(), **{'adset_id':Ads(ad).get_adset_id()}, **{'campaign_id':Ads(ad).get_camp_id()}, **request_dict}\n",
    "            print(ad_dict)\n",
    "            df_ad = pd.DataFrame(ad_dict, index=[0])\n",
    "            df_adset = Ads(ad).get_adset_insights()\n",
    "#         mysql_adactivity_save.intoDB(\"ad_insights\", df_ad)#insert into ad_insights\n",
    "#         mysql_adactivity_save.intoDB(\"adset_insights\", df_adset)#insert into adset_insights"
   ]
  },
  {
   "cell_type": "code",
   "execution_count": null,
   "metadata": {},
   "outputs": [],
   "source": [
    "import pandas as pd\n",
    "import datetime\n",
    "columns = ['ad_id', 'cpc', 'clicks', 'impressions', 'reach', 'campaign_id', 'spend_cap', 'objective', 'start_time', 'stop_time', 'adset_id', 'bid_amount', 'daily_budget', 'age_max', 'age_min', 'flexible_spec', 'geo_locations', 'request_time']\n",
    "def data_collect( campaign_id, total_clicks ):\n",
    "    request_time = datetime.datetime.now()\n",
    "    for ad in Campaigns( campaign_id ).get_adids():\n",
    "        ad_insights_dict = Ads(ad).get_ad_insights()\n",
    "        if len(ad_insights_dict) != 0:\n",
    "            target_dict = {'total_clicks':total_clicks, 'request_time':request_time}\n",
    "            camp_feature_dict = Ads(ad).get_campaign_feature()\n",
    "            adset_insight_dict = Ads(ad).get_adset_insights()\n",
    "            feature_dict = {**target_dict, **ad_insights_dict, **camp_feature_dict, **adset_insight_dict}\n",
    "            \n",
    "            feature_dict['campaign_id'] = feature_dict.pop('id')\n",
    "            df = pd.DataFrame(feature_dict, index=[0])\n",
    "            df['start_time'] = datetime.datetime.strptime( df['start_time'].iloc[0],'%Y-%m-%dT%H:%M:%S+%f' ).strftime( '%Y-%m-%d %H:%M:%S' )\n",
    "            df['stop_time'] = datetime.datetime.strptime( df['stop_time'].iloc[0],'%Y-%m-%dT%H:%M:%S+%f' ).strftime( '%Y-%m-%d %H:%M:%S' )\n",
    "            \n",
    "            print(type(feature_dict.values()))\n",
    "    return"
   ]
  },
  {
   "cell_type": "code",
   "execution_count": null,
   "metadata": {},
   "outputs": [],
   "source": [
    "%%time\n",
    "for campaign in campaign_list:\n",
    "    data_collect(campaign, 700)"
   ]
  },
  {
   "cell_type": "code",
   "execution_count": null,
   "metadata": {},
   "outputs": [],
   "source": [
    "%%time\n",
    "fields_adactivity=[AdActivity.Field.extra_data,\n",
    "                   AdActivity.Field.object_name,\n",
    "                   AdActivity.Field.event_time,\n",
    "                   AdActivity.Field.translated_event_type,\n",
    "                   AdActivity.Field.object_id,\n",
    "                   AdActivity.Field.actor_name,]\n",
    "extra_data=[]\n",
    "object_name=[]\n",
    "event_time=[]\n",
    "event_type=[]\n",
    "object_id=[]\n",
    "actor_name=[]\n",
    "def campaign_activity(account_id, datetime):\n",
    "    # camp = AdSet('23843180433070316')act_1676002585827979act_1587964461298459\n",
    "    camp = AdAccount('account_id')\n",
    "    params = {\n",
    "        \"time_increment\" : 1,\n",
    "        'limit' : 10000,\n",
    "        'since':datetime.datetime(2017,11,10),\n",
    "    }\n",
    "    CAMP = camp.get_activities( params=params, fields=fields_adactivity )\n",
    "    columns=[ 'object_id', 'actor_name', 'old_budget', 'new_budget', 'old_bid', 'new_bid', 'old_value', 'new_value', 'event_time' ]\n",
    "    results = pd.DataFrame(columns=columns)\n",
    "    for camp in CAMP:\n",
    "        event_time = datetime.datetime.strptime( camp.get( \"event_time\" ),'%Y-%m-%dT%H:%M:%S+%f' ).strftime( '%Y-%m-%d %H:%M:%S' )\n",
    "        object_id = camp.get(\"object_id\")\n",
    "        actor_name = camp.get(\"actor_name\")\n",
    "        if camp.get(\"translated_event_type\") == \"Ad set budget updated\":\n",
    "            adset_id = object_id\n",
    "            old_budget = json.loads( camp.get( \"extra_data\" ) ).get(\"old_value\").get(\"old_value\")\n",
    "            new_budget = json.loads( camp.get( \"extra_data\" ) ).get(\"new_value\").get(\"new_value\")\n",
    "    #         print( object_id, old_budget, new_budget, event_time )\n",
    "            tmp=pd.DataFrame(data={'object_id':object_id, 'actor_name':actor_name, \n",
    "                                   'old_budget':old_budget, 'new_budget':new_budget,\n",
    "                                   'event_time':event_time,\n",
    "                                  }, index=[0])\n",
    "            results = pd.concat([results, tmp], ignore_index=True)\n",
    "        elif camp.get(\"translated_event_type\") == \"Ad set bid strategy updated\":\n",
    "            adset_id = object_id\n",
    "            old_bid = json.loads( camp.get( \"extra_data\" ) ).get( \"additional_value\" ).get( \"old_value\" )\n",
    "            new_bid = json.loads( camp.get( \"extra_data\" ) ).get( \"additional_value\" ).get( \"new_value\" )\n",
    "    #         print( object_id, old_bid, new_bid, event_time )\n",
    "            tmp=pd.DataFrame(data={'object_id':object_id, 'actor_name':actor_name,\n",
    "                                   'old_bid':old_bid, 'new_bid':new_bid,\n",
    "                                   'event_time':event_time,\n",
    "                                  }, index=[0])\n",
    "            results = pd.concat([results, tmp], ignore_index=True)\n",
    "        elif camp.get(\"translated_event_type\") == \"Campaign status updated\":\n",
    "            campaign_id = object_id\n",
    "            old_value = json.loads( camp.get( \"extra_data\" ) ).get(\"old_value\")\n",
    "            new_value = json.loads( camp.get( \"extra_data\" ) ).get(\"new_value\")\n",
    "    #         print( object_id, old_value, new_value, event_time )\n",
    "            tmp=pd.DataFrame(data={'object_id':object_id, 'actor_name':actor_name, \n",
    "                                   'old_value':old_value, 'new_value':new_value,\n",
    "                                   'event_time':event_time,\n",
    "                                  }, index=[0])\n",
    "            results = pd.concat([results, tmp], ignore_index=True)\n",
    "# results.to_csv('../data/'+ 'act_1587964461298459'+ '_activity_log.csv', sep=',', encoding='utf-8', index=False)"
   ]
  },
  {
   "cell_type": "code",
   "execution_count": null,
   "metadata": {},
   "outputs": [],
   "source": [
    "def checkFile(file_path, columns):\n",
    "    if not file_path.exists():\n",
    "        output_file = open(str(file_path), 'a+')\n",
    "        #create column header\n",
    "        for field in columns:\n",
    "            output_file.write(field+',')\n",
    "        output_file.write('\\n')\n",
    "\n",
    "\n",
    "def generateCSVForInsight(data, file_path, columns):\n",
    "    \n",
    "    checkFile(file_path , columns )\n",
    "    output_file = open(str(file_path), 'a+')\n",
    "    \n",
    "    #create ad content for each row    \n",
    "    for record in data:\n",
    "        for field in columns:\n",
    "\n",
    "            if record.get(field):\n",
    "                field_value = record.get(field)                \n",
    "                if field == HOUR_TIME:\n",
    "                    field_value = field_value[0:2]                    \n",
    "                output_file.write(field_value)\n",
    "            else:\n",
    "                output_file.write(\"None\")\n",
    "            output_file.write(\",\")\n",
    "        output_file.write(\"\\n\")\n",
    "    output_file.close()\n",
    "        \n",
    "    \n",
    "def generateCSV_ForData(data, file_path, columns):\n",
    "    \n",
    "    checkFile(file_path , columns )\n",
    "    output_file = open(str(file_path), 'a+')\n",
    "    \n",
    "    #create ad content for each row\n",
    "    \n",
    "    for field in columns:\n",
    "        if data.get(field):\n",
    "            field_value = data.get(field)                                  \n",
    "            output_file.write(str(field_value))\n",
    "        else:\n",
    "            output_file.write(\"None\")\n",
    "        \n",
    "        output_file.write(\",\")\n",
    "    output_file.write(\"\\n\")\n",
    "    output_file.close()\n",
    "\n",
    "def getAdByAccount(ad_account_id):\n",
    "    print('ad_account_id:' , ad_account_id)\n",
    "\n",
    "    ad_account = AdAccount(ad_account_id)\n",
    "    ads = ad_account.get_ads()\n",
    "    for ad in ads:\n",
    "        getInsightByAd(ad['id'])\n",
    "def getInsightByAd(ad_id):\n",
    "    print('ad_id:' , ad_id)\n",
    "    ad = Ad(ad_id)\n",
    "    params = {\n",
    "     \"fields\" : \",\".join(fields_ad)\n",
    "     , \"breakdowns\" : \",\".join(breakdowns)\n",
    "     , \"time_increment\" : 1   \n",
    "     , \"date_preset\" : 'lifetime'\n",
    "    }\n",
    "    ad_insights = ad.get_insights(params=params)\n",
    "#     print(ad_insights)\n",
    "    generateCSVForInsight(ad_insights, Path(ad_file_name), ad_attribues )"
   ]
  },
  {
   "cell_type": "code",
   "execution_count": null,
   "metadata": {
    "scrolled": true
   },
   "outputs": [],
   "source": [
    "if __name__ == \"__main__\":\n",
    "    ad_file_name = '../data/' + 'act_1676002585827979' + '_ad.csv'\n",
    "    fields_ad = [ 'campaign_name','campaign_id','adset_name', 'adset_id', 'ad_name','ad_id', 'date_start' , 'cpm' , 'cpc' , 'clicks', 'impressions', 'reach', 'spend']\n",
    "    ad_attribues = fields_ad + breakdowns\n",
    "    FacebookAdsApi.init(my_app_id, my_app_secret, my_access_token)\n",
    "    getAdByAccount('act_1676002585827979')"
   ]
  },
  {
   "cell_type": "code",
   "execution_count": null,
   "metadata": {},
   "outputs": [],
   "source": []
  }
 ],
 "metadata": {
  "kernelspec": {
   "display_name": "Python 3",
   "language": "python",
   "name": "python3"
  },
  "language_info": {
   "codemirror_mode": {
    "name": "ipython",
    "version": 3
   },
   "file_extension": ".py",
   "mimetype": "text/x-python",
   "name": "python",
   "nbconvert_exporter": "python",
   "pygments_lexer": "ipython3",
   "version": "3.6.7"
  }
 },
 "nbformat": 4,
 "nbformat_minor": 2
}
