{
 "cells": [
  {
   "cell_type": "code",
   "execution_count": null,
   "metadata": {},
   "outputs": [],
   "source": [
    "import numpy as np\n",
    "import pandas as pd\n",
    "import datetime\n",
    "import math\n",
    "from sklearn.preprocessing import StandardScaler\n",
    "import matplotlib.pyplot as plt"
   ]
  },
  {
   "cell_type": "code",
   "execution_count": null,
   "metadata": {},
   "outputs": [],
   "source": [
    "df = pd.read_csv('/storage/opt_project_test/optProjectTest/optProjectTest/data/build_campaign_model.csv' )"
   ]
  },
  {
   "cell_type": "code",
   "execution_count": null,
   "metadata": {},
   "outputs": [],
   "source": [
    "init_bid = [10, 10, 10, 10, 10, 12, 12, 12, 12, 12, 12, 12]\n",
    "bid =      [10, 10, 11, 11, 13, 14, 13, 15, 15, 14, 16, 16]\n",
    "daily_charge=np.full((12,), 322)\n",
    "daily_budget=np.full((12,), 1650)\n",
    "df_bid = pd.DataFrame({'init_bid':init_bid, 'bid':bid, 'daily_charge':daily_charge, 'daily_budget':daily_budget})\n",
    "df_bid"
   ]
  },
  {
   "cell_type": "code",
   "execution_count": null,
   "metadata": {},
   "outputs": [],
   "source": [
    "df_camp = pd.concat( [df, df_bid], axis=1 )\n",
    "df_camp"
   ]
  },
  {
   "cell_type": "code",
   "execution_count": null,
   "metadata": {},
   "outputs": [],
   "source": [
    "df_train_x = df_camp[['init_bid', 'Impressions', 'Amount Spent (TWD)', 'Clicks (All)', 'CPC (All) (TWD)', 'daily_budget', 'daily_charge']]\n",
    "df_train_y = df_camp[['Impressions','Amount Spent (TWD)', 'Clicks (All)', 'CPC (All) (TWD)', 'bid']]"
   ]
  },
  {
   "cell_type": "code",
   "execution_count": null,
   "metadata": {},
   "outputs": [],
   "source": [
    "df_train_x = df_train_x.drop(df_train_x.index[len(df_train_x)-1])\n"
   ]
  },
  {
   "cell_type": "code",
   "execution_count": null,
   "metadata": {},
   "outputs": [],
   "source": []
  },
  {
   "cell_type": "code",
   "execution_count": null,
   "metadata": {},
   "outputs": [],
   "source": [
    "df_train_y_shift = df_train_y.shift(-1).dropna()"
   ]
  },
  {
   "cell_type": "code",
   "execution_count": null,
   "metadata": {},
   "outputs": [],
   "source": [
    "df_train_y_shift"
   ]
  },
  {
   "cell_type": "code",
   "execution_count": null,
   "metadata": {},
   "outputs": [],
   "source": [
    "def scaleData(train_X , train_Y):\n",
    "    train_X_arr = train_X.values\n",
    "    train_Y_arr = train_Y.values\n",
    "    \n",
    "    scalerX = StandardScaler().fit(train_X_arr)\n",
    "    scaled_X = scalerX.transform(train_X_arr)\n",
    "    scalerY = StandardScaler().fit(train_Y_arr)\n",
    "    scaled_Y = scalerY.transform(train_Y_arr)\n",
    "    return scalerX, scaled_X, scalerY, scaled_Y\n",
    "scalerX, scaled_X, scalerY, scaled_Y = scaleData(df_train_x, df_train_y_shift)"
   ]
  },
  {
   "cell_type": "code",
   "execution_count": null,
   "metadata": {},
   "outputs": [],
   "source": [
    "scalerX"
   ]
  },
  {
   "cell_type": "code",
   "execution_count": null,
   "metadata": {},
   "outputs": [],
   "source": [
    "from keras.models import Sequential\n",
    "from keras.layers import LSTM, Dense, Dropout\n",
    "from keras import optimizers, metrics\n",
    "from keras.callbacks import EarlyStopping\n",
    "from keras.models import load_model\n",
    "from sklearn.externals import joblib \n",
    "BATCH_SIZE = 1\n",
    "ITERATION = 10\n",
    "EPOCH = 100\n",
    "NEURONS = 32\n",
    "MODEL_NAME = 'RL_Env_' +  str(ITERATION) + '_' + str(EPOCH) + '_' + str(NEURONS) + '.h5'"
   ]
  },
  {
   "cell_type": "code",
   "execution_count": null,
   "metadata": {},
   "outputs": [],
   "source": [
    "def create_model(train_x, train_y, batch_size, iteration, neurons, epoch):\n",
    "    x, y = train_x, train_y\n",
    "    x = train_x.reshape(train_x.shape[0], 1, train_x.shape[1])\n",
    "    \n",
    "    model = Sequential()\n",
    "    model.add(LSTM( int(neurons) , batch_input_shape=(batch_size, x.shape[1], x.shape[2]), stateful = False, return_sequences=True))\n",
    "    model.add(Dropout(0.2))\n",
    "\n",
    "    model.add(LSTM(neurons, batch_input_shape=(batch_size, x.shape[1], x.shape[2]), stateful=False))\n",
    "    model.add(Dropout(0.2))\n",
    "    model.add(Dense(train_y.shape[1]))\n",
    "    model.compile(loss='mse', optimizer='adam',metrics=[metrics.mse])\n",
    "    \n",
    "    es = EarlyStopping(monitor='val_loss', patience=10)\n",
    "    history = model.fit(x, y, epochs=EPOCH, batch_size=batch_size, verbose=1, shuffle=False, validation_split=0.2, callbacks=[es])\n",
    "    plt.plot(history.history['val_loss'], 'r')\n",
    "    \n",
    "#     for i in range(iteration):\n",
    "#         print('====round', str(i) +  '/' + str(iteration))\n",
    "#         history = model.fit(x, y, epochs=EPOCH, batch_size=batch_size,\n",
    "#                   verbose=1, shuffle=False, validation_split=0.2, callbacks=[es])\n",
    "#         #plt.plot(history.history['val_loss'], 'r')\n",
    "#         model.reset_states()\n",
    "    model.save(MODEL_NAME)\n",
    "    return model, history"
   ]
  },
  {
   "cell_type": "code",
   "execution_count": null,
   "metadata": {},
   "outputs": [],
   "source": [
    "%%time\n",
    "model, history = create_model(scaled_X, scaled_Y, BATCH_SIZE, ITERATION, NEURONS, EPOCH)"
   ]
  },
  {
   "cell_type": "code",
   "execution_count": null,
   "metadata": {},
   "outputs": [],
   "source": [
    "MODEL_NAME = '/storage/opt_project_test/optProjectTest/optProjectTest/codes/RL_Env_10_100_32.h5'"
   ]
  },
  {
   "cell_type": "code",
   "execution_count": null,
   "metadata": {},
   "outputs": [],
   "source": [
    "def load_LSTM_model(MODEL_NAME):\n",
    "    global model\n",
    "    model = load_model(MODEL_NAME)\n",
    "    return model\n",
    "def evaluateModel(test_X, scalerX):\n",
    "    test_X = scalerX.transform(test_X)\n",
    "    test_X = test_X.reshape(test_X.shape[0],1,test_X.shape[1])\n",
    "#     for i,arr in enumerate(test_X):\n",
    "    ans = model.predict(test_X[0:1,:,:])\n",
    "    ans = scalerY.inverse_transform(ans)\n",
    "    prediction = pd.DataFrame(data=ans, columns=['Impressions','Amount Spent (TWD)', 'Clicks (All)', 'CPC (All) (TWD)', 'bid'])\n",
    "    return prediction"
   ]
  },
  {
   "cell_type": "code",
   "execution_count": null,
   "metadata": {},
   "outputs": [],
   "source": [
    "load_LSTM_model(MODEL_NAME)\n",
    "df_next_state = evaluateModel(df_train_x, scalerX)"
   ]
  },
  {
   "cell_type": "code",
   "execution_count": null,
   "metadata": {},
   "outputs": [],
   "source": [
    "df_next_state"
   ]
  },
  {
   "cell_type": "code",
   "execution_count": null,
   "metadata": {},
   "outputs": [],
   "source": [
    "df_train_y_shift.head(2)"
   ]
  },
  {
   "cell_type": "code",
   "execution_count": null,
   "metadata": {},
   "outputs": [],
   "source": [
    "df_terminal_state = pd.DataFrame(data=np.array([[10, 50000, 10000, 5, 1650, 322]]),\n",
    "                     columns=['init_bid', 'Amount Spent (TWD)', 'Clicks (All)','CPC (All) (TWD)','daily_budget','daily_charge'])\n"
   ]
  },
  {
   "cell_type": "code",
   "execution_count": null,
   "metadata": {},
   "outputs": [],
   "source": [
    "df_terminal_state.info()"
   ]
  },
  {
   "cell_type": "code",
   "execution_count": null,
   "metadata": {},
   "outputs": [],
   "source": [
    "final_days = 31\n",
    "campaign_days = 31\n",
    "least_days = 25\n",
    "w_kpi = 1\n",
    "w_spend = 0.5 \n",
    "w_bid = 0.5\n",
    "w_time = 1\n",
    "w_init_bid=1\n",
    "m_kpi = df_terminal_state['Clicks (All)']/df_terminal_state['daily_charge']\n",
    "m_spend = ( df_terminal_state['daily_budget']-df_terminal_state['Amount Spent (TWD)'] ) / df_terminal_state['daily_budget']\n",
    "m_bid = ( df_terminal_state['CPC (All) (TWD)']-df_terminal_state['CPC (All) (TWD)'] ) / df_terminal_state['CPC (All) (TWD)']\n",
    "m_time = final_days / campaign_days\n",
    "m_init_bid = (df_terminal_state['init_bid']-df_terminal_state['CPC (All) (TWD)'])/df_terminal_state['CPC (All) (TWD)']\n",
    "q_terminal = w_kpi*m_kpi-w_spend*m_spend+w_bid*m_bid-w_init_bid*m_init_bid\n",
    "R = 1\n",
    "r = 0.1\n",
    "q_terminal"
   ]
  },
  {
   "cell_type": "code",
   "execution_count": null,
   "metadata": {
    "scrolled": true
   },
   "outputs": [],
   "source": [
    "q_target_day = q_terminal / campaign_days\n",
    "q_least_day = q_terminal / least_days\n",
    "q_target_day, q_least_day"
   ]
  },
  {
   "cell_type": "code",
   "execution_count": null,
   "metadata": {},
   "outputs": [],
   "source": [
    "def terminal_state():\n",
    "    df_terminal_state = pd.DataFrame(data=np.array([[10, 50000, 10000, 5, 1650, 322]]),\n",
    "                         columns=['init_bid', 'Amount Spent (TWD)', 'Clicks (All)','CPC (All) (TWD)','daily_budget','daily_charge'])\n",
    "    return df_terminal_state, 31"
   ]
  },
  {
   "cell_type": "code",
   "execution_count": null,
   "metadata": {},
   "outputs": [],
   "source": [
    "def init_state():\n",
    "    df_init_state = pd.DataFrame(data=np.array([[10, 0, 0, 0, 20, 1650, 322]]),\n",
    "                             columns=['init_bid', 'Impressions', 'Amount Spent (TWD)', 'Clicks (All)', 'CPC (All) (TWD)', 'daily_budget', 'daily_charge'])\n",
    "    return df_init_state, 0"
   ]
  },
  {
   "cell_type": "code",
   "execution_count": null,
   "metadata": {},
   "outputs": [],
   "source": [
    "def q_state_compute(df, day):\n",
    "    m_kpi = df['Clicks (All)'] / df['daily_charge']\n",
    "    m_spend = (df_terminal_state['daily_budget']-df['Amount Spent (TWD)'])/df_terminal_state['daily_budget'] \n",
    "    m_bid = (df_terminal_state['CPC (All) (TWD)']-df['CPC (All) (TWD)'])/df_terminal_state['CPC (All) (TWD)']\n",
    "    m_init_bid = (df['init_bid']-df_terminal_state['CPC (All) (TWD)'])/df_terminal_state['CPC (All) (TWD)']\n",
    "#     m_time = day / campaign_days\n",
    "    q_state = w_kpi*m_kpi-w_spend*m_spend+w_bid*m_bid-w_init_bid*m_init_bid#+w_time*m_time\n",
    "    return q_state"
   ]
  },
  {
   "cell_type": "code",
   "execution_count": null,
   "metadata": {},
   "outputs": [],
   "source": [
    "def predict_next_state(df):\n",
    "    df_next_state = evaluateModel(df, scalerX)\n",
    "    return df_next_state"
   ]
  },
  {
   "cell_type": "code",
   "execution_count": null,
   "metadata": {},
   "outputs": [],
   "source": [
    "df_terminal_state, day = terminal_state()\n",
    "q_terminal = q_state_compute(df_terminal_state, day)"
   ]
  },
  {
   "cell_type": "code",
   "execution_count": null,
   "metadata": {},
   "outputs": [],
   "source": [
    "init_bid=10\n",
    "daily_budget=1650\n",
    "daily_charge=322\n",
    "def next_state_conversion(df, init_bid, daily_budget, daily_charge):\n",
    "    df_temp = pd.DataFrame(data=np.array([[init_bid, daily_budget, daily_charge]]), columns=['init_bid', 'daily_budget', 'daily_charge'])\n",
    "    df_next_state = pd.concat([df, df_temp], axis=1)\n",
    "    return df_next_state"
   ]
  },
  {
   "cell_type": "code",
   "execution_count": null,
   "metadata": {},
   "outputs": [],
   "source": [
    "df_init_state, day = init_state()\n",
    "df_terminal_state, day = terminal_state()\n",
    "q_init_state = q_state_compute(df_init_state, day)\n",
    "q_terminal_state = q_state_compute(df_terminal_state, day)"
   ]
  },
  {
   "cell_type": "code",
   "execution_count": null,
   "metadata": {},
   "outputs": [],
   "source": [
    "df_next_state = predict_next_state(df_init_state)\n",
    "df_next_state = next_state_conversion(df_next_state, init_bid, daily_budget, daily_charge)\n",
    "q_next_state = q_state_compute(df_next_state, 0)\n",
    "q_next_state"
   ]
  },
  {
   "cell_type": "code",
   "execution_count": null,
   "metadata": {},
   "outputs": [],
   "source": [
    "import numpy as np\n",
    "gamma = 0.8\n",
    "epsilon = 0.5\n",
    "alpha = 0.9\n",
    "days=0\n",
    "init_bid=10\n",
    "df_init_state, day = init_state()\n",
    "df_terminal_state, day = terminal_state()\n",
    "q_init_state = q_state_compute(df_init_state, day)\n",
    "q_teminal_state = q_state_compute(df_terminal_state, day)\n",
    "root = TreeNode(q_init_state)\n",
    "mytreenode=root"
   ]
  },
  {
   "cell_type": "code",
   "execution_count": null,
   "metadata": {},
   "outputs": [],
   "source": []
  },
  {
   "cell_type": "code",
   "execution_count": null,
   "metadata": {},
   "outputs": [],
   "source": []
  },
  {
   "cell_type": "code",
   "execution_count": null,
   "metadata": {
    "scrolled": false
   },
   "outputs": [],
   "source": [
    "df_state = df_init_state\n",
    "q_state = q_init_state\n",
    "\n",
    "\n",
    "\n",
    "ACTION = [init_bid-1, init_bid+0, init_bid+1]\n",
    "for i, action in enumerate(ACTION):\n",
    "    INIT_BID = action\n",
    "    df_state_prime = predict_next_state(df_init_state)\n",
    "    \n",
    "    df_state_prime = next_state_conversion(df_state_prime, INIT_BID, daily_budget, daily_charge)\n",
    "    q_state_prime = q_state_compute(df_state_prime, day)\n",
    "    if i == 0:\n",
    "        currentnode = root.insertLeft(q_state_prime)\n",
    "    elif i == 1:\n",
    "        currentnode = root.insertMid(q_state_prime)\n",
    "    elif i == 2:\n",
    "        currentnode = root.insertRight(q_state_prime)\n",
    "    \n",
    "#         1.bid調整步伐大一點\n",
    "#         2.時間間隔細一點\n",
    "    time_reward = -0.1\n",
    "    reward = -0.1\n",
    "    print(q_target_day.iloc[0], q_least_day.iloc[0], q_state_prime.iloc[0], action)\n",
    "    if q_state_prime.iloc[0] > q_target_day.iloc[0] and q_state_prime.iloc[0] < q_least_day.iloc[0]:#判斷決定是否正巷或負向reward\n",
    "        time_reward = 0.1\n",
    "        reward = 0.1\n",
    "#         possible_actions.append(action)\n",
    "#         possible_q.append(q_next_state) \n",
    "\n",
    "### Update Q value\n",
    "q_state = q_state + alpha * ( reward+reward_time + gamma * q_state_prime.max() - q_state )\n",
    "currentnode.replaceSelfData(q_state)\n",
    "#             [[q1,a1], s01  s0\n",
    "#              [q2,a2], s02  s0\n",
    "#              [q3,a3]  s03  s0]\n",
    "#     days+1\n",
    "    \n",
    "#     if np.random.random() < epsilon:\n",
    "#         # choose random action\n",
    "#         action = possible_actions[np.random.randint(0, len(possible_actions))]\n",
    "#     else:\n",
    "#         # greedy\n",
    "#         action = possible_actions[np.argmax(possible_q)]\n",
    "        \n",
    "        \n",
    "#         q_next_state = q_state_compute(df_current_state, 0)"
   ]
  },
  {
   "cell_type": "code",
   "execution_count": 53,
   "metadata": {},
   "outputs": [],
   "source": [
    "class TreeNode(object):\n",
    "    def __init__(self,val,parent=None):\n",
    "        self.val=val\n",
    "        self.left=None\n",
    "        self.mid=None\n",
    "        self.right=None\n",
    "        self.parent=parent\n",
    "        self.currentnode=self\n",
    "    def insertLeft(self,val,parent=None,currentnode=None):\n",
    "        if self.left == None:\n",
    "            self.left = TreeNode(val, parent=self)\n",
    "            self.currentnode = self.left\n",
    "#             print(self.left)\n",
    "#             print(self.currentnode)\n",
    "#             print(self.left.val)\n",
    "#             print(self.currentnode.val)\n",
    "            return self.currentnode\n",
    "        node_index = self.left\n",
    "        self.left.insertLeft(val,currentnode=node_index)\n",
    "    \n",
    "    def insertMid(self,val,parent=None):\n",
    "        if self.mid == None:\n",
    "            self.mid = TreeNode(val, parent=parent)\n",
    "            self.mid.parent = self\n",
    "            currentnode = self.left\n",
    "            return currentnode\n",
    "        else:\n",
    "            self.mid.insertMid(val)\n",
    "    \n",
    "    def insertRight(self,val,parent=None):\n",
    "        currentnode = self\n",
    "        if self.right == None:\n",
    "            self.right = TreeNode(val, parent=parent)\n",
    "            self.right.parent = self\n",
    "            currentnode = self.left\n",
    "            return currentnode\n",
    "        else:\n",
    "            self.right.insertRight(val)\n",
    "    \n",
    "    def replaceSelfData(self, val):\n",
    "        self.val=val\n",
    "        return self.val\n",
    "    def replaceNodeData(self, val):\n",
    "        self.val = val\n",
    "        return self.val\n",
    "    def getAllChildData(self):\n",
    "        result=dict()\n",
    "        if self.left != None and self.mid != None and self.right != None:\n",
    "            result[0] = self.left.val\n",
    "            result[1] = self.mid.val\n",
    "            result[2] = self.right.val\n",
    "        else:\n",
    "            raise KeyError('Error, current node has no child.')\n",
    "        return result\n",
    "    def getMaxChildData(self):\n",
    "        if self.left != None and self.mid != None and self.right != None:\n",
    "            result = self.getAllChildData()\n",
    "            print(result)\n",
    "            key = sorted(result, key=result.get, reverse=True)\n",
    "            print(result.pop(key[1], key[2]))\n",
    "            "
   ]
  },
  {
   "cell_type": "code",
   "execution_count": 54,
   "metadata": {},
   "outputs": [],
   "source": [
    "mytreenode = TreeNode(0.0)"
   ]
  },
  {
   "cell_type": "code",
   "execution_count": null,
   "metadata": {},
   "outputs": [],
   "source": [
    "mytreenode.left"
   ]
  },
  {
   "cell_type": "code",
   "execution_count": null,
   "metadata": {},
   "outputs": [],
   "source": [
    "currentnode = mytreenode.insertLeft(100)"
   ]
  },
  {
   "cell_type": "code",
   "execution_count": null,
   "metadata": {},
   "outputs": [],
   "source": [
    "currentnode.currentnode.val"
   ]
  },
  {
   "cell_type": "code",
   "execution_count": null,
   "metadata": {},
   "outputs": [],
   "source": [
    "node = mytreenode.insertLeft(200)"
   ]
  },
  {
   "cell_type": "code",
   "execution_count": null,
   "metadata": {},
   "outputs": [],
   "source": [
    "node"
   ]
  },
  {
   "cell_type": "code",
   "execution_count": null,
   "metadata": {},
   "outputs": [],
   "source": [
    "currentnode = mytreenode.insertLeft(300)"
   ]
  },
  {
   "cell_type": "code",
   "execution_count": null,
   "metadata": {},
   "outputs": [],
   "source": [
    "mytreenode.left.left.left.val"
   ]
  },
  {
   "cell_type": "code",
   "execution_count": 55,
   "metadata": {},
   "outputs": [
    {
     "data": {
      "text/plain": [
       "<__main__.TreeNode at 0x7fa79864a668>"
      ]
     },
     "execution_count": 55,
     "metadata": {},
     "output_type": "execute_result"
    }
   ],
   "source": [
    "mytreenode.insertLeft(200)\n",
    "mytreenode.insertMid(201)\n",
    "mytreenode.insertRight(202)"
   ]
  },
  {
   "cell_type": "code",
   "execution_count": null,
   "metadata": {},
   "outputs": [],
   "source": []
  },
  {
   "cell_type": "code",
   "execution_count": 56,
   "metadata": {},
   "outputs": [
    {
     "name": "stdout",
     "output_type": "stream",
     "text": [
      "{0: 200, 1: 201, 2: 202}\n",
      "201\n"
     ]
    }
   ],
   "source": [
    "mytreenode.getMaxChildData()"
   ]
  },
  {
   "cell_type": "code",
   "execution_count": null,
   "metadata": {},
   "outputs": [],
   "source": [
    "currentnode.left.left.parent.val"
   ]
  },
  {
   "cell_type": "code",
   "execution_count": null,
   "metadata": {},
   "outputs": [],
   "source": []
  }
 ],
 "metadata": {
  "kernelspec": {
   "display_name": "Python 3",
   "language": "python",
   "name": "python3"
  },
  "language_info": {
   "codemirror_mode": {
    "name": "ipython",
    "version": 3
   },
   "file_extension": ".py",
   "mimetype": "text/x-python",
   "name": "python",
   "nbconvert_exporter": "python",
   "pygments_lexer": "ipython3",
   "version": "3.6.7"
  },
  "varInspector": {
   "cols": {
    "lenName": 16,
    "lenType": 16,
    "lenVar": 40
   },
   "kernels_config": {
    "python": {
     "delete_cmd_postfix": "",
     "delete_cmd_prefix": "del ",
     "library": "var_list.py",
     "varRefreshCmd": "print(var_dic_list())"
    },
    "r": {
     "delete_cmd_postfix": ") ",
     "delete_cmd_prefix": "rm(",
     "library": "var_list.r",
     "varRefreshCmd": "cat(var_dic_list()) "
    }
   },
   "types_to_exclude": [
    "module",
    "function",
    "builtin_function_or_method",
    "instance",
    "_Feature"
   ],
   "window_display": false
  }
 },
 "nbformat": 4,
 "nbformat_minor": 2
}
