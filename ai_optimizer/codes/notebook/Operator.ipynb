{
 "cells": [
  {
   "cell_type": "code",
   "execution_count": null,
   "metadata": {},
   "outputs": [],
   "source": [
    "# %load bid_operator.py\n",
    "import math\n",
    "import numpy as np\n",
    "\n",
    "ADAPTER = {\n",
    "    \"Amobee\":{\n",
    "        \"adset_id\":\"package_id\",\n",
    "        \"campaign_id\":\"ioid\",\n",
    "        \"adset_progress\":\"package_progress\",\n",
    "        \"campaign_progress\":\"io_progress\"\n",
    "    },\n",
    "    \"Facebook\":{\n",
    "        \"adset_id\":\"adset_id\",\n",
    "        \"campaign_id\":\"campaign_id\",\n",
    "        \"adset_progress\":\"adset_progress\",\n",
    "        \"campaign_progress\":\"campaign_progress\"\n",
    "    }\n",
    "}\n",
    "\n",
    "BID = 'bid'\n",
    "INIT_BID = 'init_bid'\n",
    "LAST_BID = 'last_bid'\n",
    "\n",
    "CENTER = 1\n",
    "WIDTH = 10\n",
    "BID_RANGE = 0.8\n",
    "\n",
    "def reverse_bid_amount(bid_amount):\n",
    "    init_bid = bid_amount / ( BID_RANGE * ( normalized_sigmoid_fkt(CENTER, WIDTH, 0) - 0.5 ) + 1 )\n",
    "    return init_bid\n",
    "\n",
    "def normalized_sigmoid_fkt(center, width, progress):\n",
    "    s= 1/( 1 + np.exp( width * ( progress-center ) ) )\n",
    "    return s\n",
    "\n",
    "def adjust(media, **status):\n",
    "#     adset_id = status.get(ADSET_ID)\n",
    "    init_bid = status.get(INIT_BID)\n",
    "    last_bid = status.get(LAST_BID)\n",
    "    ADSET_PROGRESS = ADAPTER[media].get(\"adset_progress\")\n",
    "    CAMPAIGN_PROGRESS = ADAPTER[media].get(\"campaign_progress\")\n",
    "    ADSET_ID = ADAPTER[media].get(\"adset_id\")\n",
    "    \n",
    "    adset_progress = status.get(ADSET_PROGRESS)\n",
    "    campaign_progress = status.get(CAMPAIGN_PROGRESS)\n",
    "    \n",
    "    if adset_progress > 1 and campaign_progress > 1:\n",
    "        bid = math.ceil(init_bid)\n",
    "    elif adset_progress > 1 and campaign_progress < 1:\n",
    "        bid = last_bid\n",
    "    else:\n",
    "        bid = init_bid + BID_RANGE*init_bid*( normalized_sigmoid_fkt(CENTER, WIDTH, adset_progress) - 0.5 )\n",
    "        bid = bid.astype(dtype=object)\n",
    "    if not str(adset_progress).split(\".\")[0].isdigit():\n",
    "        bid = init_bid\n",
    "    print( { ADAPTER[media].get(\"adset_id\"):status.get(ADSET_ID), BID:bid } )\n",
    "    return { ADAPTER[media].get(\"adset_id\"):status.get(ADSET_ID), BID:bid }\n",
    "    return { ADSET_ID:adset_id, BID:bid }\n",
    "\n",
    "if __name__=='__main__':\n",
    "    status = {'campaign_progress': -0.0, 'adset_id': 23843355587230564, 'init_bid': 11, 'adset_progress': -0.7373064458048254, 'last_bid': 15}\n",
    "    media = \"Facebook\"\n",
    "    status = {'package_progress': 0.0, 'io_progress': 0.0, 'package_id': 1605818545, 'last_bid': 450, 'init_bid': 450}\n",
    "    media = 'Amobee'\n",
    "    adjust(media, **status)"
   ]
  }
 ],
 "metadata": {
  "kernelspec": {
   "display_name": "Python 3",
   "language": "python",
   "name": "python3"
  },
  "language_info": {
   "codemirror_mode": {
    "name": "ipython",
    "version": 3
   },
   "file_extension": ".py",
   "mimetype": "text/x-python",
   "name": "python",
   "nbconvert_exporter": "python",
   "pygments_lexer": "ipython3",
   "version": "3.6.7"
  },
  "varInspector": {
   "cols": {
    "lenName": 16,
    "lenType": 16,
    "lenVar": 40
   },
   "kernels_config": {
    "python": {
     "delete_cmd_postfix": "",
     "delete_cmd_prefix": "del ",
     "library": "var_list.py",
     "varRefreshCmd": "print(var_dic_list())"
    },
    "r": {
     "delete_cmd_postfix": ") ",
     "delete_cmd_prefix": "rm(",
     "library": "var_list.r",
     "varRefreshCmd": "cat(var_dic_list()) "
    }
   },
   "types_to_exclude": [
    "module",
    "function",
    "builtin_function_or_method",
    "instance",
    "_Feature"
   ],
   "window_display": false
  }
 },
 "nbformat": 4,
 "nbformat_minor": 2
}
