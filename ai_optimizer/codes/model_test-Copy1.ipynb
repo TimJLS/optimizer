{
 "cells": [
  {
   "cell_type": "code",
   "execution_count": null,
   "metadata": {
    "hideCode": false,
    "hidePrompt": false
   },
   "outputs": [],
   "source": [
    "import mysql.connector\n",
    "import pandas as pd\n",
    "import datetime\n",
    "from pandas.io import sql\n",
    "from sqlalchemy import create_engine\n",
    "import pymysql\n",
    "pymysql.install_as_MySQLdb()\n",
    "import MySQLdb as db\n",
    "\n",
    "import numpy as np"
   ]
  },
  {
   "cell_type": "code",
   "execution_count": null,
   "metadata": {},
   "outputs": [],
   "source": [
    "#### GNC ####\n",
    "CAMPAIGN_ID = 23843180432940316\n",
    "date_12 = datetime.date(2018,11,12)\n",
    "date_13 = datetime.date(2018,11,13)\n",
    "minute = datetime.time(11,59,20).minute"
   ]
  },
  {
   "cell_type": "code",
   "execution_count": null,
   "metadata": {},
   "outputs": [],
   "source": [
    "def connectDB(db_name):\n",
    "    mydb = mysql.connector.connect(\n",
    "        host=\"localhost\", \n",
    "        user=\"root\",\n",
    "        passwd=\"adgeek1234\",\n",
    "        database=db_name\n",
    "    )\n",
    "    return mydb\n",
    "mydb = connectDB(\"ad_activity\")\n",
    "df_camp = pd.read_sql( \"SELECT * FROM by_campaign where campaign_id = %s\" %(CAMPAIGN_ID), con=mydb)\n",
    "\n",
    "df_gnc = df_camp[(df_camp.request_time.dt.date == date_12) | (df_camp.request_time.dt.date == date_13)]\n",
    "df_gnc = df_gnc[(df_gnc.request_time.dt.minute == minute)]"
   ]
  },
  {
   "cell_type": "code",
   "execution_count": null,
   "metadata": {},
   "outputs": [],
   "source": [
    "#### 蜂主義 ####\n",
    "CAMPAIGN_ID = 23843052139470246\n",
    "date_12 = datetime.date(2018,11,12)\n",
    "date_13 = datetime.date(2018,11,13)\n",
    "minute = datetime.time(11,59,20).minute"
   ]
  },
  {
   "cell_type": "code",
   "execution_count": null,
   "metadata": {},
   "outputs": [],
   "source": [
    "def connectDB(db_name):\n",
    "    mydb = mysql.connector.connect(\n",
    "        host=\"localhost\", \n",
    "        user=\"root\",\n",
    "        passwd=\"adgeek1234\",\n",
    "        database=db_name\n",
    "    )\n",
    "    return mydb\n",
    "mydb = connectDB(\"ad_activity\")\n",
    "df_camp = pd.read_sql( \"SELECT * FROM by_campaign where campaign_id = %s\" %(CAMPAIGN_ID), con=mydb)\n",
    "\n",
    "df_feng = df_camp[(df_camp.request_time.dt.date == date_12) | (df_camp.request_time.dt.date == date_13)]\n",
    "df_feng = df_feng[(df_feng.request_time.dt.minute == minute)]"
   ]
  },
  {
   "cell_type": "code",
   "execution_count": null,
   "metadata": {},
   "outputs": [],
   "source": [
    "#### 善住 #####\n",
    "CAMPAIGN_ID = 23843085681850632\n",
    "date_12 = datetime.date(2018,11,12)\n",
    "date_13 = datetime.date(2018,11,13)\n",
    "minute = datetime.time(11,59,20).minute"
   ]
  },
  {
   "cell_type": "code",
   "execution_count": null,
   "metadata": {},
   "outputs": [],
   "source": [
    "def connectDB(db_name):\n",
    "    mydb = mysql.connector.connect(\n",
    "        host=\"localhost\", \n",
    "        user=\"root\",\n",
    "        passwd=\"adgeek1234\",\n",
    "        database=db_name\n",
    "    )\n",
    "    return mydb\n",
    "mydb = connectDB(\"ad_activity\")\n",
    "df_camp = pd.read_sql( \"SELECT * FROM by_campaign where campaign_id = %s\" %(CAMPAIGN_ID), con=mydb)\n",
    "\n",
    "df_shan = df_camp[(df_camp.request_time.dt.date == date_12) | (df_camp.request_time.dt.date == date_13)]\n",
    "df_shan = df_shan[(df_shan.request_time.dt.minute == minute)]"
   ]
  },
  {
   "cell_type": "code",
   "execution_count": null,
   "metadata": {
    "hideCode": false,
    "hidePrompt": false
   },
   "outputs": [],
   "source": [
    "def connectDB(db_name):\n",
    "    mydb = mysql.connector.connect(\n",
    "        host=\"localhost\", \n",
    "        user=\"root\",\n",
    "        passwd=\"adgeek1234\",\n",
    "        database=db_name\n",
    "    )\n",
    "    return mydb\n",
    "mydb = connectDB(\"ad_activity\")\n",
    "df_camp = pd.read_sql( \"SELECT * FROM by_campaign where campaign_id = %s\" %(CAMPAIGN_ID), con=mydb)"
   ]
  },
  {
   "cell_type": "code",
   "execution_count": null,
   "metadata": {},
   "outputs": [],
   "source": [
    "frames = [df_gnc, df_shan, df_feng]"
   ]
  },
  {
   "cell_type": "code",
   "execution_count": null,
   "metadata": {},
   "outputs": [],
   "source": [
    "result = pd.concat(frames)"
   ]
  },
  {
   "cell_type": "code",
   "execution_count": null,
   "metadata": {
    "hideCode": false,
    "hidePrompt": false
   },
   "outputs": [],
   "source": [
    "len(result)"
   ]
  },
  {
   "cell_type": "code",
   "execution_count": null,
   "metadata": {},
   "outputs": [],
   "source": [
    "def make_train(df):\n",
    "    df['ratio'] = df['clicks'] / df['impressions']\n",
    "    df.sort_values(by=['ad_id','request_time']).reset_index(drop=True)\n",
    "    adid_list=df['ad_id'].unique()\n",
    "    ad_list = []\n",
    "\n",
    "    df_concat=pd.DataFrame(columns=df.columns)\n",
    "    \n",
    "    for ad in adid_list:\n",
    "        df_tmp = df[df.ad_id==ad]\n",
    "        if len(df_tmp) > 3:\n",
    "            for i in range( 1,len( df_tmp ) ):\n",
    "                df_tmp['clicks'].iloc[i-1] = df_tmp['clicks'].iloc[i] - df_tmp['clicks'].iloc[i-1]\n",
    "                df_tmp['impressions'].iloc[i-1] = df_tmp['impressions'].iloc[i] - df_tmp['impressions'].iloc[i-1]\n",
    "                df_tmp['reach'].iloc[i-1] = df_tmp['reach'].iloc[i] - df_tmp['reach'].iloc[i-1]\n",
    "            df_concat=pd.concat([df_concat,df_tmp], ignore_index=True)\n",
    "\n",
    "    for i in range(len(df['clicks'])):\n",
    "        if df_concat['clicks'].iloc[i]==0:\n",
    "            df_concat['clicks'].iloc[i]=df_concat['impressions'].iloc[i]*0.05\n",
    "    \n",
    "    for i in range(len(df['clicks'])):\n",
    "        if df_concat['cpc'].iloc[i]==0:\n",
    "            df_concat['cpc'].iloc[i]=np.mean(df['cpc'])\n",
    "        \n",
    "    df_drop = df_concat.drop(['age_max','age_min','flexible_spec','geo_locations', 'ratio', 'total_clicks','spend_cap', 'objective', 'start_time', 'stop_time', 'adset_id','campaign_id','avgspeed', 'speed'],axis=1)\n",
    "    df_drop = df_drop.sort_values(by=['ad_id','request_time']).reset_index(drop=True)\n",
    "    \n",
    "    df_drop['request_time'] = pd.to_datetime(df_drop['request_time'], infer_datetime_format=True)\n",
    "    hour = pd.get_dummies(df_drop['request_time'].dt.hour)\n",
    "    train = pd.concat( [df_drop, hour] ,axis=1)\n",
    "    train = train.reset_index(drop=True)\n",
    "    \n",
    "    return train"
   ]
  },
  {
   "cell_type": "code",
   "execution_count": null,
   "metadata": {
    "scrolled": true
   },
   "outputs": [],
   "source": [
    "TRAIN = make_train(result)\n",
    "TRAIN.head(3)"
   ]
  },
  {
   "cell_type": "code",
   "execution_count": null,
   "metadata": {
    "hideCode": false,
    "hidePrompt": false
   },
   "outputs": [],
   "source": [
    "import numpy as np\n",
    "import pandas as pd\n",
    "import seaborn as sns\n",
    "import matplotlib.pyplot as plt\n",
    "import datetime\n",
    "import calendar\n",
    "import random"
   ]
  },
  {
   "cell_type": "code",
   "execution_count": null,
   "metadata": {
    "hideCode": false,
    "hidePrompt": false
   },
   "outputs": [],
   "source": [
    "adid_list = TRAIN['ad_id'].unique()"
   ]
  },
  {
   "cell_type": "code",
   "execution_count": null,
   "metadata": {},
   "outputs": [],
   "source": []
  },
  {
   "cell_type": "code",
   "execution_count": null,
   "metadata": {
    "hideCode": false,
    "hidePrompt": false
   },
   "outputs": [],
   "source": [
    "train_x=pd.DataFrame(columns=TRAIN.columns)\n",
    "train_X=pd.DataFrame(columns=TRAIN.columns)\n",
    "train_Xs=pd.DataFrame()\n",
    "dfs=[]\n",
    "for i in range(len(adid_list)):\n",
    "    print(adid_list[i])\n",
    "    train_x = TRAIN[(TRAIN.ad_id == adid_list[i]) ]\n",
    "#     print(train_x.request_time.dt.hour)\n",
    "    train_X = pd.concat( [ train_x.shift(1), train_x.shift(2), train_x.shift(3) ], axis=1, sort=False )\n",
    "\n",
    "    train_X = train_X.dropna()\n",
    "#     print(train_x['request_time'])\n",
    "    train_X = train_X.drop(['request_time'], axis=1)\n",
    "\n",
    "    train_Xs = pd.concat( [ train_Xs, train_X ],axis=0,sort=False)\n",
    "    train_Xs = train_Xs.reset_index(drop=True)\n",
    "    print('-----------------------',len(train_Xs))"
   ]
  },
  {
   "cell_type": "code",
   "execution_count": null,
   "metadata": {
    "hideCode": false,
    "hidePrompt": false
   },
   "outputs": [],
   "source": [
    "len(train_Xs)"
   ]
  },
  {
   "cell_type": "code",
   "execution_count": null,
   "metadata": {
    "hideCode": false,
    "hidePrompt": false,
    "scrolled": true
   },
   "outputs": [],
   "source": [
    "train_y=[]\n",
    "train_Y=pd.DataFrame(columns=TRAIN.columns)\n",
    "for i in range(len(adid_list)):\n",
    "    print(adid_list[i])\n",
    "    train_y = TRAIN[(TRAIN.ad_id == adid_list[i]) ]\n",
    "#     print(train_y.request_time.dt.hour)\n",
    "#     train_y = train_y[(TRAIN.ad_id == adid_list[i]) & (TRAIN.request_time.dt.hour != 1)]\n",
    "#     train_y = train_y[(TRAIN.ad_id == adid_list[i]) & (TRAIN.request_time.dt.hour != 2)]\n",
    "#     print(train.request_time.dt.hour)\n",
    "#     train_y.drop(train_y.tail(3).index,inplace=True)\n",
    "    train_y.drop(train_y.head(3).index,inplace=True)\n",
    "    train_Y = pd.concat( [ train_Y, train_y ], ignore_index=True,sort=False )\n",
    "    print('-----------------------',len(train_Y))\n",
    "    train_Y = train_Y.drop(['request_time'], axis=1)\n",
    "#     train_Y = train_Y.dropna()\n",
    "train_Y = train_Y.reset_index(drop=True)\n",
    "train_Y.head()"
   ]
  },
  {
   "cell_type": "code",
   "execution_count": null,
   "metadata": {},
   "outputs": [],
   "source": [
    "train_Xs['ad_id'].iloc[0,0]"
   ]
  },
  {
   "cell_type": "code",
   "execution_count": null,
   "metadata": {},
   "outputs": [],
   "source": []
  },
  {
   "cell_type": "code",
   "execution_count": null,
   "metadata": {
    "hideCode": false,
    "hidePrompt": false
   },
   "outputs": [],
   "source": [
    "train_Xs = train_Xs.drop(['ad_id'], axis=1)\n",
    "train_Y = train_Y.drop(['ad_id'], axis=1)"
   ]
  },
  {
   "cell_type": "code",
   "execution_count": null,
   "metadata": {
    "hideCode": false,
    "hidePrompt": false
   },
   "outputs": [],
   "source": [
    "test_X = train_Xs.iloc[:21,:]\n",
    "train_X = train_Xs.iloc[21:,:]"
   ]
  },
  {
   "cell_type": "code",
   "execution_count": null,
   "metadata": {
    "hideCode": false,
    "hidePrompt": false
   },
   "outputs": [],
   "source": [
    "test_Y = train_Y.iloc[:21,:]\n",
    "train_Y = train_Y.iloc[21:,:]"
   ]
  },
  {
   "cell_type": "code",
   "execution_count": null,
   "metadata": {},
   "outputs": [],
   "source": [
    "train_Y.columns"
   ]
  },
  {
   "cell_type": "code",
   "execution_count": null,
   "metadata": {
    "hideCode": false,
    "hidePrompt": false
   },
   "outputs": [],
   "source": [
    "def scaleData(train_X , train_Y):\n",
    "    from sklearn.preprocessing import StandardScaler\n",
    "    train_X_arr = train_X.values\n",
    "    train_Y_arr = train_Y[['cpc','clicks']].values\n",
    "#     train_Y_arr = train_Y[['clicks','cpc']].values\n",
    "    #train_Y_arr = train_Y_arr.reshape(-1,1)\n",
    "\n",
    "    scalerX = StandardScaler().fit(train_X_arr)\n",
    "    scaled_X = scalerX.transform(train_X_arr)\n",
    "    scalerY = StandardScaler().fit(train_Y_arr)\n",
    "    scaled_Y = scalerY.transform(train_Y_arr)\n",
    "    return scalerX, scaled_X, scalerY, scaled_Y"
   ]
  },
  {
   "cell_type": "code",
   "execution_count": null,
   "metadata": {
    "hideCode": false,
    "hidePrompt": false
   },
   "outputs": [],
   "source": [
    "scalerX, scaled_X, scalerY, scaled_Y = scaleData(train_X , train_Y[['cpc','clicks']] )"
   ]
  },
  {
   "cell_type": "code",
   "execution_count": null,
   "metadata": {},
   "outputs": [],
   "source": [
    "from sklearn.externals import joblib\n",
    "scalerX_filename = \"IT_stateful_scalerX.pkl\"\n",
    "scalerY_filename = \"IT_stateful_scalerY.pkl\"\n",
    "joblib.dump(scalerX, scalerX_filename) \n",
    "joblib.dump(scalerY, scalerY_filename) "
   ]
  },
  {
   "cell_type": "code",
   "execution_count": null,
   "metadata": {
    "hideCode": false,
    "hidePrompt": false
   },
   "outputs": [],
   "source": [
    "from keras.models import Sequential\n",
    "from keras.layers import LSTM, Dense, Dropout\n",
    "from keras import optimizers, metrics\n",
    "from keras.callbacks import EarlyStopping\n",
    "from keras.models import load_model\n",
    "from sklearn.externals import joblib \n",
    "\n",
    "BATCH_SIZE = 1\n",
    "ITERATION = 10\n",
    "EPOCH = 500\n",
    "NEURONS = 128\n",
    "MODEL_NAME = 'IT_test_cpc_' +  str(ITERATION) + '_' + str(EPOCH) + '_' + str(NEURONS) + '.h5'\n"
   ]
  },
  {
   "cell_type": "code",
   "execution_count": null,
   "metadata": {
    "hideCode": false,
    "hidePrompt": false
   },
   "outputs": [],
   "source": [
    "def create_model(train, target, batch_size, iteration, neurons, epoch):\n",
    "    x, y = train, target\n",
    "    x = train.reshape(train.shape[0], 1, train.shape[1])\n",
    "    #x = train.values.reshape(train.shape[0], 1, train.shape[1])\n",
    "    \n",
    "    model = Sequential()\n",
    "    model.add(LSTM( int(neurons) , batch_input_shape=(batch_size, x.shape[1], x.shape[2]), stateful = True, return_sequences=True))\n",
    "    model.add(Dropout(0.2))\n",
    "\n",
    "    model.add(LSTM(neurons, batch_input_shape=(batch_size, x.shape[1], x.shape[2]), stateful=True))\n",
    "    model.add(Dropout(0.2))\n",
    "    model.add(Dense(target.shape[1]))\n",
    "    model.compile(loss='mse', optimizer='adam',metrics=[metrics.mse])\n",
    "    \n",
    "    es = EarlyStopping(monitor='val_loss', patience=10)\n",
    "#     history = model.fit(x, y, epochs=EPOCH, batch_size=batch_size, verbose=1, shuffle=False, validation_split=0.2, callbacks=[es])\n",
    "#     plt.plot(history.history['val_loss'], 'r')\n",
    "    \n",
    "    for i in range(iteration):\n",
    "        print('====round', str(i) +  '/' + str(iteration))\n",
    "        history = model.fit(x, y, epochs=EPOCH, batch_size=batch_size,\n",
    "                  verbose=1, shuffle=False, validation_split=0.2, callbacks=[es])\n",
    "        #plt.plot(history.history['val_loss'], 'r')\n",
    "        model.reset_states()\n",
    "    model.save(MODEL_NAME)\n",
    "    return model, history"
   ]
  },
  {
   "cell_type": "code",
   "execution_count": null,
   "metadata": {
    "hideCode": false,
    "hidePrompt": false,
    "scrolled": true
   },
   "outputs": [],
   "source": [
    "%%time\n",
    "model, history = create_model(scaled_X,scaled_Y, BATCH_SIZE, ITERATION, NEURONS, EPOCH)"
   ]
  },
  {
   "cell_type": "code",
   "execution_count": null,
   "metadata": {},
   "outputs": [],
   "source": [
    "MODEL_NAME = '/storage/opt_project_test/optProjectTest/optProjectTest/models/IT_test_cpc_20_500_128(1).h5'\n",
    "# MODEL_NAME = 'IT_stateful_alldata_20_500_128.h5'"
   ]
  },
  {
   "cell_type": "code",
   "execution_count": null,
   "metadata": {
    "hideCode": false,
    "hidePrompt": false
   },
   "outputs": [],
   "source": [
    "def evaluateModel(test_X,test_Y, scalerX, scalerY):\n",
    "    #load model and scaler\n",
    "    model = load_model(MODEL_NAME)\n",
    "    \n",
    "    \n",
    "    \n",
    "    \n",
    "#     scalerX = joblib.load(scalerX_filename) \n",
    "#     scalerY = joblib.load(scalerY_filename)     \n",
    "    \n",
    "    test_X = scalerX.transform(test_X)\n",
    "\n",
    "    test_X = test_X.reshape(test_X.shape[0],1,test_X.shape[1])\n",
    "    pred_click, pred_cpc = [], []\n",
    "    for i,arr in enumerate(test_X):\n",
    "        ans = model.predict(test_X[i:i+1,:,:])\n",
    "        ans = scalerY.inverse_transform(ans)\n",
    "        print(ans)\n",
    "#         pred_click.append(ans[0,0])\n",
    "#         pred_cpc.append(ans[0,1])\n",
    "        pred_cpc.append(ans[0])\n",
    "    pred = pd.DataFrame({'pred_cpc':pred_cpc})\n",
    "#     pred = pd.DataFrame({'pred_click':pred_click,'pred_cpc':pred_cpc})\n",
    "    ans = pd.DataFrame(data=ans)\n",
    "    frm = [pred,test_Y.reset_index(drop=True)]\n",
    "    pred = pd.concat(frm,axis=1,sort=False)\n",
    "    \n",
    "#     pred['delta_click'] = pred['pred_click']-pred['clicks']\n",
    "    pred['delta_cpc'] = pred['pred_cpc']-pred['cpc']\n",
    "    return pred"
   ]
  },
  {
   "cell_type": "code",
   "execution_count": null,
   "metadata": {
    "hideCode": false,
    "hidePrompt": false
   },
   "outputs": [],
   "source": [
    "pred = evaluateModel(test_X, test_Y[['cpc','clicks']], scalerX, scalerY)\n",
    "# print(pred.columns)\n",
    "# pred[['pred_click', 'clicks', 'delta_click' , 'pred_cpc' , 'cpc', 'delta_cpc', 'impressions']]\n",
    "# pred[['pred_cpc' , 'cpc', 'delta_cpc', 'impressions']]\n",
    "pred.head(10)"
   ]
  },
  {
   "cell_type": "code",
   "execution_count": null,
   "metadata": {
    "hideCode": false,
    "hidePrompt": false
   },
   "outputs": [],
   "source": [
    "import matplotlib.pyplot as plt\n",
    "%matplotlib inline"
   ]
  },
  {
   "cell_type": "code",
   "execution_count": null,
   "metadata": {
    "hideCode": false,
    "hidePrompt": false
   },
   "outputs": [],
   "source": [
    "plt.figure(figsize=(5,3))\n",
    "plt.plot(pred['cpc'])\n",
    "plt.plot(pred['pred_cpc'])\n",
    "# plt.plot(pred['delta_cpc'])"
   ]
  },
  {
   "cell_type": "code",
   "execution_count": null,
   "metadata": {
    "hideCode": false,
    "hidePrompt": false
   },
   "outputs": [],
   "source": [
    "plt.figure(figsize=(15,3))\n",
    "plt.plot(pred['cpc'])\n",
    "plt.plot(pred['pred_cpc'])\n",
    "# plt.plot(pred['delta_cpc'])"
   ]
  },
  {
   "cell_type": "code",
   "execution_count": null,
   "metadata": {
    "hideCode": false,
    "hidePrompt": false
   },
   "outputs": [],
   "source": [
    "plt.figure(figsize=(7,3))\n",
    "plt.plot(pred['cpc'])\n",
    "plt.plot(pred['pred_cpc'])\n",
    "# plt.plot(pred['delta_cpc'])"
   ]
  },
  {
   "cell_type": "code",
   "execution_count": null,
   "metadata": {},
   "outputs": [],
   "source": [
    "plt.figure(figsize=(15,3))\n",
    "plt.plot(pred['cpc'])\n",
    "plt.plot(pred['pred_cpc'])\n",
    "# plt.plot(pred['delta_cpc'])"
   ]
  },
  {
   "cell_type": "code",
   "execution_count": null,
   "metadata": {
    "hideCode": false,
    "hidePrompt": false
   },
   "outputs": [],
   "source": [
    "plt.figure(figsize=(7,3))\n",
    "plt.plot(pred['cpc'])\n",
    "plt.plot(pred['pred_cpc'])\n",
    "# plt.plot(pred['delta_cpc'])"
   ]
  },
  {
   "cell_type": "code",
   "execution_count": null,
   "metadata": {},
   "outputs": [],
   "source": [
    "plt.figure(figsize=(15,3))\n",
    "plt.plot(pred['cpc'].tail(200))\n",
    "plt.plot(pred['pred_cpc'].tail(200))\n",
    "# plt.plot(pred['delta_cpc'])"
   ]
  },
  {
   "cell_type": "code",
   "execution_count": null,
   "metadata": {
    "hideCode": false,
    "hidePrompt": false
   },
   "outputs": [],
   "source": [
    "train_Y[['impressions', 'daily_budget']].tail(200)"
   ]
  },
  {
   "cell_type": "code",
   "execution_count": 1,
   "metadata": {},
   "outputs": [],
   "source": [
    "def normalized_sigmoid_fkt(a, b, x):\n",
    "    s= 1/(1+np.exp( b*(x-a) ))\n",
    "    return s"
   ]
  },
  {
   "cell_type": "code",
   "execution_count": null,
   "metadata": {},
   "outputs": [],
   "source": [
    "3 * 0.8* ( normalized_sigmoid_fkt(a, b, 9) - 0.5 ) +3"
   ]
  },
  {
   "cell_type": "code",
   "execution_count": null,
   "metadata": {},
   "outputs": [],
   "source": [
    "import matplotlib.pyplot as plt\n",
    "import numpy as np\n",
    "a = 1\n",
    "b = 5\n",
    "bid_range = 0.8\n",
    "init_cpc = 500\n",
    "\n",
    "\n",
    "x = np.linspace(0, 2)\n",
    "# x_new = np.linspace(0, 1)\n",
    "\n",
    "tanh = np.linspace(0, 1)\n",
    "y = normalized_sigmoid_fkt(a, b, x)\n",
    "# for x_index in range(len(x)):\n",
    "#     if x[x_index] >= 0.5:    \n",
    "#         x_new[x_index]= 1 - x[x_index]\n",
    "#         tanh[x_index] = init_cpc * bid_range * ( normalized_sigmoid_fkt(a, b, x_new[x_index]) - 0.5 ) + init_cpc\n",
    "#     else:\n",
    "#         tanh[x_index]  = init_cpc * bid_range * ( normalized_sigmoid_fkt(a, b, x_new[x_index]) - 0.5 ) + init_cpc\n",
    "# ratio = \n",
    "# tanh = init_cpc * ratio\n",
    "\n",
    "# y1 = np.tanh(x)\n",
    "# plt.plot(x,y,label=\"Tanh\", color = \"red\")\n",
    "plt.plot(x,tanh,label=\"Tanh\", color = \"blue\")"
   ]
  },
  {
   "cell_type": "code",
   "execution_count": 17,
   "metadata": {},
   "outputs": [
    {
     "data": {
      "text/plain": [
       "392.8673344798104"
      ]
     },
     "execution_count": 17,
     "metadata": {},
     "output_type": "execute_result"
    }
   ],
   "source": [
    "bid_cap = 550\n",
    "ratio = BID_RANGE * ( normalized_sigmoid_fkt(CENTER, WIDTH, 0) - 0.5 ) + 1\n",
    "init_bid = bid_cap/ratio\n",
    "init_bid"
   ]
  },
  {
   "cell_type": "code",
   "execution_count": 5,
   "metadata": {},
   "outputs": [
    {
     "data": {
      "text/plain": [
       "1.399963681705038"
      ]
     },
     "execution_count": 5,
     "metadata": {},
     "output_type": "execute_result"
    }
   ],
   "source": [
    "ratio"
   ]
  },
  {
   "cell_type": "code",
   "execution_count": 15,
   "metadata": {},
   "outputs": [],
   "source": [
    "bid_amount = 550\n",
    "from bid_operator import *\n",
    "def reverse_bid_amount(bid_amount):\n",
    "    init_bid = bid_amount / ( BID_RANGE * ( normalized_sigmoid_fkt(CENTER, WIDTH, 0) - 0.5 ) + 1 )\n",
    "    return init_bid"
   ]
  },
  {
   "cell_type": "code",
   "execution_count": 10,
   "metadata": {},
   "outputs": [
    {
     "data": {
      "text/plain": [
       "1.399963681705038"
      ]
     },
     "execution_count": 10,
     "metadata": {},
     "output_type": "execute_result"
    }
   ],
   "source": [
    "( BID_RANGE * ( normalized_sigmoid_fkt(CENTER, WIDTH, 0) - 0.5 ) + 1)"
   ]
  },
  {
   "cell_type": "code",
   "execution_count": 16,
   "metadata": {},
   "outputs": [
    {
     "data": {
      "text/plain": [
       "392.8673344798104"
      ]
     },
     "execution_count": 16,
     "metadata": {},
     "output_type": "execute_result"
    }
   ],
   "source": [
    "reverse_bid_amount(bid_amount)"
   ]
  },
  {
   "cell_type": "code",
   "execution_count": 12,
   "metadata": {},
   "outputs": [],
   "source": [
    "bid = reverse_bid_amount(bid_amount)"
   ]
  },
  {
   "cell_type": "code",
   "execution_count": null,
   "metadata": {},
   "outputs": [],
   "source": [
    "import math\n",
    "bid=math.ceil(bid)\n",
    "bid=bid*1.1"
   ]
  },
  {
   "cell_type": "code",
   "execution_count": 18,
   "metadata": {},
   "outputs": [],
   "source": [
    "r = bid_amount * BID_RANGE * ( normalized_sigmoid_fkt(CENTER, WIDTH, 0) - 0.5 )+ bid_amount"
   ]
  },
  {
   "cell_type": "code",
   "execution_count": 19,
   "metadata": {},
   "outputs": [
    {
     "data": {
      "text/plain": [
       "769.980024937771"
      ]
     },
     "execution_count": 19,
     "metadata": {},
     "output_type": "execute_result"
    }
   ],
   "source": [
    "r"
   ]
  },
  {
   "cell_type": "code",
   "execution_count": null,
   "metadata": {},
   "outputs": [],
   "source": [
    "( normalized_sigmoid_fkt(a, b, 0.5) )\n",
    "plt.plot(x,r,label=\"Tanh\", color = \"blue\")"
   ]
  },
  {
   "cell_type": "code",
   "execution_count": null,
   "metadata": {},
   "outputs": [],
   "source": []
  }
 ],
 "metadata": {
  "hide_code_all_hidden": false,
  "kernelspec": {
   "display_name": "Python 3",
   "language": "python",
   "name": "python3"
  },
  "language_info": {
   "codemirror_mode": {
    "name": "ipython",
    "version": 3
   },
   "file_extension": ".py",
   "mimetype": "text/x-python",
   "name": "python",
   "nbconvert_exporter": "python",
   "pygments_lexer": "ipython3",
   "version": "3.6.7"
  }
 },
 "nbformat": 4,
 "nbformat_minor": 2
}
